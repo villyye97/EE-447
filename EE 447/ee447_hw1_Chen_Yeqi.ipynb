{
 "cells": [
  {
   "cell_type": "markdown",
   "metadata": {},
   "source": [
    "## Problem1 "
   ]
  },
  {
   "cell_type": "markdown",
   "metadata": {},
   "source": [
    "Kirchhoff’s and Newton’s laws lead to mathematical models that describe the relationship between the input and output of dynamic systems. One such model is the $linear, time-invariant\\ differential\\ equation$, Eq.(1.2):\n",
    "\n",
    "$\\frac{d^m c(t)}{dt^n}+d_{n-1}\\frac{d^{m-1} c(t)}{dt^{n-1}}+\\cdots+d_0c(t) = b_m\\frac{d^mr(t)}{dt^m} + b_{m-1}\\frac{d^{m-1}r(t)}{dt^{m-1}}+\\cdots +b_0r(t)$\n",
    "\n",
    "$(1.2)^4$\n",
    "\n",
    "Many systems can be approximately described by this equation, which relates the output, $c(t)$, to the input, $r(t)$, by way of the system parameters,$a_i$ and$b_j$. We assume the reader is familiar with differential equations. Problems and a bibliography are provided at the end of the chapter for you to review this subject.\n",
    "\n",
    "Nise, Norman S.. Control Systems Engineering, 7th Edition (Page 16). Wiley. Kindle Edition. "
   ]
  },
  {
   "cell_type": "markdown",
   "metadata": {},
   "source": [
    "## Problem2 "
   ]
  },
  {
   "cell_type": "markdown",
   "metadata": {},
   "source": [
    "### example 1 : cooling system in the refrigerator\n",
    "\n",
    "* the plant would be the condenser of the refrigerator; the input would be the temparature set by the user, and the output would be the current temparature. \n",
    "* the goal of the feedback system is to react to the disturbance--temparature change faster, so to maintain the current temparature around the desired temparature in a small range.\n",
    "* the controller would be implemented with switch which controls the condenser.\n",
    "* potential disturbances include natual head diffusion, temparature increase with the opening of the refrigerator door, etc.\n",
    "* potential noises in the sensor would be intrinsic flaws in the temparature-sensitive materials, hot/cold air flows through the sensors, etc.\n",
    "* the reference input is the temparature set by the user, by the digital controller or a knob.\n",
    "* the most important performance requirement for the system would be the disturbance rejection that keeps the temparature of the refrigerator in the right range. "
   ]
  },
  {
   "cell_type": "markdown",
   "metadata": {},
   "source": [
    "### example 2: the screen brigntness of the phone\n",
    "\n",
    "* the plant would be the light emmiter inside of the screen; input is the brightness automatically calculated by the system, and output is the current brigntness.\n",
    "* the goal of the feedback system is to react to the brightness change in the outside environment and deliver the signal to the controller. \n",
    "* the controller would be resistor or diodes that controls the voltage of the screen emitter. \n",
    "* disturbance would be temparature influence to the diodes and resistors.\n",
    "* noise would be the sudden change of the brightness, that doesn't accurately reflect the brightness of the environment, such as lightnings flashes. \n",
    "* the reference input is the brightness set by the user. \n",
    "* the most important performance would be the speed of the whole feedback process, thus to protect user's eyes. "
   ]
  },
  {
   "cell_type": "markdown",
   "metadata": {},
   "source": [
    "## problem 3: Nise p4\n",
    "\n",
    "\n",
    "![]<img src=\"https://docs.google.com/drawings/d/e/2PACX-1vQ9WmmD8lQCTjEIXbhQsLE-GYTQ5UFhh4jSk_noHqZVDnN0uGiasdDDCzoDbntwTGqyR1Xr0fmRvFJ8/pub?w=960&amp;h=720\">"
   ]
  },
  {
   "cell_type": "markdown",
   "metadata": {},
   "source": [
    "## problem 4: Nise P5\n",
    "\n",
    "<img src=\"https://docs.google.com/drawings/d/e/2PACX-1vQg5EuUFe_vFR3XlxaIyYfg-vrN6Sm-fvGz5Rq4O4PvlGrsEkNtGgFTFukGm5OO0y587wk1CS04Y1NG/pub?w=960&amp;h=720\">"
   ]
  },
  {
   "cell_type": "markdown",
   "metadata": {},
   "source": [
    "## Problem 5: Nise P6\n",
    "\n",
    "<img src=\"https://docs.google.com/drawings/d/e/2PACX-1vQPDwV8u0Wg6gvgp6FBFkxA_2YlcCpbvEM4nWdUtqow4jsnCWFfE9adlJTvbJ8QT-QBrkxOqLQF_Ab1/pub?w=960&amp;h=720\">\n"
   ]
  },
  {
   "cell_type": "markdown",
   "metadata": {},
   "source": [
    "## Problem 6: Nise P7\n",
    "\n",
    "<img src=\"https://docs.google.com/drawings/d/e/2PACX-1vTfqrnVEnVV8rUmrDzQEvX1SDxGlxyVkvWLNFJhHPjm2qBDUIPrmLzM6ey68RsPXue6-Nh8WOByNJi2/pub?w=960&amp;h=720\">\n"
   ]
  },
  {
   "cell_type": "markdown",
   "metadata": {},
   "source": [
    "## Problem 7, Nise P8\n",
    "\n",
    "<img src=\"https://docs.google.com/drawings/d/e/2PACX-1vSSzSPXLIUeSwZRUtzrHMU3-WCbCl2almVqy3XYvYT7FdmJdAi975oY114GS94d9PPfE-MvGMD0E26s/pub?w=960&amp;h=720\">"
   ]
  },
  {
   "cell_type": "code",
   "execution_count": null,
   "metadata": {},
   "outputs": [],
   "source": []
  }
 ],
 "metadata": {
  "kernelspec": {
   "display_name": "Python 3",
   "language": "python",
   "name": "python3"
  },
  "language_info": {
   "codemirror_mode": {
    "name": "ipython",
    "version": 3
   },
   "file_extension": ".py",
   "mimetype": "text/x-python",
   "name": "python",
   "nbconvert_exporter": "python",
   "pygments_lexer": "ipython3",
   "version": "3.7.0"
  }
 },
 "nbformat": 4,
 "nbformat_minor": 2
}
