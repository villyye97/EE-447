{
 "cells": [
  {
   "cell_type": "markdown",
   "metadata": {
    "colab_type": "text",
    "id": "T_5cuGGKdAMq"
   },
   "source": [
    "Homework 6 : YOUR NAME HERE\n",
    "===\n",
    "\n",
    "Steady State Error oand Performance\n",
    "\n",
    "**<span style=\"color: darkgreen\">Due Sunday May 5 at 11:59pm</span>**\n",
    "\n",
    "**Instructions:** Make a copy of this notebook that you can edit and save. If you are using CoLab, that means clicking File>Save and then \"SAVE A COPY IN DRIVE\". Then, for each problem, insert your answers directly underneath the problem description as one or more `Code` or `Markdown` cells as appropriate. Every code cell should execute without errors. TAs and graders may not have resources to debug your code. When you are satisfied with your answers upload your notebook to canvas. "
   ]
  },
  {
   "cell_type": "code",
   "execution_count": 2,
   "metadata": {},
   "outputs": [],
   "source": [
    "import numpy as np\n",
    "import scipy.integrate as spi\n",
    "import matplotlib.pyplot as plt\n",
    "from sympy import *\n",
    "%matplotlib inline\n",
    "\n",
    "# Comment out in Google colab \n",
    "init_printing(use_latex='mathjax')\n",
    "\n",
    "#Uncomment in below Google colab to render sympy equations nicely\n",
    "#def custom_latex_printer(exp,**options):\n",
    " #   from google.colab.output._publish import javascript\n",
    "  #  url = \"https://cdnjs.cloudflare.com/ajax/libs/mathjax/2.7.3/latest.js?config=default\"\n",
    "  #  javascript(url=url)\n",
    "   # return printing.latex(exp,**options)\n",
    "#init_printing(use_latex=\"mathjax\",latex_printer=custom_latex_printer)\n",
    "\n",
    "def center(plt):\n",
    "    plt.gca().spines['left'].set_position('center')\n",
    "    plt.gca().spines['bottom'].set_position('center')\n",
    "    plt.gca().spines['right'].set_color('none')\n",
    "    plt.gca().spines['top'].set_color('none')\n",
    "    plt.gca().set_aspect('equal') \n",
    "    \n",
    "def poles(plt,poles):\n",
    "    center(plt)\n",
    "    for p in poles:\n",
    "        plt.plot([p[0]-0.1,p[0]+0.1],[p[1]-0.1,p[1]+0.1],'black')\n",
    "        plt.plot([p[0]-0.1,p[0]+0.1],[p[1]+0.1,p[1]-0.1],'black')   \n",
    "        plt.xlabel(\"Im\", labelpad=100)\n",
    "        plt.ylabel(\"Re\", labelpad=140)    "
   ]
  },
  {
   "cell_type": "markdown",
   "metadata": {
    "colab_type": "text",
    "id": "xcnvZpo9dAMx"
   },
   "source": [
    "**Relevant Reading**\n",
    "\n",
    "Read up on steady state error and performance in Nise for more background."
   ]
  },
  {
   "cell_type": "markdown",
   "metadata": {
    "colab_type": "text",
    "collapsed": true,
    "id": "VO8WjiEWdAM0"
   },
   "source": [
    "# 1. Performance with a zero\n",
    "\n",
    "Show that any transfer function $G(s)$ with two complex poles ard one zero can be written in the form\n",
    "\n",
    "$$\n",
    "s T(s) + a T(s)\n",
    "$$\n",
    "\n",
    "where $T(s)$ is the archetypal 2nd order system discussed in the notes on Second Order systems.\n",
    "\n",
    "a) Using the step response of $T(s)$ and its derivative, write down\n",
    "  the step response of $G(s)$.\n",
    "\n",
    "b) Determine a state space representation of $G(s)$ using the same\n",
    "  $A$ matrix we used in the notebook second order systems (May 6) -- see the definition of Tcheck\n",
    "  in the Step Response section.\n",
    "  Show that your state representation\n",
    "  gives you the right transfer function (note: this subproblem is just a curiosity and does\n",
    "  not help with the next two parts).\n",
    "\n",
    "c) Find expressions for the peak time and percent overshoot for\n",
    "  $G(s)$ given a step input.  Compare these to the peak time and\n",
    "  percent overshoot for $T(s)$.\n",
    "\n",
    "d) Plot the step response of the transfer function\n",
    "$$\n",
    "\\frac{s+2}{s^2+s+1}\n",
    "$$\n",
    "and plot the response of $T(s)$ on the same axis and point out the\n",
    "differences predicted by your analysis.\n"
   ]
  },
  {
   "cell_type": "code",
   "execution_count": 11,
   "metadata": {},
   "outputs": [
    {
     "data": {
      "text/latex": [
       "$$\\frac{w^{2} \\left(a + s\\right)}{s^{2} + 2 s w z + w^{2}}$$"
      ],
      "text/plain": [
       "     2           \n",
       "    w ⋅(a + s)   \n",
       "─────────────────\n",
       " 2              2\n",
       "s  + 2⋅s⋅w⋅z + w "
      ]
     },
     "execution_count": 11,
     "metadata": {},
     "output_type": "execute_result"
    }
   ],
   "source": [
    "# Declare variables\n",
    "var(\"s\")\n",
    "var(\"w z t b a tau theta\", real=True, positive=True)\n",
    "T = (w**2)/(s**2 + 2*z*w*s + w**2)\n",
    "\n",
    "G = s*T+a*T\n",
    "G.simplify()"
   ]
  },
  {
   "cell_type": "markdown",
   "metadata": {},
   "source": [
    "a. Step response :\n",
    "$$y(t) = 1 - \\frac{1}{\\beta} e^{-\\zeta \\omega t} \\sin(\\omega \\beta t + \\theta)$$\n",
    "sT(s) is the derivative of T(s) in time domain, so\n",
    "$$G(t) =  \\frac{\\zeta \\omega}{\\beta} e^{-\\zeta \\omega t} \\sin(\\omega \\beta t + \\theta)- \\omega e^{-\\zeta \\omega t} \\cos(\\omega \\beta t + \\theta)+ a( 1 - \\frac{1}{\\beta} e^{-\\zeta \\omega t} \\sin(\\omega \\beta t + \\theta))$$\n"
   ]
  },
  {
   "cell_type": "code",
   "execution_count": 12,
   "metadata": {},
   "outputs": [
    {
     "data": {
      "text/latex": [
       "$$\\left[\\begin{matrix}\\frac{w^{2} \\left(a + s\\right)}{s^{2} + 2 s w z + w^{2}}\\end{matrix}\\right]$$"
      ],
      "text/plain": [
       "⎡     2           ⎤\n",
       "⎢    w ⋅(a + s)   ⎥\n",
       "⎢─────────────────⎥\n",
       "⎢ 2              2⎥\n",
       "⎣s  + 2⋅s⋅w⋅z + w ⎦"
      ]
     },
     "execution_count": 12,
     "metadata": {},
     "output_type": "execute_result"
    }
   ],
   "source": [
    "#B, \n",
    "# Can represent the system in state space though\n",
    "A = Matrix([\n",
    "    [-w*z, -w*b],\n",
    "    [w*b,-w*z]\n",
    "])\n",
    "B=Matrix([\n",
    "    [(a+s)*w],\n",
    "    [0]\n",
    "])\n",
    "C = Matrix([[0,1/b]])\n",
    "Tcheck = C*(s*eye(2)-A).inv()*B\n",
    "Tcheck = Tcheck.subs(b,sqrt(1-z**2))\n",
    "Tcheck.simplify()\n",
    "Tcheck"
   ]
  },
  {
   "cell_type": "code",
   "execution_count": 13,
   "metadata": {},
   "outputs": [
    {
     "data": {
      "text/latex": [
       "$$\\left[\\begin{matrix}\\frac{w^{2} \\left(a + s\\right)^{2}}{s^{2} + 2 s w z + w^{2}}\\end{matrix}\\right]$$"
      ],
      "text/plain": [
       "⎡    2        2   ⎤\n",
       "⎢   w ⋅(a + s)    ⎥\n",
       "⎢─────────────────⎥\n",
       "⎢ 2              2⎥\n",
       "⎣s  + 2⋅s⋅w⋅z + w ⎦"
      ]
     },
     "execution_count": 13,
     "metadata": {},
     "output_type": "execute_result"
    }
   ],
   "source": [
    "Gcheck = a*Tcheck + s*Tcheck \n",
    "Gcheck.simplify()\n",
    "Gcheck"
   ]
  },
  {
   "cell_type": "code",
   "execution_count": 14,
   "metadata": {},
   "outputs": [
    {
     "name": "stdout",
     "output_type": "stream",
     "text": [
      "False\n"
     ]
    },
    {
     "data": {
      "text/latex": [
       "$$\\left ( \\frac{a w^{2}}{s^{2} + 2 s w z + w^{2}} + \\frac{s w^{2}}{s^{2} + 2 s w z + w^{2}}, \\quad \\frac{w^{2} \\left(a + s\\right)^{2}}{s^{2} + 2 s w z + w^{2}}\\right )$$"
      ],
      "text/plain": [
       "⎛          2                   2            2        2   ⎞\n",
       "⎜       a⋅w                 s⋅w            w ⋅(a + s)    ⎟\n",
       "⎜───────────────── + ─────────────────, ─────────────────⎟\n",
       "⎜ 2              2    2              2   2              2⎟\n",
       "⎝s  + 2⋅s⋅w⋅z + w    s  + 2⋅s⋅w⋅z + w   s  + 2⋅s⋅w⋅z + w ⎠"
      ]
     },
     "execution_count": 14,
     "metadata": {},
     "output_type": "execute_result"
    }
   ],
   "source": [
    "print(Gcheck[0] == G)\n",
    "#WHAT? \n",
    "G,Gcheck[0]"
   ]
  },
  {
   "cell_type": "code",
   "execution_count": 15,
   "metadata": {},
   "outputs": [
    {
     "data": {
      "text/latex": [
       "$$a \\left(1 - \\frac{1}{\\beta} e^{- \\omega t \\zeta} \\sin{\\left (\\beta \\omega t + \\theta \\right )}\\right) - \\omega e^{- \\omega t \\zeta} \\cos{\\left (\\beta \\omega t + \\theta \\right )} + \\frac{\\omega \\zeta}{\\beta} e^{- \\omega t \\zeta} \\sin{\\left (\\beta \\omega t + \\theta \\right )}$$"
      ],
      "text/plain": [
       "  ⎛     -ω⋅t⋅ζ               ⎞                                   -ω⋅t⋅ζ       \n",
       "  ⎜    ℯ      ⋅sin(β⋅ω⋅t + θ)⎟      -ω⋅t⋅ζ                  ω⋅ζ⋅ℯ      ⋅sin(β⋅\n",
       "a⋅⎜1 - ──────────────────────⎟ - ω⋅ℯ      ⋅cos(β⋅ω⋅t + θ) + ──────────────────\n",
       "  ⎝              β           ⎠                                          β     \n",
       "\n",
       "        \n",
       "ω⋅t + θ)\n",
       "────────\n",
       "        "
      ]
     },
     "execution_count": 15,
     "metadata": {},
     "output_type": "execute_result"
    }
   ],
   "source": [
    "var(\"beta zeta omega t theta\",real = true,positive = true)\n",
    "Y = (1-1/beta*exp(-zeta*omega*t)*sin(omega*beta*t+theta))\n",
    "dY = diff(Y,t)\n",
    "\n",
    "G = dY + a*Y\n",
    "G"
   ]
  },
  {
   "cell_type": "code",
   "execution_count": 16,
   "metadata": {},
   "outputs": [
    {
     "data": {
      "text/latex": [
       "$$\\left ( \\left[\\begin{matrix}- w z & - b w\\\\b w & - w z\\end{matrix}\\right], \\quad \\left[\\begin{matrix}w \\left(a + s\\right)\\\\0\\end{matrix}\\right], \\quad \\left[\\begin{matrix}0 & \\frac{1}{b}\\end{matrix}\\right]\\right )$$"
      ],
      "text/plain": [
       "⎛⎡-w⋅z  -b⋅w⎤  ⎡w⋅(a + s)⎤  ⎡   1⎤⎞\n",
       "⎜⎢          ⎥, ⎢         ⎥, ⎢0  ─⎥⎟\n",
       "⎝⎣b⋅w   -w⋅z⎦  ⎣    0    ⎦  ⎣   b⎦⎠"
      ]
     },
     "execution_count": 16,
     "metadata": {},
     "output_type": "execute_result"
    }
   ],
   "source": [
    "# Can represent the system in state space though\n",
    "A = Matrix([\n",
    "    [-w*z, -w*b],\n",
    "    [w*b,-w*z]\n",
    "])\n",
    "B=Matrix([\n",
    "    [(a+s)*w],\n",
    "    [0]\n",
    "])\n",
    "C = Matrix([[0,1/b]])\n",
    "A,B,C"
   ]
  },
  {
   "cell_type": "markdown",
   "metadata": {},
   "source": [
    "Taking the derivative of G(t): \n",
    "$$G(t) =  \\frac{\\zeta \\omega}{\\beta} (-\\zeta \\omega e^{\\zeta \\omega t} \\sin(\\omega \\beta t + \\theta)+ \\omega \\beta e^{-\\zeta \\omega t} \\sin(\\omega \\beta t + \\theta) +\\omega(\\omega(-\\zeta \\omega e^{-\\zeta \\omega t} \\cos(\\omega \\beta + \\theta) + \\beta \\omega e^{\\zeta \\omega t} \\sin(\\omega \\beta t \\theta)- a( \\frac{\\zeta \\omega}{\\beta} e^{-\\zeta \\omega t} \\cos(\\omega \\beta t + \\theta)- \\omega e^{-\\zeta \\omega t} \\cos(\\omega \\beta t + \\theta))$$\n"
   ]
  },
  {
   "cell_type": "code",
   "execution_count": 17,
   "metadata": {},
   "outputs": [],
   "source": [
    "dG = diff(G,t)\n",
    "dG\n",
    "[g1,g2] = solve(dG, t)\n"
   ]
  },
  {
   "cell_type": "code",
   "execution_count": 18,
   "metadata": {},
   "outputs": [
    {
     "data": {
      "text/latex": [
       "$$\\left [ - \\frac{1}{\\beta \\omega} \\left(\\theta + 2 \\operatorname{atan}{\\left (\\frac{1}{\\beta \\left(a - 2 \\omega \\zeta\\right)} \\left(a \\zeta + \\beta^{2} \\omega - \\omega \\zeta^{2} - \\sqrt{\\beta^{2} + \\zeta^{2}} \\sqrt{a^{2} - 2 a \\omega \\zeta + \\beta^{2} \\omega^{2} + \\omega^{2} \\zeta^{2}}\\right) \\right )}\\right), \\quad - \\frac{1}{\\beta \\omega} \\left(\\theta + 2 \\operatorname{atan}{\\left (\\frac{1}{\\beta \\left(a - 2 \\omega \\zeta\\right)} \\left(a \\zeta + \\beta^{2} \\omega - \\omega \\zeta^{2} + \\sqrt{\\beta^{2} + \\zeta^{2}} \\sqrt{a^{2} - 2 a \\omega \\zeta + \\beta^{2} \\omega^{2} + \\omega^{2} \\zeta^{2}}\\right) \\right )}\\right), \\quad a \\left(- \\omega e^{- \\omega t \\zeta} \\cos{\\left (\\beta \\omega t + \\theta \\right )} + \\frac{\\omega \\zeta}{\\beta} e^{- \\omega t \\zeta} \\sin{\\left (\\beta \\omega t + \\theta \\right )}\\right) + \\beta \\omega^{2} e^{- \\omega t \\zeta} \\sin{\\left (\\beta \\omega t + \\theta \\right )} + 2 \\omega^{2} \\zeta e^{- \\omega t \\zeta} \\cos{\\left (\\beta \\omega t + \\theta \\right )} - \\frac{\\omega^{2} \\zeta^{2}}{\\beta} e^{- \\omega t \\zeta} \\sin{\\left (\\beta \\omega t + \\theta \\right )}\\right ]$$"
      ],
      "text/plain": [
       "⎡ ⎛          ⎛                       _________    ____________________________\n",
       "⎢ ⎜          ⎜       2        2     ╱  2    2    ╱  2              2  2    2  \n",
       "⎢ ⎜          ⎜a⋅ζ + β ⋅ω - ω⋅ζ  - ╲╱  β  + ζ  ⋅╲╱  a  - 2⋅a⋅ω⋅ζ + β ⋅ω  + ω ⋅ζ\n",
       "⎢-⎜θ + 2⋅atan⎜────────────────────────────────────────────────────────────────\n",
       "⎢ ⎝          ⎝                          β⋅(a - 2⋅ω⋅ζ)                         \n",
       "⎢─────────────────────────────────────────────────────────────────────────────\n",
       "⎣                                       β⋅ω                                   \n",
       "\n",
       "__⎞⎞    ⎛          ⎛                       _________    ______________________\n",
       "2 ⎟⎟    ⎜          ⎜       2        2     ╱  2    2    ╱  2              2  2 \n",
       "  ⎟⎟    ⎜          ⎜a⋅ζ + β ⋅ω - ω⋅ζ  + ╲╱  β  + ζ  ⋅╲╱  a  - 2⋅a⋅ω⋅ζ + β ⋅ω  \n",
       "──⎟⎟   -⎜θ + 2⋅atan⎜──────────────────────────────────────────────────────────\n",
       "  ⎠⎠    ⎝          ⎝                          β⋅(a - 2⋅ω⋅ζ)                   \n",
       "─────, ───────────────────────────────────────────────────────────────────────\n",
       "                                              β⋅ω                             \n",
       "\n",
       "________⎞⎞                                                                    \n",
       "   2  2 ⎟⎟                                                                    \n",
       "+ ω ⋅ζ  ⎟⎟                                                                    \n",
       "────────⎟⎟     ⎛                                  -ω⋅t⋅ζ               ⎞      \n",
       "        ⎠⎠     ⎜     -ω⋅t⋅ζ                  ω⋅ζ⋅ℯ      ⋅sin(β⋅ω⋅t + θ)⎟      \n",
       "───────────, a⋅⎜- ω⋅ℯ      ⋅cos(β⋅ω⋅t + θ) + ──────────────────────────⎟ + β⋅ω\n",
       "               ⎝                                         β             ⎠      \n",
       "\n",
       "                                                                              \n",
       "                                                                              \n",
       "                                                                              \n",
       "                                                            2  2  -ω⋅t⋅ζ      \n",
       "2  -ω⋅t⋅ζ                     2    -ω⋅t⋅ζ                  ω ⋅ζ ⋅ℯ      ⋅sin(β\n",
       " ⋅ℯ      ⋅sin(β⋅ω⋅t + θ) + 2⋅ω ⋅ζ⋅ℯ      ⋅cos(β⋅ω⋅t + θ) - ───────────────────\n",
       "                                                                        β     \n",
       "\n",
       "         ⎤\n",
       "         ⎥\n",
       "         ⎥\n",
       "         ⎥\n",
       "⋅ω⋅t + θ)⎥\n",
       "─────────⎥\n",
       "         ⎦"
      ]
     },
     "execution_count": 18,
     "metadata": {},
     "output_type": "execute_result"
    }
   ],
   "source": [
    "[g1,g2,dG]"
   ]
  },
  {
   "cell_type": "code",
   "execution_count": 19,
   "metadata": {},
   "outputs": [
    {
     "data": {
      "text/latex": [
       "$$a \\left(1 + \\frac{1}{\\beta} e^{\\frac{\\zeta}{\\beta} \\left(\\theta + 2 \\operatorname{atan}{\\left (\\frac{1}{\\beta \\left(a - 2 \\omega \\zeta\\right)} \\left(a \\zeta + \\beta^{2} \\omega - \\omega \\zeta^{2} - \\sqrt{\\beta^{2} + \\zeta^{2}} \\sqrt{a^{2} - 2 a \\omega \\zeta + \\beta^{2} \\omega^{2} + \\omega^{2} \\zeta^{2}}\\right) \\right )}\\right)} \\sin{\\left (2 \\operatorname{atan}{\\left (\\frac{1}{\\beta \\left(a - 2 \\omega \\zeta\\right)} \\left(a \\zeta + \\beta^{2} \\omega - \\omega \\zeta^{2} - \\sqrt{\\beta^{2} + \\zeta^{2}} \\sqrt{a^{2} - 2 a \\omega \\zeta + \\beta^{2} \\omega^{2} + \\omega^{2} \\zeta^{2}}\\right) \\right )} \\right )}\\right) - a - \\omega e^{\\frac{\\zeta}{\\beta} \\left(\\theta + 2 \\operatorname{atan}{\\left (\\frac{1}{\\beta \\left(a - 2 \\omega \\zeta\\right)} \\left(a \\zeta + \\beta^{2} \\omega - \\omega \\zeta^{2} - \\sqrt{\\beta^{2} + \\zeta^{2}} \\sqrt{a^{2} - 2 a \\omega \\zeta + \\beta^{2} \\omega^{2} + \\omega^{2} \\zeta^{2}}\\right) \\right )}\\right)} \\cos{\\left (2 \\operatorname{atan}{\\left (\\frac{1}{\\beta \\left(a - 2 \\omega \\zeta\\right)} \\left(a \\zeta + \\beta^{2} \\omega - \\omega \\zeta^{2} - \\sqrt{\\beta^{2} + \\zeta^{2}} \\sqrt{a^{2} - 2 a \\omega \\zeta + \\beta^{2} \\omega^{2} + \\omega^{2} \\zeta^{2}}\\right) \\right )} \\right )} - \\frac{\\omega \\zeta}{\\beta} e^{\\frac{\\zeta}{\\beta} \\left(\\theta + 2 \\operatorname{atan}{\\left (\\frac{1}{\\beta \\left(a - 2 \\omega \\zeta\\right)} \\left(a \\zeta + \\beta^{2} \\omega - \\omega \\zeta^{2} - \\sqrt{\\beta^{2} + \\zeta^{2}} \\sqrt{a^{2} - 2 a \\omega \\zeta + \\beta^{2} \\omega^{2} + \\omega^{2} \\zeta^{2}}\\right) \\right )}\\right)} \\sin{\\left (2 \\operatorname{atan}{\\left (\\frac{1}{\\beta \\left(a - 2 \\omega \\zeta\\right)} \\left(a \\zeta + \\beta^{2} \\omega - \\omega \\zeta^{2} - \\sqrt{\\beta^{2} + \\zeta^{2}} \\sqrt{a^{2} - 2 a \\omega \\zeta + \\beta^{2} \\omega^{2} + \\omega^{2} \\zeta^{2}}\\right) \\right )} \\right )}$$"
      ],
      "text/plain": [
       "  ⎛       ⎛          ⎛                       _________    ____________________\n",
       "  ⎜       ⎜          ⎜       2        2     ╱  2    2    ╱  2              2  \n",
       "  ⎜       ⎜          ⎜a⋅ζ + β ⋅ω - ω⋅ζ  - ╲╱  β  + ζ  ⋅╲╱  a  - 2⋅a⋅ω⋅ζ + β ⋅ω\n",
       "  ⎜     ζ⋅⎜θ + 2⋅atan⎜────────────────────────────────────────────────────────\n",
       "  ⎜       ⎝          ⎝                          β⋅(a - 2⋅ω⋅ζ)                 \n",
       "  ⎜     ──────────────────────────────────────────────────────────────────────\n",
       "  ⎜                                             β                             \n",
       "  ⎜    ℯ                                                                      \n",
       "  ⎜                                                                           \n",
       "a⋅⎜1 + ───────────────────────────────────────────────────────────────────────\n",
       "  ⎝                                                                           \n",
       "\n",
       "__________⎞⎞                                                                  \n",
       "2    2  2 ⎟⎟                                                                  \n",
       "  + ω ⋅ζ  ⎟⎟                                                                  \n",
       "──────────⎟⎟                                                                  \n",
       "          ⎠⎠    ⎛      ⎛                       _________    __________________\n",
       "────────────    ⎜      ⎜       2        2     ╱  2    2    ╱  2              2\n",
       "                ⎜      ⎜a⋅ζ + β ⋅ω - ω⋅ζ  - ╲╱  β  + ζ  ⋅╲╱  a  - 2⋅a⋅ω⋅ζ + β \n",
       "            ⋅sin⎜2⋅atan⎜──────────────────────────────────────────────────────\n",
       "                ⎝      ⎝                          β⋅(a - 2⋅ω⋅ζ)               \n",
       "──────────────────────────────────────────────────────────────────────────────\n",
       "          β                                                                   \n",
       "\n",
       "              ⎞                                                               \n",
       "              ⎟                                                               \n",
       "              ⎟            ⎛          ⎛                       _________    ___\n",
       "              ⎟            ⎜          ⎜       2        2     ╱  2    2    ╱  2\n",
       "____________⎞⎞⎟            ⎜          ⎜a⋅ζ + β ⋅ω - ω⋅ζ  - ╲╱  β  + ζ  ⋅╲╱  a \n",
       "  2    2  2 ⎟⎟⎟          ζ⋅⎜θ + 2⋅atan⎜───────────────────────────────────────\n",
       "⋅ω  + ω ⋅ζ  ⎟⎟⎟            ⎝          ⎝                          β⋅(a - 2⋅ω⋅ζ)\n",
       "────────────⎟⎟⎟          ─────────────────────────────────────────────────────\n",
       "            ⎠⎠⎟                                                  β            \n",
       "──────────────⎟ - a - ω⋅ℯ                                                     \n",
       "              ⎠                                                               \n",
       "\n",
       "                                                                              \n",
       "                                                                              \n",
       "___________________________⎞⎞                                                 \n",
       "              2  2    2  2 ⎟⎟                                                 \n",
       " - 2⋅a⋅ω⋅ζ + β ⋅ω  + ω ⋅ζ  ⎟⎟                                                 \n",
       "───────────────────────────⎟⎟                                                 \n",
       "                           ⎠⎠    ⎛      ⎛                       _________    _\n",
       "─────────────────────────────    ⎜      ⎜       2        2     ╱  2    2    ╱ \n",
       "                                 ⎜      ⎜a⋅ζ + β ⋅ω - ω⋅ζ  - ╲╱  β  + ζ  ⋅╲╱  \n",
       "                             ⋅cos⎜2⋅atan⎜─────────────────────────────────────\n",
       "                                 ⎝      ⎝                          β⋅(a - 2⋅ω⋅\n",
       "\n",
       "                                         ⎛          ⎛                       __\n",
       "                                         ⎜          ⎜       2        2     ╱  \n",
       "                                         ⎜          ⎜a⋅ζ + β ⋅ω - ω⋅ζ  - ╲╱  β\n",
       "                                       ζ⋅⎜θ + 2⋅atan⎜─────────────────────────\n",
       "                                         ⎝          ⎝                         \n",
       "                                       ───────────────────────────────────────\n",
       "_____________________________⎞⎞                                               \n",
       " 2              2  2    2  2 ⎟⎟   ω⋅ζ⋅ℯ                                       \n",
       "a  - 2⋅a⋅ω⋅ζ + β ⋅ω  + ω ⋅ζ  ⎟⎟                                               \n",
       "─────────────────────────────⎟⎟ - ────────────────────────────────────────────\n",
       "ζ)                           ⎠⎠                                               \n",
       "\n",
       "_______    ______________________________⎞⎞                                   \n",
       "2    2    ╱  2              2  2    2  2 ⎟⎟                                   \n",
       "  + ζ  ⋅╲╱  a  - 2⋅a⋅ω⋅ζ + β ⋅ω  + ω ⋅ζ  ⎟⎟                                   \n",
       "─────────────────────────────────────────⎟⎟                                   \n",
       " β⋅(a - 2⋅ω⋅ζ)                           ⎠⎠    ⎛      ⎛                       \n",
       "───────────────────────────────────────────    ⎜      ⎜       2        2     ╱\n",
       " β                                             ⎜      ⎜a⋅ζ + β ⋅ω - ω⋅ζ  - ╲╱ \n",
       "                                           ⋅sin⎜2⋅atan⎜───────────────────────\n",
       "                                               ⎝      ⎝                       \n",
       "──────────────────────────────────────────────────────────────────────────────\n",
       "                                       β                                      \n",
       "\n",
       "                                             \n",
       "                                             \n",
       "                                             \n",
       "                                             \n",
       "_________    ______________________________⎞⎞\n",
       "  2    2    ╱  2              2  2    2  2 ⎟⎟\n",
       " β  + ζ  ⋅╲╱  a  - 2⋅a⋅ω⋅ζ + β ⋅ω  + ω ⋅ζ  ⎟⎟\n",
       "───────────────────────────────────────────⎟⎟\n",
       "   β⋅(a - 2⋅ω⋅ζ)                           ⎠⎠\n",
       "─────────────────────────────────────────────\n",
       "                                             "
      ]
     },
     "execution_count": 19,
     "metadata": {},
     "output_type": "execute_result"
    }
   ],
   "source": [
    "Ga = G.subs(t,g1)\n",
    "Ga\n",
    "#so the Percent Overshoot is M_p - steady-state value \n",
    "#the steady-state value is a\n",
    "\n",
    "Gaa = Ga -a\n",
    "Gaa"
   ]
  },
  {
   "cell_type": "code",
   "execution_count": 20,
   "metadata": {},
   "outputs": [
    {
     "data": {
      "text/latex": [
       "$$0.343407433560547$$"
      ],
      "text/plain": [
       "0.343407433560547"
      ]
     },
     "execution_count": 20,
     "metadata": {},
     "output_type": "execute_result"
    }
   ],
   "source": [
    "Gaa_percentOvershoot = Gaa.subs(beta,sqrt(1-zeta**2)).subs(theta,acos(zeta)).subs(a,2).subs(zeta,0.5).subs(omega,1)+2\n",
    "abs(Gaa_percentOvershoot)\n"
   ]
  },
  {
   "cell_type": "markdown",
   "metadata": {},
   "source": [
    "From the Lecture notes we know that the percent overshoot for T is \n",
    "$$\n",
    "y(t) = 1 - \\frac{1}{\\beta} e^{-\\zeta \\omega t} \\sin(\\omega \\beta t + \\theta).\n",
    "$$\n",
    "\n",
    "\n",
    "The percent overshoot is just $M_p-1$ or \n",
    "\n",
    "$$\n",
    "\\mathrm{P.O.} = e^{-\\zeta \\frac{\\pi}{\\beta}}\n",
    "$$\n",
    "Plug in the value we calculated in part D: $\\zeta = 0.5, \\beta = \\sqrt{1-\\zeta^2}$$\n",
    "\n",
    "$$P.O = e^{-0.5*\\frac{\\pi}{\\sqrt{1-0.25}}} = 0.163$$\n",
    "for the G(s): "
   ]
  },
  {
   "cell_type": "markdown",
   "metadata": {},
   "source": [
    "compare to the graph in the problem d, the result matches the graph. so this is the percent overshoot."
   ]
  },
  {
   "cell_type": "markdown",
   "metadata": {},
   "source": [
    "D. "
   ]
  },
  {
   "cell_type": "code",
   "execution_count": 21,
   "metadata": {},
   "outputs": [
    {
     "data": {
      "text/latex": [
       "$$1 - 1.15470053837925 e^{- 0.5 t} \\sin{\\left (0.866025403784439 t + 1.0471975511966 \\right )}$$"
      ],
      "text/plain": [
       "                      -0.5⋅t                                           \n",
       "1 - 1.15470053837925⋅ℯ      ⋅sin(0.866025403784439⋅t + 1.0471975511966)"
      ]
     },
     "execution_count": 21,
     "metadata": {},
     "output_type": "execute_result"
    }
   ],
   "source": [
    "#beta zeta omega t theta\n",
    "Gg = G.subs(beta,sqrt(1-zeta**2)).subs(theta,acos(zeta)).subs(a,2).subs(zeta,0.5).subs(omega,1)\n",
    "Gg\n",
    "Yy = Y.subs(beta,sqrt(1-zeta**2)).subs(theta,acos(zeta)).subs(zeta,0.5).subs(omega,1)\n",
    "Yy"
   ]
  },
  {
   "cell_type": "code",
   "execution_count": 22,
   "metadata": {},
   "outputs": [
    {
     "data": {
      "image/png": "[encoded data removed]",
      "text/plain": [
       "<Figure size 432x288 with 1 Axes>"
      ]
     },
     "metadata": {
      "needs_background": "light"
     },
     "output_type": "display_data"
    }
   ],
   "source": [
    "#\n",
    "# Fixed zeta, varying omega\n",
    "#\n",
    "tvals = np.linspace(0,10,100)\n",
    "fg = lambdify(t,Gg,'numpy')\n",
    "plt.plot(tvals,fg(tvals),label=\"$G(s)$ \") \n",
    "ft = lambdify(t,Yy,'numpy')\n",
    "plt.plot(tvals,ft(tvals),label=\"Y(s)\" )\n",
    "plt.xlabel(\"t\")\n",
    "plt.ylabel(\"Step response\")\n",
    "plt.title(\"Step response, varying $\\omega$\")\n",
    "plt.legend();"
   ]
  },
  {
   "cell_type": "markdown",
   "metadata": {
    "colab_type": "text",
    "id": "BvQPzzMcdAM3"
   },
   "source": [
    "# 2. Controller Design\n",
    "\n",
    "Consider the transfer function \n",
    "\n",
    "$$\n",
    "G(s) = \\frac{10}{s+1}.\n",
    "$$\n",
    "\n",
    "Find a negative feedback controller with at least two tunable gains\n",
    "that (1) results in zero steady state error (and show why it works);\n",
    "(2) Gives a settling time of 4 seconds; (3) has 10% overshoot. Use\n",
    "the standard 2nd order approximation. Plot the step response of the\n",
    "system and compare the standard approximation with the plot."
   ]
  },
  {
   "cell_type": "markdown",
   "metadata": {},
   "source": [
    "Consider a system with the following block diagram:\n",
    "\n",
    "\n",
    "<img width=40% src=\"https://raw.githubusercontent.com/klavins/ECE447/master/images/test-signal-control.png\">\n",
    "So we set that the $G_c(s) =K_p+ K_I/s$. so the total transfer function\n",
    "$$ T = \\frac{(K_p+\\frac{K_I}{s})*G(s)}{1+((K_p+\\frac{K_I}{s}))(G(s))}$$\n",
    "$$= \\frac{((K_p+\\frac{K_I}{s}))(\\frac{10}{s+1})}{1+((K_p+\\frac{K_I}{s}))(\\frac{10}{s+1})}  $$\n",
    "$$\\frac{10(K_I+K_ps)}{s^2+((10K_p+1)s+10K_I}  $$\n",
    "\n",
    "compare to the form $$T =  \\frac{\\omega^2}{s^2+2\\zeta \\omega s +\\omega^2}$$\n",
    "\n",
    "As we did in problem 1, the equation can decomposite into: \n",
    "$$Y =  T(s) + \\frac{K_p}{K_I}sT(s)$$. \n",
    "\n",
    "so $\\omega^2 = 10K_I$, $10k_p+1 = 2\\zeta \\omega$.\n",
    "So with the parameterized standard form, we can relate this to the given specification: \n",
    "<br>\n",
    "$e(\\infty) = 0 $: that's why I choose $G_c(s) =K_p K_I/s$ based on the lecture notes, and I'll check it later. ;\n",
    "<br>\n",
    "settling  time $T_s$ = 4: $T_s = 4* \\frac{1}{\\zeta \\omega}= 4$ \n",
    "***\n",
    "Percent Overshoot = 0.1: P.O. = $e^{-\\zeta \\frac{\\pi}{\\beta}}= 0.1$\n",
    "***\n",
    "Solving these equations we get : $ \\zeta\\omega = 1$, $\\zeta = \\frac{1}{\\omega} = \\frac{1}{\\sqrt{10K_I}}$. \n",
    "<br> \n",
    "since $\\zeta \\omega = 1, so 10K_p+1 =2, so K_p = 0.1;$ \n",
    "plug in to the percent overshoot formula: P.O = 0.1 =$ e^{-\\zeta\\frac{\\pi}{\\beta}}$ where $\\beta =\\sqrt{ 1-\\zeta^2}$:\n",
    "$$ \\zeta = -1.892,0.528$$ since it's under squareroot, we choose 0.528. So $\\zeta = 0.528$, $\\omega = 1/\\zeta = 1.894$, so $\\omega^2 = 3.587 = 10K_I$, so $K_I = 0.3587.$  \n",
    "<br>\n",
    "So plugging in the values into the transfer function: \n",
    "\n",
    "$$T(s) =  \\frac{3.587}{s^2+2s +3.587}$$\n",
    "and the total transfer function : \n",
    "$$Y = T(s) + \\frac{K_p}{K_I}sT(s) \\frac{3.587}{s^2+2s +3.587}+\\frac{s}{s^2+2s +3.587} = \\frac{3.587+s}{s^2+2s +3.587}$$ "
   ]
  },
  {
   "cell_type": "markdown",
   "metadata": {},
   "source": [
    "Below is the graph for the standard approximation and the step response. As we can see, the overshoot is about 0.1 and the settling time is 4s. \n",
    "<br>\n",
    "check for the steady-state error: $$\n",
    "e(\\infty) = \\lim_{s \\rightarrow \\infty} s(R(s)-Y(s)) = s(1-\\frac{3.587+s}{s^2+2s+3.587}) = 0. \n",
    "$$\n",
    "which meets the specificaiton of the question. "
   ]
  },
  {
   "cell_type": "code",
   "execution_count": 23,
   "metadata": {},
   "outputs": [
    {
     "data": {
      "text/latex": [
       "$$1.0 {G_{4, 4}^{0, 4}\\left(\\begin{matrix} -3.587, 1, 0.5 - 1.82674574038097 i, 0.5 + 1.82674574038097 i &  \\\\ & -2.587, 0, -0.5 - 1.82674574038097 i, -0.5 + 1.82674574038097 i \\end{matrix} \\middle| {e^{t}} \\right)}$$"
      ],
      "text/plain": [
       "    ╭─╮0, 4 ⎛-3.587, 1, 0.5 - 1.82674574038097⋅ⅈ, 0.5 + 1.82674574038097⋅ⅈ    \n",
       "1.0⋅│╶┐     ⎜                                                                 \n",
       "    ╰─╯4, 4 ⎝                                                               -2\n",
       "\n",
       "                                                              │  t⎞\n",
       "                                                              │ ℯ ⎟\n",
       ".587, 0, -0.5 - 1.82674574038097⋅ⅈ, -0.5 + 1.82674574038097⋅ⅈ │   ⎠"
      ]
     },
     "execution_count": 23,
     "metadata": {},
     "output_type": "execute_result"
    }
   ],
   "source": [
    "#the step response of the system.\n",
    "Sr = 1/s*(3.587+s)/(s**2+s+3.587)\n",
    "Yr = inverse_laplace_transform(Sr, s, t)\n",
    "Yr"
   ]
  },
  {
   "cell_type": "markdown",
   "metadata": {},
   "source": [
    "## Since the plotting method cannot recognize the result above, I choose to use calculator to get the inverse laplace transform. "
   ]
  },
  {
   "cell_type": "code",
   "execution_count": 3,
   "metadata": {},
   "outputs": [
    {
     "ename": "NameError",
     "evalue": "name 't' is not defined",
     "output_type": "error",
     "traceback": [
      "\u001b[1;31m---------------------------------------------------------------------------\u001b[0m",
      "\u001b[1;31mNameError\u001b[0m                                 Traceback (most recent call last)",
      "\u001b[1;32m<ipython-input-3-02ccacec6beb>\u001b[0m in \u001b[0;36m<module>\u001b[1;34m()\u001b[0m\n\u001b[0;32m      3\u001b[0m \u001b[1;31m#beta zeta omega t theta\u001b[0m\u001b[1;33m\u001b[0m\u001b[1;33m\u001b[0m\u001b[0m\n\u001b[0;32m      4\u001b[0m \u001b[1;31m## Inverse Laplace transform of step response\u001b[0m\u001b[1;33m\u001b[0m\u001b[1;33m\u001b[0m\u001b[0m\n\u001b[1;32m----> 5\u001b[1;33m \u001b[0mTs\u001b[0m \u001b[1;33m=\u001b[0m \u001b[1;36m1\u001b[0m\u001b[1;33m-\u001b[0m\u001b[0mexp\u001b[0m\u001b[1;33m(\u001b[0m\u001b[1;33m-\u001b[0m\u001b[0mt\u001b[0m\u001b[1;33m/\u001b[0m\u001b[1;36m2\u001b[0m\u001b[1;33m)\u001b[0m\u001b[1;33m*\u001b[0m\u001b[1;33m(\u001b[0m\u001b[0mcos\u001b[0m\u001b[1;33m(\u001b[0m\u001b[1;36m1.8268\u001b[0m\u001b[1;33m*\u001b[0m\u001b[0mt\u001b[0m\u001b[1;33m)\u001b[0m\u001b[1;33m+\u001b[0m\u001b[1;36m0.27371078\u001b[0m\u001b[1;33m*\u001b[0m\u001b[0msin\u001b[0m\u001b[1;33m(\u001b[0m\u001b[1;36m1.82675\u001b[0m\u001b[1;33m*\u001b[0m\u001b[0mt\u001b[0m\u001b[1;33m)\u001b[0m\u001b[1;33m)\u001b[0m\u001b[1;33m\u001b[0m\u001b[0m\n\u001b[0m\u001b[0;32m      6\u001b[0m \u001b[0mT\u001b[0m \u001b[1;33m=\u001b[0m \u001b[0mY\u001b[0m\u001b[1;33m.\u001b[0m\u001b[0msubs\u001b[0m\u001b[1;33m(\u001b[0m\u001b[0mbeta\u001b[0m\u001b[1;33m,\u001b[0m\u001b[0msqrt\u001b[0m\u001b[1;33m(\u001b[0m\u001b[1;36m1\u001b[0m\u001b[1;33m-\u001b[0m\u001b[0mzeta\u001b[0m\u001b[1;33m**\u001b[0m\u001b[1;36m2\u001b[0m\u001b[1;33m)\u001b[0m\u001b[1;33m)\u001b[0m\u001b[1;33m.\u001b[0m\u001b[0msubs\u001b[0m\u001b[1;33m(\u001b[0m\u001b[0mtheta\u001b[0m\u001b[1;33m,\u001b[0m\u001b[0macos\u001b[0m\u001b[1;33m(\u001b[0m\u001b[0mzeta\u001b[0m\u001b[1;33m)\u001b[0m\u001b[1;33m)\u001b[0m\u001b[1;33m.\u001b[0m\u001b[0msubs\u001b[0m\u001b[1;33m(\u001b[0m\u001b[0mzeta\u001b[0m\u001b[1;33m,\u001b[0m\u001b[1;36m0.528\u001b[0m\u001b[1;33m)\u001b[0m\u001b[1;33m.\u001b[0m\u001b[0msubs\u001b[0m\u001b[1;33m(\u001b[0m\u001b[0momega\u001b[0m\u001b[1;33m,\u001b[0m\u001b[1;36m1.894\u001b[0m\u001b[1;33m)\u001b[0m\u001b[1;33m\u001b[0m\u001b[0m\n\u001b[0;32m      7\u001b[0m \u001b[0mT\u001b[0m\u001b[1;33m\u001b[0m\u001b[0m\n",
      "\u001b[1;31mNameError\u001b[0m: name 't' is not defined"
     ]
    }
   ],
   "source": [
    "tvals = np.linspace(0,10,100)\n",
    "\n",
    "#beta zeta omega t theta\n",
    "## Inverse Laplace transform of step response\n",
    "Ts = 1-exp(-t/2)*(cos(1.8268*t)+0.27371078*sin(1.82675*t))\n",
    "T = Y.subs(beta,sqrt(1-zeta**2)).subs(theta,acos(zeta)).subs(zeta,0.528).subs(omega,1.894)\n",
    "T\n",
    "# Fixed zeta, varying omega\n",
    "#\n",
    "fg = lambdify(t,T,'numpy')\n",
    "fy = lambdify(t,Ts,'numpy')\n",
    "plt.plot(tvals,fg(tvals),label=\"standard approximation \") \n",
    "plt.plot(tvals,fy(tvals),label = \"Step response\")\n",
    "plt.xlabel(\"t\")\n",
    "plt.ylabel(\"amplitude \")\n",
    "plt.title(\"Standard approximation and Step response \")\n",
    "plt.legend();\n"
   ]
  },
  {
   "cell_type": "markdown",
   "metadata": {},
   "source": [
    "As we can see, the step response is more unstable than the standard approximation, but their steady-state reach to the same value finally. "
   ]
  },
  {
   "cell_type": "markdown",
   "metadata": {
    "colab_type": "text",
    "id": "zNi2uBWDdAM5"
   },
   "source": [
    "# 3. Sensitivity Revisited\n",
    "\n",
    "Determine a formula for the\n",
    "sensitivity of the percent overshoot of the controlled system to each\n",
    "of the gains in your controller for problem (2). To which gain is the\n",
    "system more sensitive? Repeat for the sensitivity of the settling\n",
    "time. Plot these sensitivities in two plots. First, plot the sensitivity of P.O. to \n",
    "gain one. Overlay several plots of that sensitivity, each one for a different value of gain two. \n",
    "Second, make a similar plot of the sensitivity of P.O. to gain two."
   ]
  },
  {
   "cell_type": "markdown",
   "metadata": {},
   "source": [
    "The percent overshoot formula of the overall parameterized system: \n",
    "$$Y(s) = \\frac{10(K_I+K_ps)}{s^2+((10K_p+1)s+10K_I} = T(s) + \\frac{K_p}{K_I}sT(s) = (1+\\frac{K_p}{K_I}s)T(s)$$\n",
    "From the standard form of the second order system: \n",
    "$$\n",
    "y(t) = 1 - \\frac{1}{\\beta} e^{-\\zeta \\omega t} \\sin(\\omega \\beta t + \\theta).\n",
    "$$\n",
    "where  $\\omega^2 = 10K_I$, $10K_p+1 = 2\\zeta \\omega,\\theta = \\cos^{-1} \\zeta .and \\beta =\\sqrt{ 1-\\zeta^2}$.\n",
    "<br>\n",
    "so $Y(s) = \\frac{K_p}{K_I}dy+y$ \n",
    "="
   ]
  },
  {
   "cell_type": "markdown",
   "metadata": {},
   "source": [
    "The percent overshoot formula: $$P.O = e^{-\\zeta\\frac{\\pi}{\\beta}}$$ \n"
   ]
  },
  {
   "cell_type": "code",
   "execution_count": 4,
   "metadata": {},
   "outputs": [
    {
     "data": {
      "text/latex": [
       "$$e^{- \\frac{0.496729413289805 \\left(10 K_{p} + 1\\right)}{K_{I}^{0.5} \\left(- \\frac{0.025}{K_{I}^{1.0}} \\left(10 K_{p} + 1\\right)^{2} + 1\\right)^{0.5}}}$$"
      ],
      "text/plain": [
       "                                                                          -0.5\n",
       "                       -0.5             ⎛           -1.0            2    ⎞    \n",
       " -0.496729413289805⋅K_I    ⋅(10⋅Kₚ + 1)⋅⎝- 0.025⋅K_I    ⋅(10⋅Kₚ + 1)  + 1⎠    \n",
       "ℯ                                                                             "
      ]
     },
     "execution_count": 4,
     "metadata": {},
     "output_type": "execute_result"
    }
   ],
   "source": [
    "var(\"beta zeta omega t theta K_p K_I\",real = true,positive = true)\n",
    "po = exp(-zeta*np.pi/beta)\n",
    "po= po.subs(beta,(1-zeta**2)**0.5).subs(zeta,(10*K_p+1)/(2*(10*K_I)**0.5))\n",
    "po"
   ]
  },
  {
   "cell_type": "code",
   "execution_count": 5,
   "metadata": {},
   "outputs": [
    {
     "data": {
      "text/latex": [
       "$$K_{p} \\left(- \\frac{0.00620911766612256 \\left(10 K_{p} + 1\\right) \\left(200 K_{p} + 20\\right)}{K_{I}^{1.5} \\left(- \\frac{0.025}{K_{I}^{1.0}} \\left(10 K_{p} + 1\\right)^{2} + 1\\right)^{1.5}} - \\frac{4.96729413289805}{K_{I}^{0.5} \\left(- \\frac{0.025}{K_{I}^{1.0}} \\left(10 K_{p} + 1\\right)^{2} + 1\\right)^{0.5}}\\right)$$"
      ],
      "text/plain": [
       "   ⎛                                                                          \n",
       "   ⎜                         -1.5                           ⎛           -1.0  \n",
       "Kₚ⋅⎝- 0.00620911766612256⋅K_I    ⋅(10⋅Kₚ + 1)⋅(200⋅Kₚ + 20)⋅⎝- 0.025⋅K_I    ⋅(\n",
       "\n",
       "                -1.5                                                          \n",
       "          2    ⎞                           -0.5 ⎛           -1.0            2 \n",
       "10⋅Kₚ + 1)  + 1⎠     - 4.96729413289805⋅K_I    ⋅⎝- 0.025⋅K_I    ⋅(10⋅Kₚ + 1)  \n",
       "\n",
       "    -0.5⎞\n",
       "   ⎞    ⎟\n",
       "+ 1⎠    ⎠"
      ]
     },
     "execution_count": 5,
     "metadata": {},
     "output_type": "execute_result"
    }
   ],
   "source": [
    "Spop = diff(po,K_p)*K_p/po\n",
    "Spop"
   ]
  },
  {
   "cell_type": "code",
   "execution_count": 6,
   "metadata": {},
   "outputs": [
    {
     "data": {
      "text/latex": [
       "$$K_{I} \\left(\\frac{0.00620911766612256 \\left(10 K_{p} + 1\\right)^{3}}{K_{I}^{2.5} \\left(- \\frac{0.025}{K_{I}^{1.0}} \\left(10 K_{p} + 1\\right)^{2} + 1\\right)^{1.5}} + \\frac{0.248364706644903 \\left(10 K_{p} + 1\\right)}{K_{I}^{1.5} \\left(- \\frac{0.025}{K_{I}^{1.0}} \\left(10 K_{p} + 1\\right)^{2} + 1\\right)^{0.5}}\\right)$$"
      ],
      "text/plain": [
       "    ⎛                                                                         \n",
       "    ⎜                       -2.5            3 ⎛           -1.0            2   \n",
       "K_I⋅⎝0.00620911766612256⋅K_I    ⋅(10⋅Kₚ + 1) ⋅⎝- 0.025⋅K_I    ⋅(10⋅Kₚ + 1)  + \n",
       "\n",
       "  -1.5                                                                        \n",
       " ⎞                            -1.5             ⎛           -1.0            2  \n",
       "1⎠     + 0.248364706644903⋅K_I    ⋅(10⋅Kₚ + 1)⋅⎝- 0.025⋅K_I    ⋅(10⋅Kₚ + 1)  +\n",
       "\n",
       "   -0.5⎞\n",
       "  ⎞    ⎟\n",
       " 1⎠    ⎠"
      ]
     },
     "execution_count": 6,
     "metadata": {},
     "output_type": "execute_result"
    }
   ],
   "source": [
    "Spoi = diff(po,K_I)*K_I/po\n",
    "Spoi"
   ]
  },
  {
   "cell_type": "code",
   "execution_count": 7,
   "metadata": {},
   "outputs": [
    {
     "data": {
      "text/latex": [
       "$$\\sqrt{3}$$"
      ],
      "text/plain": [
       "√3"
      ]
     },
     "execution_count": 7,
     "metadata": {},
     "output_type": "execute_result"
    }
   ],
   "source": [
    "sqrt(3)"
   ]
  },
  {
   "cell_type": "code",
   "execution_count": 12,
   "metadata": {},
   "outputs": [],
   "source": [
    "def spop(kp,Ki): \n",
    "    return kp*(-sqrt(10)*pi/(2*sqrt(Ki)*sqrt(1-((10*kp)+1)**2/(40*Ki))) + sqrt(10)*pi*(10*kp+1)*(200*kp+20)/(1600*Ki**1.5*sqrt(1-((10*kp)+1)**2/(40*Ki))**3))\n"
   ]
  },
  {
   "cell_type": "code",
   "execution_count": 13,
   "metadata": {
    "scrolled": false
   },
   "outputs": [
    {
     "name": "stderr",
     "output_type": "stream",
     "text": [
      "C:\\Users\\Villy\\Anaconda3\\lib\\site-packages\\numpy\\__init__.py:1: RuntimeWarning: invalid value encountered in power\n",
      "  \"\"\"\n",
      "No handles with labels found to put in legend.\n"
     ]
    },
    {
     "data": {
      "image/png": "[encoded data removed]",
      "text/plain": [
       "<Figure size 432x288 with 1 Axes>"
      ]
     },
     "metadata": {
      "needs_background": "light"
     },
     "output_type": "display_data"
    }
   ],
   "source": [
    "kp = np.linspace(0,10,100)\n",
    "f = lambdify(K_p,Spop.subs(K_I, 1),'numpy')\n",
    "plt.plot(kp,f(kp))\n",
    "plt.xlabel(\"t\")\n",
    "plt.ylabel(\"Step response\")\n",
    "plt.title(\"Step response, varying $\\omega$\")\n",
    "plt.legend();"
   ]
  },
  {
   "cell_type": "code",
   "execution_count": 15,
   "metadata": {},
   "outputs": [
    {
     "name": "stderr",
     "output_type": "stream",
     "text": [
      "C:\\Users\\Villy\\Anaconda3\\lib\\site-packages\\numpy\\__init__.py:1: RuntimeWarning: divide by zero encountered in reciprocal\n",
      "  \"\"\"\n",
      "C:\\Users\\Villy\\Anaconda3\\lib\\site-packages\\numpy\\__init__.py:1: RuntimeWarning: invalid value encountered in power\n",
      "  \"\"\"\n",
      "C:\\Users\\Villy\\Anaconda3\\lib\\site-packages\\numpy\\__init__.py:1: RuntimeWarning: divide by zero encountered in power\n",
      "  \"\"\"\n",
      "C:\\Users\\Villy\\Anaconda3\\lib\\site-packages\\numpy\\__init__.py:1: RuntimeWarning: invalid value encountered in multiply\n",
      "  \"\"\"\n",
      "No handles with labels found to put in legend.\n"
     ]
    },
    {
     "data": {
      "image/png": "[encoded data removed]",
      "text/plain": [
       "<Figure size 432x288 with 1 Axes>"
      ]
     },
     "metadata": {
      "needs_background": "light"
     },
     "output_type": "display_data"
    }
   ],
   "source": [
    "ki = np.linspace(0,10,100)\n",
    "f = lambdify(K_I,Spoi.subs(K_p, 1),'numpy')\n",
    "plt.plot(ki,f(ki))\n",
    "plt.xlabel(\"t\")\n",
    "plt.ylabel(\"Step response\")\n",
    "plt.title(\"Step response, varying $\\omega$\")\n",
    "plt.legend();"
   ]
  },
  {
   "cell_type": "markdown",
   "metadata": {},
   "source": [
    "I don't know where does this error come from; I searched online for hours but I couldn't solve this problem. "
   ]
  },
  {
   "cell_type": "code",
   "execution_count": 37,
   "metadata": {},
   "outputs": [
    {
     "data": {
      "text/latex": [
       "$$\\frac{2}{10 K_{p} + 1}$$"
      ],
      "text/plain": [
       "    2    \n",
       "─────────\n",
       "10⋅Kₚ + 1"
      ]
     },
     "execution_count": 37,
     "metadata": {},
     "output_type": "execute_result"
    }
   ],
   "source": [
    "Ts = 1/(zeta*omega)\n",
    "Ts= Ts.subs(beta,sqrt(1-zeta**2)).subs(zeta,(10*K_p+1)/(2*omega)).subs(omega,2*sqrt(10*K_I))\n",
    "\n",
    "Ts\n"
   ]
  },
  {
   "cell_type": "code",
   "execution_count": 38,
   "metadata": {},
   "outputs": [
    {
     "data": {
      "text/latex": [
       "$$- \\frac{20 K_{p} \\left(5 K_{p} + \\frac{1}{2}\\right)}{\\left(10 K_{p} + 1\\right)^{2}}$$"
      ],
      "text/plain": [
       "-20⋅Kₚ⋅(5⋅Kₚ + 1/2) \n",
       "────────────────────\n",
       "               2    \n",
       "    (10⋅Kₚ + 1)     "
      ]
     },
     "execution_count": 38,
     "metadata": {},
     "output_type": "execute_result"
    }
   ],
   "source": [
    "Stsp = diff(Ts,K_p)*K_p/Ts\n",
    "Stsp"
   ]
  },
  {
   "cell_type": "code",
   "execution_count": 39,
   "metadata": {},
   "outputs": [
    {
     "data": {
      "text/latex": [
       "$$0$$"
      ],
      "text/plain": [
       "0"
      ]
     },
     "execution_count": 39,
     "metadata": {},
     "output_type": "execute_result"
    }
   ],
   "source": [
    "Stsi = diff(Ts,K_I)*K_I/Ts\n",
    "Stsi"
   ]
  },
  {
   "cell_type": "markdown",
   "metadata": {},
   "source": [
    "So we can see that the settling time is only related to $K_P$, so it's more sensitive to K_P. "
   ]
  },
  {
   "cell_type": "code",
   "execution_count": 11,
   "metadata": {},
   "outputs": [
    {
     "data": {
      "text/plain": [
       "Text(0.5, 1.0, 'Sensitivity of settling time against $K_p$')"
      ]
     },
     "execution_count": 11,
     "metadata": {},
     "output_type": "execute_result"
    },
    {
     "data": {
      "image/png": "[encoded data removed]",
      "text/plain": [
       "<Figure size 432x288 with 1 Axes>"
      ]
     },
     "metadata": {
      "needs_background": "light"
     },
     "output_type": "display_data"
    }
   ],
   "source": [
    "kp = np.linspace(0,10,100)\n",
    "f = abs(-20*kp*(5*kp+0.5)/(10*kp+1)**2)\n",
    "plt.plot(kp,f)\n",
    "plt.xlabel(\"$K_p$\")\n",
    "plt.ylabel(\"$T_s$\")\n",
    "plt.title(\"Sensitivity of settling time against $K_p$\")"
   ]
  },
  {
   "cell_type": "markdown",
   "metadata": {},
   "source": [
    "As we can see, the sensitivity is 0 when Kp = 0; and stablizes to 1 as Kp increases.  "
   ]
  },
  {
   "cell_type": "code",
   "execution_count": null,
   "metadata": {},
   "outputs": [],
   "source": []
  }
 ],
 "metadata": {
  "colab": {
   "name": "“ece447_hw6.ipynb”的副本",
   "provenance": [
    {
     "file_id": "https://github.com/klavins/ECE447/blob/master/assignments/ece447_hw6.ipynb",
     "timestamp": 1557419792872
    }
   ],
   "version": "0.3.2"
  },
  "kernelspec": {
   "display_name": "Python 3",
   "language": "python",
   "name": "python3"
  },
  "language_info": {
   "codemirror_mode": {
    "name": "ipython",
    "version": 3
   },
   "file_extension": ".py",
   "mimetype": "text/x-python",
   "name": "python",
   "nbconvert_exporter": "python",
   "pygments_lexer": "ipython3",
   "version": "3.7.0"
  }
 },
 "nbformat": 4,
 "nbformat_minor": 1
}
