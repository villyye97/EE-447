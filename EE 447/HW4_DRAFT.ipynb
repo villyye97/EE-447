{
 "cells": [
  {
   "cell_type": "code",
   "execution_count": 1,
   "metadata": {},
   "outputs": [],
   "source": [
    "import numpy as np\n",
    "import scipy.integrate as spi\n",
    "import matplotlib.pyplot as plt\n",
    "from sympy import *\n",
    "\n",
    "%matplotlib inline\n",
    "\n",
    "# Comment out in Google colab \n",
    "init_printing(use_latex='mathjax')\n",
    "\n",
    "# Uncomment in below Google colab to render sympy equations nicely\n",
    "# def custom_latex_printer(exp,**options):\n",
    "#     from google.colab.output._publish import javascript\n",
    "#     url = \"https://cdnjs.cloudflare.com/ajax/libs/mathjax/2.7.3/latest.js?config=default\"\n",
    "#     javascript(url=url)\n",
    "#     return printing.latex(exp,**options)\n",
    "# init_printing(use_latex=\"mathjax\",latex_printer=custom_latex_printer)"
   ]
  },
  {
   "cell_type": "code",
   "execution_count": 11,
   "metadata": {},
   "outputs": [
    {
     "name": "stdout",
     "output_type": "stream",
     "text": [
      "⎡0    0  ⎤\n",
      "⎢        ⎥\n",
      "⎢    -a⋅t⎥\n",
      "⎣0  ℯ    ⎦\n"
     ]
    },
    {
     "data": {
      "text/latex": [
       "$$\\left[\\begin{matrix}a \\left(- \\lambda t e^{t e^{- a t}} + \\lambda t\\right) + \\lambda e^{t e^{- a t}}\\\\a\\end{matrix}\\right]$$"
      ],
      "text/plain": [
       "⎡  ⎛          -a⋅t      ⎞         -a⋅t⎤\n",
       "⎢  ⎜       t⋅ℯ          ⎟      t⋅ℯ    ⎥\n",
       "⎢a⋅⎝- λ⋅t⋅ℯ        + λ⋅t⎠ + λ⋅ℯ       ⎥\n",
       "⎢                                     ⎥\n",
       "⎣                  a                  ⎦"
      ]
     },
     "execution_count": 11,
     "metadata": {},
     "output_type": "execute_result"
    }
   ],
   "source": [
    "# Compute e^{At} using diagonalization method\n",
    "var(\"t lamda a\")\n",
    "A = Matrix([[exp(-a*t),-lamda*exp(-a*t)*t],[0,0]])\n",
    "P,D = A.diagonalize()\n",
    "pprint(D)\n",
    "eDt = Matrix([\n",
    "    [exp(D[0,0]*t), 0], \n",
    "    [0, exp(D[1,1]*t)]\n",
    "])\n",
    "eAt = P*eDt*P.inv()\n",
    "eAt.simplify()\n",
    "eAt\n",
    "\n",
    "vt = Matrix([lamda,a])\n",
    "vnat= exp(A*t)*vt\n",
    "vnat"
   ]
  },
  {
   "cell_type": "code",
   "execution_count": null,
   "metadata": {},
   "outputs": [],
   "source": []
  }
 ],
 "metadata": {
  "kernelspec": {
   "display_name": "Python 3",
   "language": "python",
   "name": "python3"
  },
  "language_info": {
   "codemirror_mode": {
    "name": "ipython",
    "version": 3
   },
   "file_extension": ".py",
   "mimetype": "text/x-python",
   "name": "python",
   "nbconvert_exporter": "python",
   "pygments_lexer": "ipython3",
   "version": "3.7.0"
  }
 },
 "nbformat": 4,
 "nbformat_minor": 2
}
