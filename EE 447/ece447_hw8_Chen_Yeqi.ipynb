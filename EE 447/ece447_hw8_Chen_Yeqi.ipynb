{
 "cells": [
  {
   "cell_type": "markdown",
   "metadata": {
    "colab_type": "text",
    "id": "E35DChfew883"
   },
   "source": [
    "Homework 8 : Yeqi Chen \n",
    "===\n",
    "\n",
    "Root Locus \n",
    "\n",
    "**<span style=\"color: darkgreen\">Due Sunday May 26 at 11:59pm</span>**\n"
   ]
  },
  {
   "cell_type": "code",
   "execution_count": 33,
   "metadata": {},
   "outputs": [],
   "source": [
    "import numpy as np\n",
    "import scipy.integrate as spi\n",
    "import matplotlib.pyplot as plt\n",
    "import matplotlib.patches as patches\n",
    "from sympy import *\n",
    "from matplotlib import animation\n",
    "from scipy import signal\n",
    "\n",
    "\n",
    "# Uncomment on Google colab\n",
    "# !pip install JSAnimation\n",
    "# !pip install control\n",
    "\n",
    "#from JSAnimation.IPython_display import display_animation\n",
    "from control import * \n",
    "\n",
    "%matplotlib inline\n",
    "\n",
    "# Comment out in Google colab \n",
    "init_printing(use_latex='mathjax')\n",
    "\n",
    "def MatrixFromColumns(clist):\n",
    "    return Matrix(clist).reshape(\n",
    "        clist[0].shape[0], \n",
    "        len(clist)).transpose()"
   ]
  },
  {
   "cell_type": "markdown",
   "metadata": {
    "colab_type": "text",
    "collapsed": true,
    "id": "sWrGCLObw885"
   },
   "source": [
    "# 1. Full State Feedback\n",
    "\n",
    "For each of the following systems:\n",
    "\n",
    "- a) transform the system into state space using whatever form you like\n",
    "- b) design a full state feedback controller to place the system poles at $-1 \\pm\n",
    "j$\n",
    "- c) find the closed loop transfer function of the system\n",
    "- d) find the steady state error.\n",
    "\n",
    "System one: $\\frac{\\displaystyle s+1}{\\displaystyle s^2+5s+1}$\n",
    "\n",
    "System two: $\\frac{\\displaystyle s+2}{\\displaystyle  s^2+s}$\n"
   ]
  },
  {
   "cell_type": "markdown",
   "metadata": {},
   "source": [
    "System 1 a)<br>\n",
    "In phase conocical form the state-space equals: \n",
    "\n",
    "\\begin{align}\n",
    "\\dot x & = \\begin{pmatrix}\n",
    " 0 & 1 \\\\\n",
    " -1 & -5\n",
    "\\end{pmatrix} x + \\begin{pmatrix}\n",
    "0 \\\\\n",
    "1\n",
    "\\end{pmatrix} u \\\\\n",
    "y & = ( 1 \\; 1 \\; ) \\; x .\n",
    "\\end{align}"
   ]
  },
  {
   "cell_type": "markdown",
   "metadata": {},
   "source": [
    "b) Suppose we want to design the controller so that the closed loop poles are at $-1\\pm i$,\n",
    "<br>\n",
    "so we want the characteristice polynomial to be \n",
    "$$ s^2+2s+2$$ \n",
    " Setting $u = -K x + r$ gives the new characteristic polynomial\n",
    "\n",
    "$$\n",
    "s^2 + (5+k_1)s + (1+k_0) \\; = \\; s^2 + (5+k_1)s + k_0+1\n",
    "$$\n",
    "\n",
    "setting the coefficients equal to the desired coefficients gives the two equations\n",
    "\n",
    "\\begin{align}\n",
    "k_1 + 5 & = 2  \\\\\n",
    "k_0+1 & = 2\n",
    "\\end{align}\n",
    "\n",
    "so that a choice of $k_1 = -3$ and $k_0 = 1$ will put the closed loop poles at the desired locations."
   ]
  },
  {
   "cell_type": "markdown",
   "metadata": {},
   "source": [
    "c) \\begin{align}\n",
    "A-BK & = \\begin{pmatrix}\n",
    "0 & 1  \\\\\n",
    "-1 & -5\n",
    "\\end{pmatrix} - \\begin{pmatrix}\n",
    "0 \\\\\n",
    "1\n",
    "\\end{pmatrix} (-3 \\;1 ) \\\\\n",
    " & = \\begin{pmatrix}\n",
    "0 & 1 \\\\\n",
    "-2 & -2\n",
    "\\end{pmatrix} \n",
    "\\end{align}"
   ]
  },
  {
   "cell_type": "code",
   "execution_count": 8,
   "metadata": {},
   "outputs": [
    {
     "data": {
      "text/latex": [
       "$$\\frac{s + 1}{s^{2} + 2 s + 2}$$"
      ],
      "text/plain": [
       "   s + 1    \n",
       "────────────\n",
       " 2          \n",
       "s  + 2⋅s + 2"
      ]
     },
     "execution_count": 8,
     "metadata": {},
     "output_type": "execute_result"
    }
   ],
   "source": [
    "var(\"a0 a1 b0 b1 s\")\n",
    "A = Matrix([\n",
    "    [0,1],\n",
    "    [-2,-2]\n",
    "])\n",
    "B = Matrix([[0],[1]])\n",
    "C = Matrix([[1, 1]])\n",
    "T = (C*(s*eye(2)-A).inv()*B)[0]\n",
    "T = cancel(T)\n",
    "T"
   ]
  },
  {
   "cell_type": "markdown",
   "metadata": {},
   "source": [
    "d) \n",
    "$$\n",
    "e(\\infty) = \\lim_{s \\rightarrow 0} s(\\frac{1}{s} - \\frac{1}{s}T(s))\n",
    "$$\n",
    "$$ \n",
    "= 1-T(0) \n",
    "$$ \n",
    "$$ = 1-\\frac{1}{2} = \\frac{1}{2}$$"
   ]
  },
  {
   "cell_type": "markdown",
   "metadata": {},
   "source": [
    "System2 \n",
    "In phase conocical form the state-space equals: \n",
    "\n",
    "\\begin{align}\n",
    "\\dot x & = \\begin{pmatrix}\n",
    " 0 & 1 \\\\\n",
    " 0 & -1\n",
    "\\end{pmatrix} x + \\begin{pmatrix}\n",
    "0 \\\\\n",
    "1\n",
    "\\end{pmatrix} u \\\\\n",
    "y & = ( 2 \\; 1 \\; ) \\; x .\n",
    "\\end{align}"
   ]
  },
  {
   "cell_type": "markdown",
   "metadata": {},
   "source": [
    "b) Suppose we want to design the controller so that the closed loop poles are at $-1\\pm i$,\n",
    "<br>\n",
    "so we want the characteristice polynomial to be \n",
    "$$ s^2+2s+2$$ \n",
    " Setting $u = -K x + r$ gives the new characteristic polynomial\n",
    "\n",
    "$$\n",
    "s^2 + (k_1+1)s + (k_0) \\; = \\; s^2 + (k_1+1)s + k_0\n",
    "$$\n",
    "\n",
    "setting the coefficients equal to the desired coefficients gives the two equations\n",
    "\n",
    "\\begin{align}\n",
    "k_1 +1 & = 2  \\\\\n",
    "k_0+1 & = 2\n",
    "\\end{align}\n",
    "\n",
    "so that a choice of $k_1 = 1$ and $k_0 = 2$ will put the closed loop poles at the desired locations."
   ]
  },
  {
   "cell_type": "markdown",
   "metadata": {},
   "source": [
    "c) \\begin{align}\n",
    "A-BK & = \\begin{pmatrix}\n",
    "0 & 1  \\\\\n",
    "0 & -1\n",
    "\\end{pmatrix} - \\begin{pmatrix}\n",
    "0 \\\\\n",
    "1\n",
    "\\end{pmatrix} (1 \\;2) \\\\\n",
    " & = \\begin{pmatrix}\n",
    "0 & 1 \\\\\n",
    "-2 & -2\n",
    "\\end{pmatrix} \n",
    "\\end{align}"
   ]
  },
  {
   "cell_type": "code",
   "execution_count": 59,
   "metadata": {},
   "outputs": [
    {
     "data": {
      "text/latex": [
       "$$\\frac{s + 2}{s^{2} + 2 s + 2}$$"
      ],
      "text/plain": [
       "   s + 2    \n",
       "────────────\n",
       " 2          \n",
       "s  + 2⋅s + 2"
      ]
     },
     "execution_count": 59,
     "metadata": {},
     "output_type": "execute_result"
    }
   ],
   "source": [
    "var(\"a0 a1 b0 b1 s\")\n",
    "A = Matrix([\n",
    "    [0,1],\n",
    "    [-2,-2]\n",
    "])\n",
    "B = Matrix([[0],[1]])\n",
    "C = Matrix([[2, 1]])\n",
    "T = (C*(s*eye(2)-A).inv()*B)[0]\n",
    "T = cancel(T)\n",
    "T"
   ]
  },
  {
   "cell_type": "markdown",
   "metadata": {},
   "source": [
    "d) \n",
    "$$\n",
    "e(\\infty) = \\lim_{s \\rightarrow 0} s(\\frac{1}{s} - \\frac{1}{s}T(s))\n",
    "$$\n",
    "$$ \n",
    "= 1-T(0) \n",
    "$$ \n",
    "$$ = 1-1 = 0$$"
   ]
  },
  {
   "cell_type": "code",
   "execution_count": 65,
   "metadata": {},
   "outputs": [
    {
     "data": {
      "text/latex": [
       "$$1$$"
      ],
      "text/plain": [
       "1"
      ]
     },
     "execution_count": 65,
     "metadata": {},
     "output_type": "execute_result"
    }
   ],
   "source": [
    "T.subs(s,0)"
   ]
  },
  {
   "cell_type": "markdown",
   "metadata": {
    "colab_type": "text",
    "id": "BctTnH5gw886"
   },
   "source": [
    "# 2. Integrator\n",
    "\n",
    "System one above has a steady state error. Define a control system with full state feedback and an integrator that puts the closed loop poles at -5 and $-1 \\pm j$. Simulate the system response to a step input."
   ]
  },
  {
   "cell_type": "markdown",
   "metadata": {},
   "source": [
    "From the problem 1 we have \n",
    "\\begin{align}\n",
    "\\dot x & = \\begin{pmatrix}\n",
    " 0 & 1 \\\\\n",
    "  -1 & -5\n",
    "\\end{pmatrix} x + \\begin{pmatrix}\n",
    "0 \\\\\n",
    "1\n",
    "\\end{pmatrix} u \\\\\n",
    "y & = ( 0 \\; 1 ) \\; x\n",
    "\\end{align}\n",
    "\n",
    "Adding an integrator and controller givies\n",
    "\n",
    "$$\n",
    "A-BK =  \\begin{pmatrix}\n",
    "0 & 1 \\\\\n",
    "-1-k_0 & -k_1 - 5\n",
    "\\end{pmatrix}\n",
    "$$\n",
    "\n",
    "and\n",
    "\n",
    "$$\n",
    "Bk_I = \\begin{pmatrix}\n",
    "0 \\\\\n",
    "k_I\n",
    "\\end{pmatrix} \n",
    "$$\n",
    "\n",
    "so\n",
    "\n",
    "\\begin{align}\n",
    "\\begin{pmatrix}\n",
    "\\dot x_1 \\\\\n",
    "\\dot x_2 \\\\\n",
    "\\dot x_I \n",
    "\\end{pmatrix} & = \\begin{pmatrix}\n",
    "  0 & 1 & 0 \\\\\n",
    "  -1-k_0 & -k_1-5 & k_I \\\\\n",
    "  -1 & -1 & 0\n",
    "\\end{pmatrix} \\begin{pmatrix}\n",
    "x_1 \\\\\n",
    "x_2 \\\\\n",
    "x_I \n",
    "\\end{pmatrix} + \\begin{pmatrix}\n",
    "0 \\\\\n",
    "0 \\\\\n",
    "1\n",
    "\\end{pmatrix} r \\\\\n",
    "y & = ( 1 \\; 1 \\; 0 ) \\; \\begin{pmatrix}\n",
    "x_1 \\\\\n",
    "x_2 \\\\\n",
    "x_I \n",
    "\\end{pmatrix} .\n",
    "\\end{align} "
   ]
  },
  {
   "cell_type": "code",
   "execution_count": 10,
   "metadata": {},
   "outputs": [
    {
     "data": {
      "text/latex": [
       "$$ki + s^{2} \\left(k_{1} + s + 5\\right) + s \\left(k_{0} + ki + 1\\right)$$"
      ],
      "text/plain": [
       "      2                               \n",
       "ki + s ⋅(k₁ + s + 5) + s⋅(k₀ + ki + 1)"
      ]
     },
     "execution_count": 10,
     "metadata": {},
     "output_type": "execute_result"
    }
   ],
   "source": [
    "var(\"s k0 k1 ki\")\n",
    "A = Matrix([\n",
    "    [0,1,0],\n",
    "    [-1-k0,-k1-5,ki],\n",
    "    [-1, -1, 0]\n",
    "])\n",
    "poly = (s*eye(3)-A).det().collect(s)\n",
    "poly"
   ]
  },
  {
   "cell_type": "markdown",
   "metadata": {},
   "source": [
    "From the question we know that the desired characteristic polynomial should be (s+5)(s+1-j)(s+1+j) = $s^3+7s^2+12s+10$"
   ]
  },
  {
   "cell_type": "code",
   "execution_count": 11,
   "metadata": {},
   "outputs": [
    {
     "data": {
      "text/latex": [
       "$$\\left \\{ k_{0} : 1, \\quad k_{1} : 2, \\quad ki : 10\\right \\}$$"
      ],
      "text/plain": [
       "{k₀: 1, k₁: 2, ki: 10}"
      ]
     },
     "execution_count": 11,
     "metadata": {},
     "output_type": "execute_result"
    }
   ],
   "source": [
    "solve(\n",
    "    Matrix([Poly(poly,s).coeffs()]) \n",
    "    - Matrix([[1,7,12,10]])\n",
    ",[k0,k1,ki])"
   ]
  },
  {
   "cell_type": "code",
   "execution_count": 15,
   "metadata": {},
   "outputs": [
    {
     "data": {
      "text/latex": [
       "$$\\left[\\begin{matrix}0 & 1 & 0\\\\-2 & -7 & 10\\\\-1 & -1 & 0\\end{matrix}\\right]$$"
      ],
      "text/plain": [
       "⎡0   1   0 ⎤\n",
       "⎢          ⎥\n",
       "⎢-2  -7  10⎥\n",
       "⎢          ⎥\n",
       "⎣-1  -1  0 ⎦"
      ]
     },
     "execution_count": 15,
     "metadata": {},
     "output_type": "execute_result"
    }
   ],
   "source": [
    "Anew = A.subs(k0,1).subs(k1,2).subs(ki,10)\n",
    "Anew"
   ]
  },
  {
   "cell_type": "code",
   "execution_count": 18,
   "metadata": {},
   "outputs": [
    {
     "data": {
      "text/latex": [
       "$$\\frac{10 s + 10}{s^{3} + 7 s^{2} + 12 s + 10}$$"
      ],
      "text/plain": [
       "      10⋅s + 10      \n",
       "─────────────────────\n",
       " 3      2            \n",
       "s  + 7⋅s  + 12⋅s + 10"
      ]
     },
     "execution_count": 18,
     "metadata": {},
     "output_type": "execute_result"
    }
   ],
   "source": [
    "B = Matrix([[0],[0], [1]])\n",
    "C = Matrix([[1, 1,0]])\n",
    "T = (C*(s*eye(3)-Anew).inv()*B)[0]\n",
    "T = cancel(T)\n",
    "T"
   ]
  },
  {
   "cell_type": "code",
   "execution_count": 28,
   "metadata": {},
   "outputs": [
    {
     "data": {
      "text/plain": [
       "Text(0.5, 0, 't')"
      ]
     },
     "execution_count": 28,
     "metadata": {},
     "output_type": "execute_result"
    },
    {
     "data": {
      "image/png": "[encoded data removed]",
      "text/plain": [
       "<Figure size 432x288 with 1 Axes>"
      ]
     },
     "metadata": {
      "needs_background": "light"
     },
     "output_type": "display_data"
    }
   ],
   "source": [
    "#pb = T(den,s).all_coeffs()\n",
    "#pa = T(num,s).all_coeffs()\n",
    "pa = [10,10]\n",
    "pb = [1,7,12,10]\n",
    "sys = signal.TransferFunction(pa,pb)\n",
    "t,y = signal.step(sys,T=np.linspace(0,10,100))\n",
    "\n",
    "plt.plot(t,y)\n",
    "plt.ylabel('y')\n",
    "plt.xlabel('t')"
   ]
  },
  {
   "cell_type": "markdown",
   "metadata": {
    "colab_type": "text",
    "id": "tsBXbdwEw887"
   },
   "source": [
    "# 3. Controllability and Observability\n",
    "\n",
    "Consider the following state space system.\n",
    "\n",
    "\\begin{align}\n",
    "\\dot x & = \\begin{pmatrix}\n",
    "0 & -1 \\\\\n",
    "-1 & 1\n",
    "\\end{pmatrix} x + \\begin{pmatrix}\n",
    "0 \\\\\n",
    "a\n",
    "\\end{pmatrix} u \\\\\n",
    "y & = \\begin{pmatrix}\n",
    "b+1 & b\n",
    "\\end{pmatrix} x\n",
    "\\end{align}\n",
    "\n",
    "- a) For what values of $a$ and $b$ is the system controllable?\n",
    "- b) For what values of $a$ and $b$ is the system observable?\n",
    "\n",
    "Determine the above by using the controllability and observability matrices."
   ]
  },
  {
   "cell_type": "code",
   "execution_count": 48,
   "metadata": {},
   "outputs": [
    {
     "data": {
      "text/latex": [
       "$$\\left ( \\left[\\begin{matrix}0 & - a\\\\a & a\\end{matrix}\\right], \\quad 2\\right )$$"
      ],
      "text/plain": [
       "⎛⎡0  -a⎤   ⎞\n",
       "⎜⎢     ⎥, 2⎟\n",
       "⎝⎣a  a ⎦   ⎠"
      ]
     },
     "execution_count": 48,
     "metadata": {},
     "output_type": "execute_result"
    }
   ],
   "source": [
    "#a)\n",
    "var(\"a,b\")\n",
    "A = Matrix([\n",
    "    [0,-1],\n",
    "    [-1,1]\n",
    "])\n",
    "B = Matrix([\n",
    "    [0],\n",
    "    [a]\n",
    "])\n",
    "C = Matrix([[b+1,b]])\n",
    "M = MatrixFromColumns([B,A*B])\n",
    "M, M.rank()"
   ]
  },
  {
   "cell_type": "markdown",
   "metadata": {},
   "source": [
    "From the given matrix M, we can see that if $a \\ne 0$, the matrix has rank 2 equal to its size, so it's controllable for $a \\ne 0$"
   ]
  },
  {
   "cell_type": "code",
   "execution_count": 49,
   "metadata": {},
   "outputs": [
    {
     "data": {
      "text/latex": [
       "$$\\left ( \\left[\\begin{matrix}b + 1 & b\\\\- b & -1\\end{matrix}\\right], \\quad 2\\right )$$"
      ],
      "text/plain": [
       "⎛⎡b + 1  b ⎤   ⎞\n",
       "⎜⎢         ⎥, 2⎟\n",
       "⎝⎣ -b    -1⎦   ⎠"
      ]
     },
     "execution_count": 49,
     "metadata": {},
     "output_type": "execute_result"
    }
   ],
   "source": [
    "O = Matrix([C,C*A])\n",
    "O, O.rank()"
   ]
  },
  {
   "cell_type": "code",
   "execution_count": 55,
   "metadata": {},
   "outputs": [
    {
     "data": {
      "text/latex": [
       "$$2$$"
      ],
      "text/plain": [
       "2"
      ]
     },
     "execution_count": 55,
     "metadata": {},
     "output_type": "execute_result"
    }
   ],
   "source": [
    "O.subs(b,124141211).rank()"
   ]
  },
  {
   "cell_type": "markdown",
   "metadata": {},
   "source": [
    "For any given b value, the matrix has full rank, so it's observalbe. "
   ]
  },
  {
   "cell_type": "markdown",
   "metadata": {
    "colab_type": "text",
    "id": "SYS1Rwgaw888"
   },
   "source": [
    "# 4. Full State Feedback and Observer Design\n",
    "\n",
    "Consider the plant\n",
    "\n",
    "$$\n",
    "G(s) = \\frac{s+1}{(s+a)(s+8)(s+10)}\n",
    "$$\n",
    "\n",
    "where $a = 1$. \n",
    "\n",
    "- a) Find a convenient state space representation of model $G(s)$.\n",
    "- b) Using `place` design a controller for the system that puts the poles at $-1$ and $-2 \\pm -2j$.\n",
    "- c) Using `place` design an observer with poles at -10, -11 and -12. \n",
    "- d) Simulate the closed loop system with the observer and the controller with a step input. Make sure to start the observer and plant with different states. Plot the states with the state estimates overlaid. \n",
    "- e) Find a state space representation of the closed loop system and show that its $A$ matrix has the six poles you placed."
   ]
  },
  {
   "cell_type": "markdown",
   "metadata": {
    "colab": {},
    "colab_type": "code",
    "id": "_6474NQow889"
   },
   "source": [
    "a) <br>If I plug in a = 1, simplyfing G we get \n",
    "$$\n",
    "G(s) = \\frac{s+1}{s^3+19s^2+98s+80}\n",
    "$$\n",
    "using the conocical form we get: \n",
    "\\begin{align}\n",
    "\\dot x & = \\begin{pmatrix}\n",
    "0 & 1 & 0 \\\\\n",
    "0 & 0 & 1  \\\\\n",
    "-80 & -98 & -19\n",
    "\\end{pmatrix} x + \\begin{pmatrix}\n",
    "0 \\\\\n",
    "0 \\\\\n",
    "1\n",
    "\\end{pmatrix} u \\\\\n",
    "y & = ( 1 \\; 1  \\;0) \\; x .\n",
    "\\end{align}"
   ]
  },
  {
   "cell_type": "code",
   "execution_count": 87,
   "metadata": {},
   "outputs": [
    {
     "data": {
      "text/latex": [
       "$$\\left[\\begin{matrix}-72.0 & -86.0 & -14.0\\end{matrix}\\right]$$"
      ],
      "text/plain": [
       "[-72.0  -86.0  -14.0]"
      ]
     },
     "execution_count": 87,
     "metadata": {},
     "output_type": "execute_result"
    }
   ],
   "source": [
    "#b)\n",
    "A = Matrix([\n",
    "    [0,1,0],\n",
    "    [0,0,1],\n",
    "    [-80,-98,-19]])\n",
    "\n",
    "B = Matrix([\n",
    "    [0],\n",
    "    [0],\n",
    "    [1]\n",
    "])\n",
    "\n",
    "C = Matrix([[1,1,0]])\n",
    "\n",
    "An = np.array(A).astype(np.float64)\n",
    "Bn = np.array(B).astype(np.float64)\n",
    "Cn = np.array(C).astype(np.float64)\n",
    "K = Matrix(place(An,Bn,[-1,-2+2*1j,-2-2*1j]))\n",
    "K"
   ]
  },
  {
   "cell_type": "code",
   "execution_count": 88,
   "metadata": {},
   "outputs": [
    {
     "data": {
      "text/latex": [
       "$$\\left[\\begin{matrix}-683424001950748.0 & 683424001950751.0 & -683424001950779.0\\end{matrix}\\right]$$"
      ],
      "text/plain": [
       "[-683424001950748.0  683424001950751.0  -683424001950779.0]"
      ]
     },
     "execution_count": 88,
     "metadata": {},
     "output_type": "execute_result"
    }
   ],
   "source": [
    "#C)\n",
    "An = np.array(An.transpose()).astype(np.float64)\n",
    "Cn = np.array(Cn.transpose()).astype(np.float64)\n",
    "L = Matrix(place(An,Cn,[-10,-11,-12]))\n",
    "\n",
    "L"
   ]
  },
  {
   "cell_type": "code",
   "execution_count": 89,
   "metadata": {},
   "outputs": [
    {
     "data": {
      "text/latex": [
       "$$\\left[\\begin{matrix}-683424001950748.0\\\\683424001950751.0\\\\-683424001950779.0\\end{matrix}\\right]$$"
      ],
      "text/plain": [
       "⎡-683424001950748.0⎤\n",
       "⎢                  ⎥\n",
       "⎢683424001950751.0 ⎥\n",
       "⎢                  ⎥\n",
       "⎣-683424001950779.0⎦"
      ]
     },
     "execution_count": 89,
     "metadata": {},
     "output_type": "execute_result"
    }
   ],
   "source": [
    "L= L.transpose()\n",
    "L\n"
   ]
  },
  {
   "cell_type": "code",
   "execution_count": 90,
   "metadata": {
    "scrolled": false
   },
   "outputs": [
    {
     "name": "stderr",
     "output_type": "stream",
     "text": [
      "C:\\Users\\Villy\\Anaconda3\\lib\\site-packages\\scipy\\integrate\\odepack.py:236: ODEintWarning: Excess work done on this call (perhaps wrong Dfun type). Run with full_output = 1 to get quantitative information.\n",
      "  warnings.warn(warning_msg, ODEintWarning)\n"
     ]
    },
    {
     "data": {
      "image/png": "[encoded data removed]",
      "text/plain": [
       "<Figure size 1080x360 with 3 Axes>"
      ]
     },
     "metadata": {
      "needs_background": "light"
     },
     "output_type": "display_data"
    }
   ],
   "source": [
    "def input(t):\n",
    "    if t < 10:\n",
    "        return 1\n",
    "    elif t < 20:\n",
    "        return 0\n",
    "    else:\n",
    "        return 1\n",
    "    \n",
    "def f(X,t):\n",
    "    x = X[0:3].reshape(3,1)\n",
    "    xhat = X[3:6].reshape(3,1)\n",
    "    u = -(K*Matrix(xhat))[0] + input(t)\n",
    "    fb = L * ( C*x - C*xhat )\n",
    "    return flatten(\n",
    "        (A*Matrix(x) + B*u).tolist() + \n",
    "        (A*Matrix(xhat) + B*u + fb).tolist())\n",
    "\n",
    "t=np.linspace(0,30,100)\n",
    "X = spi.odeint(f,[1,1,1,0,0,0],t)\n",
    "fig,ax = plt.subplots(1,3,figsize=(15,5))\n",
    "\n",
    "for i in range(3):\n",
    "    ax[i].plot(t,X[:,i],label=\"$x_%d$\" % (i+1))\n",
    "    ax[i].plot(t,X[:,3+i],label=\"$\\hat{x}_%d$\" % (i+1));\n",
    "    ax[i].set_xlabel(\"$t$\")\n",
    "    ax[i].legend()\n",
    "    \n",
    "ax[0].set_ylabel(\"state\");"
   ]
  },
  {
   "cell_type": "code",
   "execution_count": 91,
   "metadata": {},
   "outputs": [
    {
     "data": {
      "text/latex": [
       "$$\\left[\\begin{matrix}0 & 1.0 & 0 & 0 & 0 & 0\\\\0 & 0 & 1.0 & 0 & 0 & 0\\\\-80.0 & -98.0 & -19.0 & 72.0 & 86.0 & 14.0\\\\-6.8 \\cdot 10^{14} & -6.8 \\cdot 10^{14} & 0 & 6.8 \\cdot 10^{14} & 6.8 \\cdot 10^{14} & 0\\\\6.8 \\cdot 10^{14} & 6.8 \\cdot 10^{14} & 0 & -6.8 \\cdot 10^{14} & -6.8 \\cdot 10^{14} & 1.0\\\\-6.8 \\cdot 10^{14} & -6.8 \\cdot 10^{14} & 0 & 6.8 \\cdot 10^{14} & 6.8 \\cdot 10^{14} & -5.0\\end{matrix}\\right]$$"
      ],
      "text/plain": [
       "⎡   0        1.0       0       0         0       0  ⎤\n",
       "⎢                                                   ⎥\n",
       "⎢   0         0       1.0      0         0       0  ⎥\n",
       "⎢                                                   ⎥\n",
       "⎢ -80.0     -98.0    -19.0    72.0      86.0    14.0⎥\n",
       "⎢                                                   ⎥\n",
       "⎢-6.8e+14  -6.8e+14    0    6.8e+14   6.8e+14    0  ⎥\n",
       "⎢                                                   ⎥\n",
       "⎢6.8e+14   6.8e+14     0    -6.8e+14  -6.8e+14  1.0 ⎥\n",
       "⎢                                                   ⎥\n",
       "⎣-6.8e+14  -6.8e+14    0    6.8e+14   6.8e+14   -5.0⎦"
      ]
     },
     "execution_count": 91,
     "metadata": {},
     "output_type": "execute_result"
    }
   ],
   "source": [
    "# Check the eigenvalues\n",
    "top = Matrix([A.transpose(), -(B*K).transpose()]).transpose()\n",
    "bot = Matrix([(L*C).transpose(), (A-B*K-L*C).transpose()]).transpose()\n",
    "Atilde = Matrix([top,bot])\n",
    "N(Atilde,2)"
   ]
  },
  {
   "cell_type": "code",
   "execution_count": 92,
   "metadata": {},
   "outputs": [
    {
     "data": {
      "text/plain": [
       "array([ -1.68044916e+00 +5.88632022e+06j,\n",
       "        -1.68044916e+00 -5.88632022e+06j,\n",
       "        -4.13532118e-03 +0.00000000e+00j,\n",
       "        -3.22957431e+02 +0.00000000e+00j,\n",
       "         1.49257108e+02 +2.72471462e+02j,   1.49257108e+02 -2.72471462e+02j])"
      ]
     },
     "execution_count": 92,
     "metadata": {},
     "output_type": "execute_result"
    }
   ],
   "source": [
    "e,v = np.linalg.eig(np.array(Atilde.tolist()).astype(np.float64));\n",
    "e"
   ]
  },
  {
   "cell_type": "markdown",
   "metadata": {},
   "source": [
    "The calculated codes gave different poles from the specificaiton; and the graph looks wierd. I asked TA and found that we were using similiar code, but has totally different result. I don't know where the problem comes from. "
   ]
  },
  {
   "cell_type": "code",
   "execution_count": null,
   "metadata": {},
   "outputs": [],
   "source": []
  }
 ],
 "metadata": {
  "colab": {
   "name": "“ece447_hw8.ipynb”的副本",
   "provenance": [
    {
     "file_id": "https://github.com/klavins/ECE447/blob/master/assignments/ece447_hw8.ipynb",
     "timestamp": 1558817528735
    }
   ],
   "version": "0.3.2"
  },
  "kernelspec": {
   "display_name": "Python 3",
   "language": "python",
   "name": "python3"
  },
  "language_info": {
   "codemirror_mode": {
    "name": "ipython",
    "version": 3
   },
   "file_extension": ".py",
   "mimetype": "text/x-python",
   "name": "python",
   "nbconvert_exporter": "python",
   "pygments_lexer": "ipython3",
   "version": "3.7.0"
  }
 },
 "nbformat": 4,
 "nbformat_minor": 1
}
