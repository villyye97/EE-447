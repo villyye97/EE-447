{
 "cells": [
  {
   "cell_type": "markdown",
   "metadata": {
    "colab_type": "text",
    "heading_collapsed": true,
    "id": "BXk99hWJXW9c"
   },
   "source": [
    "# EE447: Full State Feedback\n",
    "\n",
    "Eric Klavins\n",
    "\n",
    "Copyright &copy; University of Washington, 2019"
   ]
  },
  {
   "cell_type": "markdown",
   "metadata": {
    "colab_type": "text",
    "id": "8QIJv1PGXW9e"
   },
   "source": [
    "# Code"
   ]
  },
  {
   "cell_type": "code",
   "execution_count": 0,
   "metadata": {
    "colab": {},
    "colab_type": "code",
    "id": "Rm4ccokpXW9g",
    "slideshow": {
     "slide_type": "skip"
    }
   },
   "outputs": [],
   "source": [
    "import numpy as np\n",
    "import scipy.integrate as spi\n",
    "import matplotlib.pyplot as plt\n",
    "import matplotlib.patches as patches\n",
    "from sympy import *\n",
    "from matplotlib import animation\n",
    "\n",
    "# Uncomment on Google colab\n",
    "# !pip install JSAnimation\n",
    "# !pip install control\n",
    "\n",
    "from JSAnimation.IPython_display import display_animation\n",
    "\n",
    "%matplotlib inline\n",
    "\n",
    "# Comment out in Google colab \n",
    "init_printing(use_latex='mathjax')\n",
    "\n",
    "# Uncomment in below Google colab to render sympy equations nicely\n",
    "# def custom_latex_printer(exp,**options):\n",
    "#     from google.colab.output._publish import javascript\n",
    "#     url = \"https://cdnjs.cloudflare.com/ajax/libs/mathjax/2.7.3/latest.js?config=default\"\n",
    "#     javascript(url=url)\n",
    "#     return printing.latex(exp,**options)"
   ]
  },
  {
   "cell_type": "markdown",
   "metadata": {
    "colab_type": "text",
    "id": "XLKJVlz9XW9k"
   },
   "source": [
    "# Full State Feedback in Phase Canonical Form"
   ]
  },
  {
   "cell_type": "markdown",
   "metadata": {
    "colab_type": "text",
    "id": "NpzuWyYUXW9n",
    "slideshow": {
     "slide_type": "slide"
    }
   },
   "source": [
    "Say\n",
    "\n",
    "$$\n",
    "G(s) = \\frac{b_3 s^3 + b_2 s^2 + b_1 s + b_0}\n",
    "            {s^4 + a_3 s^3 + a_2 s^2 + a_1 s + a_0}\n",
    "$$\n",
    "\n",
    "In phase canonical form this is \n",
    "\n",
    "\\begin{align}\n",
    "\\dot \\x & = \\begin{pmatrix}\n",
    "0 & 1 & 0 & 0 \\\\\n",
    "0 & 0 & 1 & 0 \\\\\n",
    "0 & 0 & 0 & 1 \\\\\n",
    "-a_0 & -a_1 & -a_2 & -a_3 \n",
    "\\end{pmatrix} \\x + \\begin{pmatrix}\n",
    "0 \\\\\n",
    "0 \\\\\n",
    "0 \\\\\n",
    "1\n",
    "\\end{pmatrix} u \\\\\n",
    "y & = ( b_0 \\; b_1 \\; b_2 \\; b_3 ) \\; \\x .\n",
    "\\end{align}\n",
    "\n",
    "For now, we will ignore $y$ an <span style=\"background: yellow\">suppose we have direct measurements of $\\x$ </span>.\n",
    "\n",
    "by construction, the characteristic equation (denominator of the transfer function) can be read off of the matrix by construction, and is \n",
    "\n",
    "$$\n",
    "s^4 + a_3 s^3 + a_2 s^2 + a_1 s^1 + a_0 .\n",
    "$$\n",
    "\n",
    "**Full state feedback** means setting \n",
    "\n",
    "\\begin{align}\n",
    "u & = -K \\x + r \\\\\n",
    "  & = - (k_0 \\; k_1 \\; k_2 \\; k_3) \\; \\x + r\n",
    "\\end{align}\n",
    "\n",
    "where the $K$ is a matrix of gains *that you get to design* and $r$ is a new *reference input*. \n",
    "\n",
    "In blue we show what we have added to the system:\n",
    "\n",
    "<img width=55% src=\"https://raw.githubusercontent.com/klavins/ECE447/master/images/fsf.png\">\n",
    "\n",
    "Substituting in this value of $u$ back into the above we get\n",
    "\n",
    "\\begin{align}\n",
    "\\dot x & = A \\x + B(-K \\x + r ) \\\\\n",
    "       & = (A-BK) \\x + Br\n",
    "\\end{align}\n",
    "\n",
    "and (still using phase variables) we get\n",
    "\n",
    "\\begin{align}\n",
    "A-BK & = \\begin{pmatrix}\n",
    "0 & 1 & 0 & 0 \\\\\n",
    "0 & 0 & 1 & 0 \\\\\n",
    "0 & 0 & 0 & 1 \\\\\n",
    "-a_0 & -a_1 & -a_2 & -a_3 \n",
    "\\end{pmatrix} - \\begin{pmatrix}\n",
    "0 \\\\\n",
    "0 \\\\\n",
    "0 \\\\\n",
    "1\n",
    "\\end{pmatrix} (K_0 \\; K_1 \\; K_2 \\; K_3) \\\\\n",
    " & = \\begin{pmatrix}\n",
    "0 & 1 & 0 & 0 \\\\\n",
    "0 & 0 & 1 & 0 \\\\\n",
    "0 & 0 & 0 & 1 \\\\\n",
    "-a_0-k_0 & -a_1-k_1 & -a_2-k_2 & -a_3-k_3 \n",
    "\\end{pmatrix} \n",
    "\\end{align}\n",
    "\n",
    "which has characteristic polynomial\n",
    "\n",
    "$$\n",
    "s^4 + (a_3+k_3) s^3 + (a_2+k_2) s^2 + (a_1+k_1) s^1 + (a_0 +k_0)\n",
    "$$\n",
    "\n",
    "What's important is that by choosing $K$, we can set the coefficients of the new characteristic polynomial to be whatever we want them to be, and therefore we can place the poles wherever we want them to go!"
   ]
  },
  {
   "cell_type": "markdown",
   "metadata": {
    "colab_type": "text",
    "id": "hDG_Xo-lXW9o",
    "slideshow": {
     "slide_type": "slide"
    }
   },
   "source": [
    "Example:\n",
    "---\n",
    "\n",
    "Say\n",
    "\n",
    "$$\n",
    "G(s) = \\frac{1}{s^2+s}\n",
    "$$\n",
    "\n",
    "with phase canonical form\n",
    "\n",
    "$$\n",
    "\\dot \\x = \\begin{pmatrix} \n",
    "  0 & 1 \\\\\n",
    "  0 & -1\n",
    "\\end{pmatrix} \\x + \\begin{pmatrix}\n",
    "0 \\\\\n",
    "1\n",
    "\\end{pmatrix} u\n",
    "$$ \n",
    "\n",
    "$$\n",
    "y = ( 1 \\; 0 ) \\; \\x\n",
    "$$\n",
    "\n",
    "Suppose we want to design a controller so that the closed loop poles are at\n",
    "\n",
    "$$\n",
    "-1 \\pm i.\n",
    "$$\n",
    "\n",
    "**Solution**: We want the closed loop characteristic polynomial to be\n",
    "\n",
    "$$\n",
    "s^2 + 2s + 2\n",
    "$$\n",
    "\n",
    "Setting $u = -K \\x + r$ gives the new characteristic polynomial\n",
    "\n",
    "$$\n",
    "s^2 + (a_1+k_1)s + (a_0+k_0) \\; = \\; s^2 + (1+k_1)s + k_0\n",
    "$$\n",
    "\n",
    "setting the coefficients equal to the desired coefficients gives the two equations\n",
    "\n",
    "\\begin{align}\n",
    "k_1 + 1 & = 2  \\\\\n",
    "k_0 & = 2\n",
    "\\end{align}\n",
    "\n",
    "so that a choice of $k_1 = 1$ and $k_0 = 2$ will put the closed loop poles at the desired locations."
   ]
  },
  {
   "cell_type": "markdown",
   "metadata": {
    "colab_type": "text",
    "id": "3DyPGkJdXW9p"
   },
   "source": [
    "# Arbitrary States"
   ]
  },
  {
   "cell_type": "markdown",
   "metadata": {
    "colab_type": "text",
    "id": "WLLz1abkXW9q"
   },
   "source": [
    "Example:\n",
    "---\n",
    "\n",
    "Design a full state feedback controller for the system\n",
    "\n",
    "$$ \n",
    "\\dot \\x = \\begin{pmatrix}\n",
    "1 & 2 & 1 \\\\\n",
    "0 & -1 & 0 \\\\\n",
    "0 & 0 & 1\n",
    "\\end{pmatrix} \\x + \\begin{pmatrix}\n",
    "0 \\\\\n",
    "1 \\\\\n",
    "1\n",
    "\\end{pmatrix} u\n",
    "$$\n",
    "\n",
    "that has 10% overshoot and a settling time of 2s, using the 2nd order pole approximation.\n",
    "\n",
    "**Solution:** Translating into second order pole locations, we want\n",
    "\n",
    "$$\n",
    "s = -2 \\pm 2.7 j\n",
    "$$\n",
    "\n",
    "for the dominant poles. Since the system is 3rd order, there is one more pole. Let's put it at $-5$. \n",
    "\n",
    "The resulting desired polynomial is"
   ]
  },
  {
   "cell_type": "code",
   "execution_count": 0,
   "metadata": {
    "colab": {},
    "colab_type": "code",
    "id": "hdka6P6VeRzY"
   },
   "outputs": [],
   "source": []
  },
  {
   "cell_type": "code",
   "execution_count": 0,
   "metadata": {
    "colab": {},
    "colab_type": "code",
    "id": "zRUOSg66XW9r",
    "outputId": "5a54a827-42a8-429a-be31-bda552101e2c"
   },
   "outputs": [
    {
     "data": {
      "text/latex": [
       "$$s^{3} + 9 s^{2} + 31.29 s + 56.45$$"
      ],
      "text/plain": [
       " 3      2                  \n",
       "s  + 9⋅s  + 31.29⋅s + 56.45"
      ]
     },
     "execution_count": 24,
     "metadata": {
      "tags": []
     },
     "output_type": "execute_result"
    }
   ],
   "source": [
    "var(\"s\")\n",
    "desired_charpoly = ((s+5)*(s+2-2.7*I)*(s+2+2.7*I)).expand()\n",
    "desired_charpoly"
   ]
  },
  {
   "cell_type": "markdown",
   "metadata": {
    "colab_type": "text",
    "id": "DxWpNKTbXW9y"
   },
   "source": [
    "Note that to determine the characteristic polynomial of $A-BK$ we need to find $(sI-A+BK)^{-1}$, which has the determinant of $sI-A+BK$ in the denominator."
   ]
  },
  {
   "cell_type": "code",
   "execution_count": 0,
   "metadata": {
    "colab": {},
    "colab_type": "code",
    "id": "tLrsYqu4XW9z",
    "outputId": "2e9034a3-f6c2-4399-9be2-5e37df672cd0"
   },
   "outputs": [
    {
     "data": {
      "text/latex": [
       "$$3 k_{0} s - k_{0} + k_{1} s^{2} - 2 k_{1} s + k_{1} + k_{2} s^{2} - k_{2} + s^{3} - s^{2} - s + 1$$"
      ],
      "text/plain": [
       "                  2                     2         3    2        \n",
       "3⋅k₀⋅s - k₀ + k₁⋅s  - 2⋅k₁⋅s + k₁ + k₂⋅s  - k₂ + s  - s  - s + 1"
      ]
     },
     "execution_count": 44,
     "metadata": {
      "tags": []
     },
     "output_type": "execute_result"
    }
   ],
   "source": [
    "var(\"k0 k1 k2\")\n",
    "A = Matrix([\n",
    "    [1,2,1],\n",
    "    [0,-1,0],\n",
    "    [0,0,1]\n",
    "])\n",
    "B = Matrix([\n",
    "    [0],\n",
    "    [1],\n",
    "    [1]\n",
    "])\n",
    "K = Matrix([[k0,k1,k2]])\n",
    "charpoly = (s*eye(3)-(A-B*K)).det()\n",
    "charpoly"
   ]
  },
  {
   "cell_type": "markdown",
   "metadata": {
    "colab_type": "text",
    "id": "cChTqXb-XW94"
   },
   "source": [
    "Now we set the coefficients of the two polynomials equal and solve for the gains."
   ]
  },
  {
   "cell_type": "code",
   "execution_count": 0,
   "metadata": {
    "colab": {},
    "colab_type": "code",
    "id": "wldhH8BmXW95",
    "outputId": "d57bdd25-4e3c-4508-be55-f9cb5982995e"
   },
   "outputs": [
    {
     "data": {
      "text/latex": [
       "$$\\left ( \\left[\\begin{matrix}1.0\\\\9.0\\\\31.29\\\\56.45\\end{matrix}\\right], \\quad \\left[\\begin{matrix}1\\\\k_{1} + k_{2} - 1\\\\3 k_{0} - 2 k_{1} - 1\\\\- k_{0} + k_{1} - k_{2} + 1\\end{matrix}\\right]\\right )$$"
      ],
      "text/plain": [
       "⎛⎡ 1.0 ⎤, ⎡        1        ⎤⎞\n",
       "⎜⎢     ⎥  ⎢                 ⎥⎟\n",
       "⎜⎢ 9.0 ⎥  ⎢   k₁ + k₂ - 1   ⎥⎟\n",
       "⎜⎢     ⎥  ⎢                 ⎥⎟\n",
       "⎜⎢31.29⎥  ⎢ 3⋅k₀ - 2⋅k₁ - 1 ⎥⎟\n",
       "⎜⎢     ⎥  ⎢                 ⎥⎟\n",
       "⎝⎣56.45⎦  ⎣-k₀ + k₁ - k₂ + 1⎦⎠"
      ]
     },
     "execution_count": 46,
     "metadata": {
      "tags": []
     },
     "output_type": "execute_result"
    }
   ],
   "source": [
    "c1 = Poly(desired_charpoly,s).coeffs()\n",
    "c2 = Poly(charpoly,s).coeffs()\n",
    "Matrix(c1), Matrix(c2)"
   ]
  },
  {
   "cell_type": "code",
   "execution_count": 0,
   "metadata": {
    "colab": {},
    "colab_type": "code",
    "id": "Tg7LaSftXW99",
    "outputId": "2a3072d6-6f52-40a7-ece9-d7fdda61783f"
   },
   "outputs": [
    {
     "data": {
      "text/latex": [
       "$$\\left[\\begin{matrix}48.87 & 57.16 & -47.16\\end{matrix}\\right]$$"
      ],
      "text/plain": [
       "[48.87  57.16  -47.16]"
      ]
     },
     "execution_count": 49,
     "metadata": {
      "tags": []
     },
     "output_type": "execute_result"
    }
   ],
   "source": [
    "gains = solve(Matrix(c1)-Matrix(c2),[k0,k1,k2])\n",
    "K.subs(gains)"
   ]
  },
  {
   "cell_type": "code",
   "execution_count": 0,
   "metadata": {
    "colab": {},
    "colab_type": "code",
    "id": "UaBs1ruOXW-A",
    "outputId": "449037c6-5c19-4517-f7be-c20ff2f119f0"
   },
   "outputs": [
    {
     "data": {
      "text/latex": [
       "$$\\left \\{ -5 : 1, \\quad -2 - \\frac{27 i}{10} : 1, \\quad -2 + \\frac{27 i}{10} : 1\\right \\}$$"
      ],
      "text/plain": [
       "⎧            27⋅ⅈ          27⋅ⅈ   ⎫\n",
       "⎨-5: 1, -2 - ────: 1, -2 + ────: 1⎬\n",
       "⎩             10            10    ⎭"
      ]
     },
     "execution_count": 51,
     "metadata": {
      "tags": []
     },
     "output_type": "execute_result"
    }
   ],
   "source": [
    "(A-B*K.subs(gains)).eigenvals()"
   ]
  },
  {
   "cell_type": "markdown",
   "metadata": {
    "colab_type": "text",
    "id": "Y8AxvbPpXW-F"
   },
   "source": [
    "# Integral Control"
   ]
  },
  {
   "cell_type": "markdown",
   "metadata": {
    "colab_type": "text",
    "id": "eqKlTKB9XW-I"
   },
   "source": [
    "You can also do integral control, in cases where you want to ensure you can track a step response with no steady state error. We just need to add a new state for the integrator:\n",
    "\n",
    "\\begin{align}\n",
    "\\dot x_I & = r - y \\\\\n",
    "         & = r - C \\x\n",
    "\\end{align}\n",
    "\n",
    "Together with $\\dot \\x = A \\x + B u$ and $y = C \\x$ we get the $n+1$ dimensional system\n",
    "\n",
    "\\begin{align}\n",
    "\\begin{pmatrix}\n",
    "\\dot \\x \\\\\n",
    "\\dot x_I\n",
    "\\end{pmatrix} & = \\begin{pmatrix}\n",
    "A & 0 \\\\\n",
    "-C & 0 \n",
    "\\end{pmatrix} \\begin{pmatrix}\n",
    "\\x \\\\\n",
    "x_I\n",
    "\\end{pmatrix} + \\begin{pmatrix}\n",
    "B \\\\\n",
    "0\n",
    "\\end{pmatrix} u + \\begin{pmatrix}\n",
    "0 \\\\\n",
    "1\n",
    "\\end{pmatrix} r\n",
    "\\end{align}\n",
    "\n",
    "Putting\n",
    "\n",
    "\\begin{align}\n",
    "u & = -K \\x + k_i x_I \\\\\n",
    "  & = - (K \\;\\; -k_I)  \\begin{pmatrix}\n",
    "\\x \\\\\n",
    "x_I\n",
    "\\end{pmatrix}\n",
    "\\end{align}\n",
    "\n",
    "Substituting this definition of $u$ into the above equations for $\\dot \\x$ gives\n",
    "\n",
    "\\begin{align}\n",
    "\\begin{pmatrix}\n",
    "\\dot \\x \\\\\n",
    "\\dot x_I\n",
    "\\end{pmatrix} & = \\begin{pmatrix}\n",
    "A-BK & B k_I \\\\\n",
    "-C & 0 \n",
    "\\end{pmatrix} \\begin{pmatrix}\n",
    "\\x \\\\\n",
    "x_I\n",
    "\\end{pmatrix}  + \\begin{pmatrix}\n",
    "0 \\\\\n",
    "1\n",
    "\\end{pmatrix} r.\n",
    "\\end{align}\n",
    "\n",
    "In block diagram form, this is\n",
    "\n",
    "<img width=75% src=\"https://raw.githubusercontent.com/klavins/ECE447/master/images/fsf-integral.png\">\n"
   ]
  },
  {
   "cell_type": "markdown",
   "metadata": {
    "colab_type": "text",
    "id": "PBsjhRu4XW-J"
   },
   "source": [
    "Example\n",
    "---\n",
    "\n",
    "Say\n",
    "\n",
    "\\begin{align}\n",
    "\\dot \\x & = \\begin{pmatrix}\n",
    "  2 & 1 \\\\\n",
    "  0 & -1\n",
    "\\end{pmatrix} \\x + \\begin{pmatrix}\n",
    "0 \\\\\n",
    "1\n",
    "\\end{pmatrix} u \\\\\n",
    "y & = ( 1 \\; 2 ) \\; \\x\n",
    "\\end{align}\n",
    "\n",
    "Adding an integrator and controller givies\n",
    "\n",
    "$$\n",
    "A-BK =  \\begin{pmatrix}\n",
    "2 & 1 \\\\\n",
    "-k_0 & -k_1 - 1\n",
    "\\end{pmatrix}\n",
    "$$\n",
    "\n",
    "and\n",
    "\n",
    "$$\n",
    "Bk_I = \\begin{pmatrix}\n",
    "0 \\\\\n",
    "k_I\n",
    "\\end{pmatrix} \n",
    "$$\n",
    "\n",
    "so\n",
    "\n",
    "\\begin{align}\n",
    "\\begin{pmatrix}\n",
    "\\dot x_1 \\\\\n",
    "\\dot x_2 \\\\\n",
    "\\dot x_I \n",
    "\\end{pmatrix} & = \\begin{pmatrix}\n",
    "  2 & 1 & 0 \\\\\n",
    "  -k_0 & -k_1-1 & k_I \\\\\n",
    "  -1 & -2 & 0\n",
    "\\end{pmatrix} \\begin{pmatrix}\n",
    "x_1 \\\\\n",
    "x_2 \\\\\n",
    "x_I \n",
    "\\end{pmatrix} + \\begin{pmatrix}\n",
    "0 \\\\\n",
    "0 \\\\\n",
    "1\n",
    "\\end{pmatrix} r \\\\\n",
    "y & = ( 1 \\; 2 \\; 0 ) \\; \\begin{pmatrix}\n",
    "x_1 \\\\\n",
    "x_2 \\\\\n",
    "x_I \n",
    "\\end{pmatrix} .\n",
    "\\end{align} \n",
    "\n",
    "We can find the characteristic equation to see if we can set the poles using sympy:"
   ]
  },
  {
   "cell_type": "code",
   "execution_count": 0,
   "metadata": {
    "colab": {},
    "colab_type": "code",
    "id": "AYxMiZ68XW-K",
    "outputId": "7b7ec00f-074a-4f95-ab41-cdbff16aeab6"
   },
   "outputs": [
    {
     "data": {
      "text/latex": [
       "$$- 3 ki + s^{3} + s^{2} \\left(k_{1} - 1\\right) + s \\left(k_{0} - 2 k_{1} + 2 ki - 2\\right)$$"
      ],
      "text/plain": [
       "         3    2                                    \n",
       "-3⋅ki + s  + s ⋅(k₁ - 1) + s⋅(k₀ - 2⋅k₁ + 2⋅ki - 2)"
      ]
     },
     "execution_count": 6,
     "metadata": {
      "tags": []
     },
     "output_type": "execute_result"
    }
   ],
   "source": [
    "var(\"s k0 k1 ki\")\n",
    "A = Matrix([\n",
    "    [2,1,0],\n",
    "    [-k0,-k1-1,ki],\n",
    "    [-1, -2, 0]\n",
    "])\n",
    "poly = (s*eye(3)-A).det().collect(s)\n",
    "poly"
   ]
  },
  {
   "cell_type": "markdown",
   "metadata": {
    "colab_type": "text",
    "id": "R4JVizHTXW-O"
   },
   "source": [
    "You can see from the above that the three coefficients have different combinations of the gains and we can choose them to get any desired coefficients we want. For example, \n",
    "to get\n",
    "\n",
    "$$\n",
    "s^3+ 3s^2 + s^2 + 1\n",
    "$$\n",
    "\n",
    "we do the following"
   ]
  },
  {
   "cell_type": "code",
   "execution_count": 0,
   "metadata": {
    "colab": {},
    "colab_type": "code",
    "id": "_55DmcgiXW-O",
    "outputId": "566f7887-5b97-4048-c731-ba3657d8f485"
   },
   "outputs": [
    {
     "data": {
      "text/latex": [
       "$$\\left \\{ k_{0} : \\frac{41}{3}, \\quad k_{1} : 4, \\quad ki : - \\frac{1}{3}\\right \\}$$"
      ],
      "text/plain": [
       "{k₀: 41/3, k₁: 4, ki: -1/3}"
      ]
     },
     "execution_count": 7,
     "metadata": {
      "tags": []
     },
     "output_type": "execute_result"
    }
   ],
   "source": [
    "solve(\n",
    "    Matrix([Poly(poly,s).coeffs()]) \n",
    "    - Matrix([[1,3,3,1]])\n",
    ",[k0,k1,ki])"
   ]
  },
  {
   "cell_type": "markdown",
   "metadata": {
    "colab_type": "text",
    "heading_collapsed": true,
    "id": "CPIBj1CTXW-S"
   },
   "source": [
    "# What could go wrong?"
   ]
  },
  {
   "cell_type": "markdown",
   "metadata": {
    "colab_type": "text",
    "hidden": true,
    "id": "IOQ3zW2ZXW-T"
   },
   "source": [
    "Consider the system\n",
    "\n",
    "\\begin{align}\n",
    "\\dot \\x & = \\begin{pmatrix}\n",
    "  -1 & 0 \\\\\n",
    "  0 & -2\n",
    "\\end{pmatrix} \\x + \\begin{pmatrix} \n",
    "0 \\\\\n",
    "1\n",
    "\\end{pmatrix} u \\\\\n",
    "y & = ( 0 \\; 1 ) \\; \\x\n",
    "\\end{align}\n",
    "\n",
    "Note that the input $u$ does not affect $\\x$ in any way. When we try to design a full state feedback controller, we get\n",
    "\n",
    "\\begin{align}\n",
    "A - BK & = \\begin{pmatrix}\n",
    "  -1 & 0 \\\\\n",
    "  0 & -2\n",
    "\\end{pmatrix} - \\begin{pmatrix}\n",
    "0 \\\\\n",
    "1\n",
    "\\end{pmatrix} ( k_0 \\;\\; k_1 ) \\\\\n",
    "  &= \\begin{pmatrix}\n",
    "  -1 & 0 \\\\\n",
    "  -k_0 & -k_1\n",
    "\\end{pmatrix}\n",
    "\\end{align}\n",
    "\n",
    "Taking the determinant $|s I - A + BK|$ gives\n",
    "\n",
    "\\begin{align}\n",
    "\\left |\n",
    "\\begin{pmatrix}\n",
    "s+1 & 0 \\\\\n",
    "k_0 & s+k_1\n",
    "\\end{pmatrix}\n",
    "\\right | & = (s+1)(s+k_1) \\\\\n",
    "         & = s^2 + (k_1+1)s + k_1\n",
    "\\end{align}\n",
    "\n",
    "The gain $k_0$ is not present and $k_1$ can not be chosen to give any coefficients you want, but rather only along a one dimensional curve in the $s$ plane parameterized by $k_1$. Therefore,\n",
    "\n",
    "> Full state feedback only works for certain combinations of $A$ and $B$ matrices. "
   ]
  },
  {
   "cell_type": "code",
   "execution_count": 0,
   "metadata": {
    "colab": {},
    "colab_type": "code",
    "hidden": true,
    "id": "e9jG8R9EXW-U"
   },
   "outputs": [],
   "source": []
  }
 ],
 "metadata": {
  "colab": {
   "name": "“full-state-feedback.ipynb”的副本",
   "provenance": [
    {
     "file_id": "https://github.com/klavins/ECE447/blob/master/lectures/full-state-feedback.ipynb",
     "timestamp": 1560557860769
    }
   ],
   "version": "0.3.2"
  },
  "kernelspec": {
   "display_name": "Python 3",
   "language": "python",
   "name": "python3"
  },
  "language_info": {
   "codemirror_mode": {
    "name": "ipython",
    "version": 3
   },
   "file_extension": ".py",
   "mimetype": "text/x-python",
   "name": "python",
   "nbconvert_exporter": "python",
   "pygments_lexer": "ipython3",
   "version": "3.7.0"
  }
 },
 "nbformat": 4,
 "nbformat_minor": 1
}
