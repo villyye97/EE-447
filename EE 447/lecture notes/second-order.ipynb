{
 "cells": [
  {
   "cell_type": "markdown",
   "metadata": {
    "colab_type": "text",
    "id": "4ev4o0oxehs7"
   },
   "source": [
    "ECE 447: Second Order Systems\n",
    "===\n",
    "\n",
    "Prof. Eric Klavins\n",
    "\n",
    "&copy; 2019, University of Washington"
   ]
  },
  {
   "cell_type": "markdown",
   "metadata": {
    "colab_type": "text",
    "id": "LVNL_APfehs-"
   },
   "source": [
    "# Code"
   ]
  },
  {
   "cell_type": "code",
   "execution_count": 3,
   "metadata": {
    "colab": {},
    "colab_type": "code",
    "id": "mJi6ebLAehtA"
   },
   "outputs": [],
   "source": [
    "import numpy as np\n",
    "import scipy.integrate as spi\n",
    "import matplotlib.pyplot as plt\n",
    "from sympy import *\n",
    "\n",
    "%matplotlib inline\n",
    "\n",
    "# Comment out in Google colab \n",
    "init_printing(use_latex='mathjax')\n",
    "\n",
    "#Uncomment in below Google colab to render sympy equations nicely\n",
    "#def custom_latex_printer(exp,**options):\n",
    " #   from google.colab.output._publish import javascript\n",
    "  #  url = \"https://cdnjs.cloudflare.com/ajax/libs/mathjax/2.7.3/latest.js?config=default\"\n",
    "  #  javascript(url=url)\n",
    "   # return printing.latex(exp,**options)\n",
    "#init_printing(use_latex=\"mathjax\",latex_printer=custom_latex_printer)\n",
    "\n",
    "def center(plt):\n",
    "    plt.gca().spines['left'].set_position('center')\n",
    "    plt.gca().spines['bottom'].set_position('center')\n",
    "    plt.gca().spines['right'].set_color('none')\n",
    "    plt.gca().spines['top'].set_color('none')\n",
    "    plt.gca().set_aspect('equal') \n",
    "    \n",
    "def poles(plt,poles):\n",
    "    center(plt)\n",
    "    for p in poles:\n",
    "        plt.plot([p[0]-0.1,p[0]+0.1],[p[1]-0.1,p[1]+0.1],'black')\n",
    "        plt.plot([p[0]-0.1,p[0]+0.1],[p[1]+0.1,p[1]-0.1],'black')   \n",
    "        plt.xlabel(\"Im\", labelpad=100)\n",
    "        plt.ylabel(\"Re\", labelpad=140)        "
   ]
  },
  {
   "cell_type": "markdown",
   "metadata": {
    "colab_type": "text",
    "heading_collapsed": true,
    "id": "fjrJZtWvehtI"
   },
   "source": [
    "# Goal"
   ]
  },
  {
   "cell_type": "markdown",
   "metadata": {
    "colab_type": "text",
    "hidden": true,
    "id": "nrqhFKICehtK"
   },
   "source": [
    "Here, our goal is to find the exact solution of a typical second order system with two poles and no zeros. With the exact solution, we will be able to look precisely at metrics like rise time, overshoot, and settling time. Although not every system is a second order system with one zero, we will (later) see that by placing the two dominant poles of a system carefully, that we can make even higher order systems behave approximately like the system we will study here."
   ]
  },
  {
   "cell_type": "markdown",
   "metadata": {
    "colab_type": "text",
    "id": "4HIDVC7_ehtM"
   },
   "source": [
    "# The Archetypal System"
   ]
  },
  {
   "cell_type": "markdown",
   "metadata": {
    "colab_type": "text",
    "id": "mjMO-OEnehtO"
   },
   "source": [
    "Consider the system\n",
    "\n",
    "$$\n",
    "T(s) = \\frac{\\omega^2}{s^2 + 2 \\zeta \\omega s + \\omega^2}\n",
    "$$\n",
    "\n",
    "where $\\zeta \\geq 0$ and $\\omega \\geq 0$ are constants that depend on whatever physical parameters of the system are present. This is the general form a system with two poles and no zeros.\n",
    "\n",
    "The poles are the roots of the denominator of $T(s)$ and are found using the quadratic formula:\n",
    "\n",
    "$$\n",
    "\\frac{-2 \\zeta \\omega \\pm \\sqrt{4 \\zeta^2 \\omega^2 - 4 \\omega^2}}{2}\n",
    "$$\n",
    "\n",
    "which simplifies to \n",
    "\n",
    "\\begin{align}\n",
    " & \\; -\\omega\\zeta \\pm \\omega \\sqrt{\\zeta^2 - 1} \\\\\n",
    " & = - \\omega\\zeta \\pm \\omega \\beta i\n",
    "\\end{align}\n",
    "\n",
    "where $\\beta = \\sqrt{1- \\zeta^2}$.\n",
    "\n",
    "In the s-plane this looks like:"
   ]
  },
  {
   "cell_type": "code",
   "execution_count": 14,
   "metadata": {
    "colab": {
     "base_uri": "https://localhost:8080/",
     "height": 271
    },
    "colab_type": "code",
    "executionInfo": {
     "elapsed": 856,
     "status": "ok",
     "timestamp": 1557421419221,
     "user": {
      "displayName": "Villy CHEN",
      "photoUrl": "https://lh5.googleusercontent.com/-e49i64Tp89U/AAAAAAAAAAI/AAAAAAAAAA0/mVPc3qLMp0E/s64/photo.jpg",
      "userId": "15214834225882765760"
     },
     "user_tz": 420
    },
    "id": "_N9I_yKOehtQ",
    "outputId": "ef8e7701-b68a-408c-9cee-be2edab51116"
   },
   "outputs": [
    {
     "data": {
      "image/png": "[encoded data removed]",
      "text/plain": [
       "<Figure size 432x288 with 1 Axes>"
      ]
     },
     "metadata": {
      "needs_background": "light"
     },
     "output_type": "display_data"
    }
   ],
   "source": [
    "plt.xlim(-3,3)\n",
    "plt.ylim(-2,2)\n",
    "plt.plot([-2,0],[1,0],'blue')\n",
    "plt.plot([-2,0],[-1,0],'blue')\n",
    "poles(plt,[[-2,1],[-2,-1]])\n",
    "x1 = plt.Text(0.1,0.95, \"$\\omega\\;\\\\beta\\;i$\")\n",
    "x2 = plt.Text(-2.15,0.1, \"$\\omega\\;\\\\zeta$\")\n",
    "plt.gca().add_artist(x1)\n",
    "plt.gca().add_artist(x2);"
   ]
  },
  {
   "cell_type": "markdown",
   "metadata": {
    "colab_type": "text",
    "id": "FUl9yl5eehtc"
   },
   "source": [
    "The parameter $\\zeta$ is called the **damping ratio**:\n",
    "\n",
    "- $\\zeta = 0 \\; \\Rightarrow$ pure oscillations\n",
    "- $\\zeta = 1 \\; \\Rightarrow$ critically damped\n",
    "\n",
    "The parameter $\\omega$ is called the **natural frequency**."
   ]
  },
  {
   "cell_type": "markdown",
   "metadata": {
    "colab_type": "text",
    "id": "Z0Gxo7sGehte"
   },
   "source": [
    "# The Step Response"
   ]
  },
  {
   "cell_type": "markdown",
   "metadata": {
    "colab_type": "text",
    "id": "x2d_Iuw6ehtf"
   },
   "source": [
    "To learn more about the behavior of the archetypal system, we'll find its step response."
   ]
  },
  {
   "cell_type": "code",
   "execution_count": 5,
   "metadata": {
    "colab": {
     "base_uri": "https://localhost:8080/",
     "height": 86
    },
    "colab_type": "code",
    "executionInfo": {
     "elapsed": 973,
     "status": "ok",
     "timestamp": 1557421419348,
     "user": {
      "displayName": "Villy CHEN",
      "photoUrl": "https://lh5.googleusercontent.com/-e49i64Tp89U/AAAAAAAAAAI/AAAAAAAAAA0/mVPc3qLMp0E/s64/photo.jpg",
      "userId": "15214834225882765760"
     },
     "user_tz": 420
    },
    "id": "Jw4Gxfsdehth",
    "outputId": "3021dabc-1bc7-4037-e1e0-596026ef3149"
   },
   "outputs": [
    {
     "data": {
      "text/latex": [
       "$$\\frac{w^{2}}{s^{2} + 2 s w z + w^{2}}$$"
      ],
      "text/plain": [
       "         2       \n",
       "        w        \n",
       "─────────────────\n",
       " 2              2\n",
       "s  + 2⋅s⋅w⋅z + w "
      ]
     },
     "execution_count": 5,
     "metadata": {},
     "output_type": "execute_result"
    }
   ],
   "source": [
    "# Declare variables\n",
    "var(\"s\")\n",
    "var(\"w z t b a tau theta\", real=True, positive=True)\n",
    "T = (w**2)/(s**2 + 2*z*w*s + w**2)\n",
    "T"
   ]
  },
  {
   "cell_type": "code",
   "execution_count": 26,
   "metadata": {},
   "outputs": [
    {
     "data": {
      "text/latex": [
       "$$\\frac{a w^{2}}{s^{2} + 2 s w z + w^{2}} + \\frac{s w^{2}}{s^{2} + 2 s w z + w^{2}}$$"
      ],
      "text/plain": [
       "          2                   2      \n",
       "       a⋅w                 s⋅w       \n",
       "───────────────── + ─────────────────\n",
       " 2              2    2              2\n",
       "s  + 2⋅s⋅w⋅z + w    s  + 2⋅s⋅w⋅z + w "
      ]
     },
     "execution_count": 26,
     "metadata": {},
     "output_type": "execute_result"
    }
   ],
   "source": [
    "G = s*T+a*T\n",
    "G"
   ]
  },
  {
   "cell_type": "markdown",
   "metadata": {
    "colab_type": "text",
    "id": "Ilbr9CW2hy3h"
   },
   "source": [
    "$$\\frac{w^{2}}{s^{2} + 2 s w z + w^{2}}$$"
   ]
  },
  {
   "cell_type": "code",
   "execution_count": 16,
   "metadata": {
    "colab": {
     "base_uri": "https://localhost:8080/",
     "height": 66
    },
    "colab_type": "code",
    "executionInfo": {
     "elapsed": 9009,
     "status": "ok",
     "timestamp": 1557421427400,
     "user": {
      "displayName": "Villy CHEN",
      "photoUrl": "https://lh5.googleusercontent.com/-e49i64Tp89U/AAAAAAAAAAI/AAAAAAAAAA0/mVPc3qLMp0E/s64/photo.jpg",
      "userId": "15214834225882765760"
     },
     "user_tz": 420
    },
    "id": "-gXN6_o2ehtr",
    "outputId": "63da8f54-af77-45cc-ca3b-1afed5b43ed6"
   },
   "outputs": [
    {
     "data": {
      "text/latex": [
       "$$\\frac{e^{- t w z}}{\\left(z - \\sqrt{z - 1} \\sqrt{z + 1}\\right)^{2} \\left(z + \\sqrt{z - 1} \\sqrt{z + 1}\\right)^{2} \\sqrt{z^{2} - 1}} \\left(- \\frac{i z}{2} e^{t w \\sqrt{z + 1} \\cos{\\left (\\frac{1}{2} \\operatorname{atan_{2}}{\\left (0,z - 1 \\right )} \\right )} \\sqrt{\\left|{z - 1}\\right|}} \\sin{\\left (t w \\sqrt{z + 1} \\sin{\\left (\\frac{1}{2} \\operatorname{atan_{2}}{\\left (0,z - 1 \\right )} \\right )} \\sqrt{\\left|{z - 1}\\right|} \\right )} - \\frac{z}{2} e^{t w \\sqrt{z + 1} \\cos{\\left (\\frac{1}{2} \\operatorname{atan_{2}}{\\left (0,z - 1 \\right )} \\right )} \\sqrt{\\left|{z - 1}\\right|}} \\cos{\\left (t w \\sqrt{z + 1} \\sin{\\left (\\frac{1}{2} \\operatorname{atan_{2}}{\\left (0,z - 1 \\right )} \\right )} \\sqrt{\\left|{z - 1}\\right|} \\right )} - \\frac{i z}{2} e^{- t w \\sqrt{z + 1} \\cos{\\left (\\frac{1}{2} \\operatorname{atan_{2}}{\\left (0,z - 1 \\right )} \\right )} \\sqrt{\\left|{z - 1}\\right|}} \\sin{\\left (t w \\sqrt{z + 1} \\sin{\\left (\\frac{1}{2} \\operatorname{atan_{2}}{\\left (0,z - 1 \\right )} \\right )} \\sqrt{\\left|{z - 1}\\right|} \\right )} + \\frac{z}{2} e^{- t w \\sqrt{z + 1} \\cos{\\left (\\frac{1}{2} \\operatorname{atan_{2}}{\\left (0,z - 1 \\right )} \\right )} \\sqrt{\\left|{z - 1}\\right|}} \\cos{\\left (t w \\sqrt{z + 1} \\sin{\\left (\\frac{1}{2} \\operatorname{atan_{2}}{\\left (0,z - 1 \\right )} \\right )} \\sqrt{\\left|{z - 1}\\right|} \\right )} - \\frac{i}{2} \\sqrt{z - 1} \\sqrt{z + 1} e^{t w \\sqrt{z + 1} \\cos{\\left (\\frac{1}{2} \\operatorname{atan_{2}}{\\left (0,z - 1 \\right )} \\right )} \\sqrt{\\left|{z - 1}\\right|}} \\sin{\\left (t w \\sqrt{z + 1} \\sin{\\left (\\frac{1}{2} \\operatorname{atan_{2}}{\\left (0,z - 1 \\right )} \\right )} \\sqrt{\\left|{z - 1}\\right|} \\right )} + \\frac{i}{2} \\sqrt{z - 1} \\sqrt{z + 1} e^{- t w \\sqrt{z + 1} \\cos{\\left (\\frac{1}{2} \\operatorname{atan_{2}}{\\left (0,z - 1 \\right )} \\right )} \\sqrt{\\left|{z - 1}\\right|}} \\sin{\\left (t w \\sqrt{z + 1} \\sin{\\left (\\frac{1}{2} \\operatorname{atan_{2}}{\\left (0,z - 1 \\right )} \\right )} \\sqrt{\\left|{z - 1}\\right|} \\right )} + \\sqrt{z^{2} - 1} e^{t w z} - \\frac{1}{2} \\sqrt{z^{2} - 1} e^{t w \\sqrt{z + 1} \\cos{\\left (\\frac{1}{2} \\operatorname{atan_{2}}{\\left (0,z - 1 \\right )} \\right )} \\sqrt{\\left|{z - 1}\\right|}} \\cos{\\left (t w \\sqrt{z + 1} \\sin{\\left (\\frac{1}{2} \\operatorname{atan_{2}}{\\left (0,z - 1 \\right )} \\right )} \\sqrt{\\left|{z - 1}\\right|} \\right )} - \\frac{1}{2} \\sqrt{z^{2} - 1} e^{- t w \\sqrt{z + 1} \\cos{\\left (\\frac{1}{2} \\operatorname{atan_{2}}{\\left (0,z - 1 \\right )} \\right )} \\sqrt{\\left|{z - 1}\\right|}} \\cos{\\left (t w \\sqrt{z + 1} \\sin{\\left (\\frac{1}{2} \\operatorname{atan_{2}}{\\left (0,z - 1 \\right )} \\right )} \\sqrt{\\left|{z - 1}\\right|} \\right )}\\right)$$"
      ],
      "text/plain": [
       "⎛             _______    ⎛atan2(0, z - 1)⎞   _________                        \n",
       "⎜       t⋅w⋅╲╱ z + 1 ⋅cos⎜───────────────⎟⋅╲╱ │z - 1│                         \n",
       "⎜                        ⎝       2       ⎠                ⎛      _______    ⎛a\n",
       "⎜  ⅈ⋅z⋅ℯ                                              ⋅sin⎜t⋅w⋅╲╱ z + 1 ⋅sin⎜─\n",
       "⎜                                                         ⎝                 ⎝ \n",
       "⎜- ───────────────────────────────────────────────────────────────────────────\n",
       "⎝                                                     2                       \n",
       "──────────────────────────────────────────────────────────────────────────────\n",
       "                                                                              \n",
       "                                                                              \n",
       "                                                                              \n",
       "\n",
       "                                        _______    ⎛atan2(0, z - 1)⎞   _______\n",
       "                                  t⋅w⋅╲╱ z + 1 ⋅cos⎜───────────────⎟⋅╲╱ │z - 1\n",
       "tan2(0, z - 1)⎞   _________⎞                       ⎝       2       ⎠          \n",
       "──────────────⎟⋅╲╱ │z - 1│ ⎟   z⋅ℯ                                            \n",
       "      2       ⎠            ⎠                                                  \n",
       "──────────────────────────── - ───────────────────────────────────────────────\n",
       "                                                                              \n",
       "──────────────────────────────────────────────────────────────────────────────\n",
       "                                                                              \n",
       "                                                                              \n",
       "                                                                              \n",
       "\n",
       "__                                                                   _______  \n",
       "│                                                             -t⋅w⋅╲╱ z + 1 ⋅c\n",
       "      ⎛      _______    ⎛atan2(0, z - 1)⎞   _________⎞                        \n",
       "  ⋅cos⎜t⋅w⋅╲╱ z + 1 ⋅sin⎜───────────────⎟⋅╲╱ │z - 1│ ⎟   ⅈ⋅z⋅ℯ                \n",
       "      ⎝                 ⎝       2       ⎠            ⎠                        \n",
       "────────────────────────────────────────────────────── - ─────────────────────\n",
       "   2                                                                          \n",
       "──────────────────────────────────────────────────────────────────────────────\n",
       "                                                                              \n",
       "                                                                              \n",
       "                                                                              \n",
       "\n",
       "  ⎛atan2(0, z - 1)⎞   _________                                               \n",
       "os⎜───────────────⎟⋅╲╱ │z - 1│                                                \n",
       "  ⎝       2       ⎠                ⎛      _______    ⎛atan2(0, z - 1)⎞   _____\n",
       "                               ⋅sin⎜t⋅w⋅╲╱ z + 1 ⋅sin⎜───────────────⎟⋅╲╱ │z -\n",
       "                                   ⎝                 ⎝       2       ⎠        \n",
       "──────────────────────────────────────────────────────────────────────────────\n",
       "                              2                                               \n",
       "──────────────────────────────────────────────────────────────────────────────\n",
       "                                                                              \n",
       "                                                                              \n",
       "                                                                              \n",
       "\n",
       "                  _______    ⎛atan2(0, z - 1)⎞   _________                    \n",
       "           -t⋅w⋅╲╱ z + 1 ⋅cos⎜───────────────⎟⋅╲╱ │z - 1│                     \n",
       "____⎞                        ⎝       2       ⎠                ⎛      _______  \n",
       " 1│ ⎟   z⋅ℯ                                               ⋅cos⎜t⋅w⋅╲╱ z + 1 ⋅s\n",
       "    ⎠                                                         ⎝               \n",
       "───── + ──────────────────────────────────────────────────────────────────────\n",
       "                                                          2                   \n",
       "──────────────────────────────────────────────────────────────────────────────\n",
       "                                                                              \n",
       "                                                                              \n",
       "                                                                              \n",
       "\n",
       "                                                                _______    ⎛at\n",
       "                                                          t⋅w⋅╲╱ z + 1 ⋅cos⎜──\n",
       "  ⎛atan2(0, z - 1)⎞   _________⎞       _______   _______                   ⎝  \n",
       "in⎜───────────────⎟⋅╲╱ │z - 1│ ⎟   ⅈ⋅╲╱ z - 1 ⋅╲╱ z + 1 ⋅ℯ                    \n",
       "  ⎝       2       ⎠            ⎠                                              \n",
       "──────────────────────────────── - ───────────────────────────────────────────\n",
       "                                                                              \n",
       "──────────────────────────────────────────────────────────────────────────────\n",
       "                                                                   2          \n",
       "                                          ⎛      _______   _______⎞  ⎛      __\n",
       "                                          ⎝z - ╲╱ z - 1 ⋅╲╱ z + 1 ⎠ ⋅⎝z + ╲╱ z\n",
       "\n",
       "an2(0, z - 1)⎞   _________                                                    \n",
       "─────────────⎟⋅╲╱ │z - 1│                                                     \n",
       "     2       ⎠                ⎛      _______    ⎛atan2(0, z - 1)⎞   _________⎞\n",
       "                          ⋅sin⎜t⋅w⋅╲╱ z + 1 ⋅sin⎜───────────────⎟⋅╲╱ │z - 1│ ⎟\n",
       "                              ⎝                 ⎝       2       ⎠            ⎠\n",
       "──────────────────────────────────────────────────────────────────────────────\n",
       "                 2                                                            \n",
       "──────────────────────────────────────────────────────────────────────────────\n",
       "                2    ________                                                 \n",
       "_____   _______⎞    ╱  2                                                      \n",
       " - 1 ⋅╲╱ z + 1 ⎠ ⋅╲╱  z  - 1                                                  \n",
       "\n",
       "                                 _______    ⎛atan2(0, z - 1)⎞   _________     \n",
       "                          -t⋅w⋅╲╱ z + 1 ⋅cos⎜───────────────⎟⋅╲╱ │z - 1│      \n",
       "       _______   _______                    ⎝       2       ⎠                ⎛\n",
       "   ⅈ⋅╲╱ z - 1 ⋅╲╱ z + 1 ⋅ℯ                                               ⋅sin⎜\n",
       "                                                                             ⎝\n",
       " + ───────────────────────────────────────────────────────────────────────────\n",
       "                                                               2              \n",
       "──────────────────────────────────────────────────────────────────────────────\n",
       "                                                                              \n",
       "                                                                              \n",
       "                                                                              \n",
       "\n",
       "                                                                              \n",
       "                                                                          ____\n",
       "      _______    ⎛atan2(0, z - 1)⎞   _________⎞                          ╱  2 \n",
       "t⋅w⋅╲╱ z + 1 ⋅sin⎜───────────────⎟⋅╲╱ │z - 1│ ⎟      ________          ╲╱  z  \n",
       "                 ⎝       2       ⎠            ⎠     ╱  2       t⋅w⋅z          \n",
       "─────────────────────────────────────────────── + ╲╱  z  - 1 ⋅ℯ      - ───────\n",
       "                                                                              \n",
       "──────────────────────────────────────────────────────────────────────────────\n",
       "                                                                              \n",
       "                                                                              \n",
       "                                                                              \n",
       "\n",
       "            _______    ⎛atan2(0, z - 1)⎞   _________                          \n",
       "____  t⋅w⋅╲╱ z + 1 ⋅cos⎜───────────────⎟⋅╲╱ │z - 1│                           \n",
       "                       ⎝       2       ⎠                ⎛      _______    ⎛ata\n",
       "- 1 ⋅ℯ                                              ⋅cos⎜t⋅w⋅╲╱ z + 1 ⋅sin⎜───\n",
       "                                                        ⎝                 ⎝   \n",
       "──────────────────────────────────────────────────────────────────────────────\n",
       "                                                2                             \n",
       "──────────────────────────────────────────────────────────────────────────────\n",
       "                                                                              \n",
       "                                                                              \n",
       "                                                                              \n",
       "\n",
       "                                                 _______    ⎛atan2(0, z - 1)⎞ \n",
       "                                ________  -t⋅w⋅╲╱ z + 1 ⋅cos⎜───────────────⎟⋅\n",
       "n2(0, z - 1)⎞   _________⎞     ╱  2                         ⎝       2       ⎠ \n",
       "────────────⎟⋅╲╱ │z - 1│ ⎟   ╲╱  z  - 1 ⋅ℯ                                    \n",
       "    2       ⎠            ⎠                                                    \n",
       "────────────────────────── - ─────────────────────────────────────────────────\n",
       "                                                                              \n",
       "──────────────────────────────────────────────────────────────────────────────\n",
       "                                                                              \n",
       "                                                                              \n",
       "                                                                              \n",
       "\n",
       "  _________                                                    ⎞        \n",
       "╲╱ │z - 1│                                                     ⎟        \n",
       "               ⎛      _______    ⎛atan2(0, z - 1)⎞   _________⎞⎟        \n",
       "           ⋅cos⎜t⋅w⋅╲╱ z + 1 ⋅sin⎜───────────────⎟⋅╲╱ │z - 1│ ⎟⎟        \n",
       "               ⎝                 ⎝       2       ⎠            ⎠⎟  -t⋅w⋅z\n",
       "───────────────────────────────────────────────────────────────⎟⋅ℯ      \n",
       "      2                                                        ⎠        \n",
       "────────────────────────────────────────────────────────────────────────\n",
       "                                                                        \n",
       "                                                                        \n",
       "                                                                        "
      ]
     },
     "execution_count": 16,
     "metadata": {},
     "output_type": "execute_result"
    }
   ],
   "source": [
    "# Unfortunately, sympy gives us a fairly unintutitive expression\n",
    "inverse_laplace_transform((1/s)*T,s,t)"
   ]
  },
  {
   "cell_type": "code",
   "execution_count": 6,
   "metadata": {
    "colab": {
     "base_uri": "https://localhost:8080/",
     "height": 87
    },
    "colab_type": "code",
    "executionInfo": {
     "elapsed": 9220,
     "status": "ok",
     "timestamp": 1557421427627,
     "user": {
      "displayName": "Villy CHEN",
      "photoUrl": "https://lh5.googleusercontent.com/-e49i64Tp89U/AAAAAAAAAAI/AAAAAAAAAA0/mVPc3qLMp0E/s64/photo.jpg",
      "userId": "15214834225882765760"
     },
     "user_tz": 420
    },
    "id": "J2NO9guIehtz",
    "outputId": "18c0db2c-b041-4775-d1c8-58b21e422f47"
   },
   "outputs": [
    {
     "data": {
      "text/latex": [
       "$$\\left ( \\left[\\begin{matrix}- w z & - b w\\\\b w & - w z\\end{matrix}\\right], \\quad \\left[\\begin{matrix}w \\left(a + s\\right)\\\\0\\end{matrix}\\right], \\quad \\left[\\begin{matrix}0 & \\frac{1}{b}\\end{matrix}\\right]\\right )$$"
      ],
      "text/plain": [
       "⎛⎡-w⋅z  -b⋅w⎤  ⎡w⋅(a + s)⎤  ⎡   1⎤⎞\n",
       "⎜⎢          ⎥, ⎢         ⎥, ⎢0  ─⎥⎟\n",
       "⎝⎣b⋅w   -w⋅z⎦  ⎣    0    ⎦  ⎣   b⎦⎠"
      ]
     },
     "execution_count": 6,
     "metadata": {},
     "output_type": "execute_result"
    }
   ],
   "source": [
    "# Can represent the system in state space though\n",
    "A = Matrix([\n",
    "    [-w*z, -w*b],\n",
    "    [w*b,-w*z]\n",
    "])\n",
    "B=Matrix([\n",
    "    [(a+s)*w],\n",
    "    [0]\n",
    "])\n",
    "C = Matrix([[0,1/b]])\n",
    "A,B,C"
   ]
  },
  {
   "cell_type": "markdown",
   "metadata": {
    "colab_type": "text",
    "id": "CWphnu2Le_ml"
   },
   "source": [
    "$$\\left ( \\left[\\begin{matrix}- w z & - b w\\\\b w & - w z\\end{matrix}\\right], \\quad \\left[\\begin{matrix}w\\\\0\\end{matrix}\\right], \\quad \\left[\\begin{matrix}0 & \\frac{1}{b}\\end{matrix}\\right]\\right )$$"
   ]
  },
  {
   "cell_type": "code",
   "execution_count": 7,
   "metadata": {
    "colab": {
     "base_uri": "https://localhost:8080/",
     "height": 77
    },
    "colab_type": "code",
    "executionInfo": {
     "elapsed": 9210,
     "status": "ok",
     "timestamp": 1557421427630,
     "user": {
      "displayName": "Villy CHEN",
      "photoUrl": "https://lh5.googleusercontent.com/-e49i64Tp89U/AAAAAAAAAAI/AAAAAAAAAA0/mVPc3qLMp0E/s64/photo.jpg",
      "userId": "15214834225882765760"
     },
     "user_tz": 420
    },
    "id": "2Nu0EVuDeht-",
    "outputId": "243326bf-11bc-4782-e165-98ec73463acf"
   },
   "outputs": [
    {
     "data": {
      "text/latex": [
       "$$\\left[\\begin{matrix}- \\frac{w^{2} \\left(a + s\\right)}{- b^{2} w^{2} - \\left(s + w z\\right)^{2}}\\end{matrix}\\right]$$"
      ],
      "text/plain": [
       "⎡      2             ⎤\n",
       "⎢    -w ⋅(a + s)     ⎥\n",
       "⎢────────────────────⎥\n",
       "⎢   2  2            2⎥\n",
       "⎣- b ⋅w  - (s + w⋅z) ⎦"
      ]
     },
     "execution_count": 7,
     "metadata": {},
     "output_type": "execute_result"
    }
   ],
   "source": [
    "# Let's check that this gives us the same transfer function back\n",
    "Tcheck = C*(s*eye(2)-A).inv()*B\n",
    "Tcheck"
   ]
  },
  {
   "cell_type": "markdown",
   "metadata": {
    "colab_type": "text",
    "id": "yh5KtiKTiCkF"
   },
   "source": [
    "$$\\left[\\begin{matrix}\\frac{w^{2}}{\\left(s + w z\\right) \\left(\\frac{b^{2} w^{2}}{s + w z} + s + w z\\right)}\\end{matrix}\\right]$$"
   ]
  },
  {
   "cell_type": "code",
   "execution_count": 8,
   "metadata": {
    "colab": {
     "base_uri": "https://localhost:8080/",
     "height": 77
    },
    "colab_type": "code",
    "executionInfo": {
     "elapsed": 9383,
     "status": "ok",
     "timestamp": 1557421427811,
     "user": {
      "displayName": "Villy CHEN",
      "photoUrl": "https://lh5.googleusercontent.com/-e49i64Tp89U/AAAAAAAAAAI/AAAAAAAAAA0/mVPc3qLMp0E/s64/photo.jpg",
      "userId": "15214834225882765760"
     },
     "user_tz": 420
    },
    "id": "iWbBnvw3ehuN",
    "outputId": "0fce30bd-faa3-43e7-f4c1-7fd9a30b1a6e"
   },
   "outputs": [
    {
     "data": {
      "text/latex": [
       "$$\\left[\\begin{matrix}\\frac{w^{2} \\left(a + s\\right)}{s^{2} + 2 s w z + w^{2}}\\end{matrix}\\right]$$"
      ],
      "text/plain": [
       "⎡     2           ⎤\n",
       "⎢    w ⋅(a + s)   ⎥\n",
       "⎢─────────────────⎥\n",
       "⎢ 2              2⎥\n",
       "⎣s  + 2⋅s⋅w⋅z + w ⎦"
      ]
     },
     "execution_count": 8,
     "metadata": {},
     "output_type": "execute_result"
    }
   ],
   "source": [
    "# The above looks close, but we need to put in the definition of beta\n",
    "Tcheck = Tcheck.subs(b,sqrt(1-z**2))\n",
    "Tcheck.simplify()\n",
    "Tcheck"
   ]
  },
  {
   "cell_type": "markdown",
   "metadata": {
    "colab_type": "text",
    "id": "oapMtJoQiEtL"
   },
   "source": [
    "$$\\left[\\begin{matrix}\\frac{w^{2}}{s^{2} + 2 s w z + w^{2}}\\end{matrix}\\right]$$"
   ]
  },
  {
   "cell_type": "code",
   "execution_count": 9,
   "metadata": {
    "colab": {
     "base_uri": "https://localhost:8080/",
     "height": 50
    },
    "colab_type": "code",
    "executionInfo": {
     "elapsed": 73958,
     "status": "ok",
     "timestamp": 1557421492393,
     "user": {
      "displayName": "Villy CHEN",
      "photoUrl": "https://lh5.googleusercontent.com/-e49i64Tp89U/AAAAAAAAAAI/AAAAAAAAAA0/mVPc3qLMp0E/s64/photo.jpg",
      "userId": "15214834225882765760"
     },
     "user_tz": 420
    },
    "id": "AkSGK3Piehua",
    "outputId": "b3daf12c-9008-4b83-c103-9f768b3740a0"
   },
   "outputs": [
    {
     "data": {
      "text/latex": [
       "$$\\left[\\begin{matrix}\\frac{w}{b} \\left(a + s\\right) \\left(\\frac{i}{2 \\left(i b w + w z\\right)} - \\frac{i}{2 \\left(- i b w + w z\\right)}\\right) - \\frac{w}{b} \\left(a + s\\right) \\left(\\frac{i e^{- i b t w - t w z}}{2 \\left(i b w + w z\\right)} - \\frac{i e^{i b t w - t w z}}{2 \\left(- i b w + w z\\right)}\\right)\\end{matrix}\\right]$$"
      ],
      "text/plain": [
       "⎡                                                           ⎛   -ⅈ⋅b⋅t⋅w - t⋅w\n",
       "⎢          ⎛       ⅈ                 ⅈ        ⎞             ⎜ⅈ⋅ℯ              \n",
       "⎢w⋅(a + s)⋅⎜─────────────── - ────────────────⎟   w⋅(a + s)⋅⎜─────────────────\n",
       "⎢          ⎝2⋅(ⅈ⋅b⋅w + w⋅z)   2⋅(-ⅈ⋅b⋅w + w⋅z)⎠             ⎝  2⋅(ⅈ⋅b⋅w + w⋅z)\n",
       "⎢────────────────────────────────────────────── - ────────────────────────────\n",
       "⎣                      b                                                   b  \n",
       "\n",
       "⋅z      ⅈ⋅b⋅t⋅w - t⋅w⋅z⎞⎤\n",
       "     ⅈ⋅ℯ               ⎟⎥\n",
       "── - ──────────────────⎟⎥\n",
       "      2⋅(-ⅈ⋅b⋅w + w⋅z) ⎠⎥\n",
       "────────────────────────⎥\n",
       "                        ⎦"
      ]
     },
     "execution_count": 9,
     "metadata": {},
     "output_type": "execute_result"
    }
   ],
   "source": [
    "# Now let's find the response. First note that although\n",
    "#\n",
    "#   y = y_natural    + y_forced\n",
    "#     = C * eAt * x0 + y_forced\n",
    "#\n",
    "# we are assuming that x0 = [0,0]^T, so y_natural = 0 so \n",
    "#\n",
    "#   y = y_forced\n",
    "#\n",
    "# Unfortunately, sympy thrashes on the following integration problem:\n",
    "# \n",
    "integrate(C*exp(A*(t-tau))*B*1,(tau,0,t))"
   ]
  },
  {
   "cell_type": "markdown",
   "metadata": {
    "colab_type": "text",
    "id": "88E4KvZRjiul"
   },
   "source": [
    "$$\\left ( \\left[\\begin{matrix}- i & i\\\\1 & 1\\end{matrix}\\right], \\quad \\left[\\begin{matrix}- i b w - w z & 0\\\\0 & i b w - w z\\end{matrix}\\right]\\right )$$"
   ]
  },
  {
   "cell_type": "code",
   "execution_count": 10,
   "metadata": {
    "colab": {
     "base_uri": "https://localhost:8080/",
     "height": 87
    },
    "colab_type": "code",
    "executionInfo": {
     "elapsed": 73956,
     "status": "ok",
     "timestamp": 1557421492398,
     "user": {
      "displayName": "Villy CHEN",
      "photoUrl": "https://lh5.googleusercontent.com/-e49i64Tp89U/AAAAAAAAAAI/AAAAAAAAAA0/mVPc3qLMp0E/s64/photo.jpg",
      "userId": "15214834225882765760"
     },
     "user_tz": 420
    },
    "id": "xv2OQl78ehum",
    "outputId": "ffe8e1db-02d7-44f1-e96c-b4bd4b5cf207"
   },
   "outputs": [
    {
     "data": {
      "text/latex": [
       "$$\\left ( \\left[\\begin{matrix}- i & i\\\\1 & 1\\end{matrix}\\right], \\quad \\left[\\begin{matrix}- i b w - w z & 0\\\\0 & i b w - w z\\end{matrix}\\right]\\right )$$"
      ],
      "text/plain": [
       "⎛⎡-ⅈ  ⅈ⎤  ⎡-ⅈ⋅b⋅w - w⋅z       0     ⎤⎞\n",
       "⎜⎢     ⎥, ⎢                         ⎥⎟\n",
       "⎝⎣1   1⎦  ⎣     0        ⅈ⋅b⋅w - w⋅z⎦⎠"
      ]
     },
     "execution_count": 10,
     "metadata": {},
     "output_type": "execute_result"
    }
   ],
   "source": [
    "# But we can break it down\n",
    "P, D = A.diagonalize()\n",
    "P,D"
   ]
  },
  {
   "cell_type": "markdown",
   "metadata": {
    "colab_type": "text",
    "id": "dq3mOtFqibVl"
   },
   "source": [
    "$$\\left ( \\left[\\begin{matrix}- i & i\\\\1 & 1\\end{matrix}\\right], \\quad \\left[\\begin{matrix}- i b w - w z & 0\\\\0 & i b w - w z\\end{matrix}\\right]\\right )$$"
   ]
  },
  {
   "cell_type": "markdown",
   "metadata": {
    "colab_type": "text",
    "id": "mH3JdP3Zehuy"
   },
   "source": [
    "Now we use the fact that\n",
    "\n",
    "$$\n",
    "y = \\int_0^t C P e^{D(t-\\tau)}P^{-1}B d \\tau\n",
    "$$\n",
    "\n",
    "with $CP$ and $P^{-1}B$ just constants."
   ]
  },
  {
   "cell_type": "code",
   "execution_count": 9,
   "metadata": {
    "colab": {
     "base_uri": "https://localhost:8080/",
     "height": 81
    },
    "colab_type": "code",
    "executionInfo": {
     "elapsed": 74577,
     "status": "ok",
     "timestamp": 1557421493026,
     "user": {
      "displayName": "Villy CHEN",
      "photoUrl": "https://lh5.googleusercontent.com/-e49i64Tp89U/AAAAAAAAAAI/AAAAAAAAAA0/mVPc3qLMp0E/s64/photo.jpg",
      "userId": "15214834225882765760"
     },
     "user_tz": 420
    },
    "id": "QvmAh7vPehu1",
    "outputId": "d6d8ce83-d72a-42af-98ab-d705a5f1f43b",
    "scrolled": true
   },
   "outputs": [
    {
     "data": {
      "text/latex": [
       "$$\\frac{i w}{2 b} \\left(e^{t w \\left(- i b - z\\right)} - e^{t w \\left(i b - z\\right)}\\right)$$"
      ],
      "text/plain": [
       "    ⎛ t⋅w⋅(-ⅈ⋅b - z)    t⋅w⋅(ⅈ⋅b - z)⎞\n",
       "ⅈ⋅w⋅⎝ℯ               - ℯ             ⎠\n",
       "──────────────────────────────────────\n",
       "                 2⋅b                  "
      ]
     },
     "execution_count": 9,
     "metadata": {},
     "output_type": "execute_result"
    }
   ],
   "source": [
    "# Using the above gives use a pretty simple expression for the integrand\n",
    "temp1 = C*P*exp(D*t)*P.inv()*B\n",
    "temp1 = temp1[0,0].simplify()\n",
    "temp1"
   ]
  },
  {
   "cell_type": "code",
   "execution_count": 13,
   "metadata": {
    "colab": {
     "base_uri": "https://localhost:8080/",
     "height": 78
    },
    "colab_type": "code",
    "executionInfo": {
     "elapsed": 2737,
     "status": "ok",
     "timestamp": 1557421540930,
     "user": {
      "displayName": "Villy CHEN",
      "photoUrl": "https://lh5.googleusercontent.com/-e49i64Tp89U/AAAAAAAAAAI/AAAAAAAAAA0/mVPc3qLMp0E/s64/photo.jpg",
      "userId": "15214834225882765760"
     },
     "user_tz": 420
    },
    "id": "EV0E2iXJehvA",
    "outputId": "86939063-64eb-4b13-c091-a9173b3e9c48"
   },
   "outputs": [
    {
     "data": {
      "text/latex": [
       "$$\\frac{w}{b} e^{- t w z} e^{\\tau w z} \\sin{\\left (b t w - b \\tau w \\right )}$$"
      ],
      "text/plain": [
       "   -t⋅w⋅z  τ⋅w⋅z                   \n",
       "w⋅ℯ      ⋅ℯ     ⋅sin(b⋅t⋅w - b⋅τ⋅w)\n",
       "───────────────────────────────────\n",
       "                 b                 "
      ]
     },
     "execution_count": 13,
     "metadata": {},
     "output_type": "execute_result"
    }
   ],
   "source": [
    "temp3.expand(tau)"
   ]
  },
  {
   "cell_type": "code",
   "execution_count": 11,
   "metadata": {
    "colab": {
     "base_uri": "https://localhost:8080/",
     "height": 34
    },
    "colab_type": "code",
    "executionInfo": {
     "elapsed": 839,
     "status": "ok",
     "timestamp": 1557421534055,
     "user": {
      "displayName": "Villy CHEN",
      "photoUrl": "https://lh5.googleusercontent.com/-e49i64Tp89U/AAAAAAAAAAI/AAAAAAAAAA0/mVPc3qLMp0E/s64/photo.jpg",
      "userId": "15214834225882765760"
     },
     "user_tz": 420
    },
    "id": "MnUcYQ26ehvN",
    "outputId": "bbaa0877-427e-492f-c62e-dffafd22b92a"
   },
   "outputs": [
    {
     "data": {
      "text/latex": [
       "$$\\frac{w}{b} e^{- t w z} \\sin{\\left (b t w \\right )}$$"
      ],
      "text/plain": [
       "   -t⋅w⋅z           \n",
       "w⋅ℯ      ⋅sin(b⋅t⋅w)\n",
       "────────────────────\n",
       "         b          "
      ]
     },
     "execution_count": 11,
     "metadata": {},
     "output_type": "execute_result"
    }
   ],
   "source": [
    "# It can be rewritten in terms of sin\n",
    "temp2 = temp1.rewrite(sin).simplify()\n",
    "temp2"
   ]
  },
  {
   "cell_type": "code",
   "execution_count": 12,
   "metadata": {
    "colab": {
     "base_uri": "https://localhost:8080/",
     "height": 50
    },
    "colab_type": "code",
    "executionInfo": {
     "elapsed": 1943,
     "status": "ok",
     "timestamp": 1557421549409,
     "user": {
      "displayName": "Villy CHEN",
      "photoUrl": "https://lh5.googleusercontent.com/-e49i64Tp89U/AAAAAAAAAAI/AAAAAAAAAA0/mVPc3qLMp0E/s64/photo.jpg",
      "userId": "15214834225882765760"
     },
     "user_tz": 420
    },
    "id": "WNla8_21ehvc",
    "outputId": "2d096b00-a2f8-4517-f865-61c018a03e5a"
   },
   "outputs": [
    {
     "data": {
      "text/latex": [
       "$$\\frac{w}{b} \\left(- \\frac{b^{3} e^{t w z}}{b^{2} w z^{2} e^{t w z} + w z^{4} e^{t w z}} + \\frac{b}{w z^{2}}\\right) - \\frac{w}{b} \\left(- \\frac{b^{3} \\cos{\\left (b t w \\right )}}{b^{2} w z^{2} e^{t w z} + w z^{4} e^{t w z}} - \\frac{b^{2} \\sin{\\left (b t w \\right )}}{b^{2} w z e^{t w z} + w z^{3} e^{t w z}} + \\frac{b}{w z^{2}} e^{- t w z} \\cos{\\left (b t w \\right )} + \\frac{e^{- t w z}}{w z} \\sin{\\left (b t w \\right )}\\right)$$"
      ],
      "text/plain": [
       "  ⎛            3  t⋅w⋅z                 ⎞     ⎛          3                    \n",
       "  ⎜           b ⋅ℯ                   b  ⎟     ⎜         b ⋅cos(b⋅t⋅w)         \n",
       "w⋅⎜- ──────────────────────────── + ────⎟   w⋅⎜- ──────────────────────────── \n",
       "  ⎜   2    2  t⋅w⋅z      4  t⋅w⋅z      2⎟     ⎜   2    2  t⋅w⋅z      4  t⋅w⋅z \n",
       "  ⎝  b ⋅w⋅z ⋅ℯ      + w⋅z ⋅ℯ        w⋅z ⎠     ⎝  b ⋅w⋅z ⋅ℯ      + w⋅z ⋅ℯ      \n",
       "───────────────────────────────────────── - ──────────────────────────────────\n",
       "                    b                                                         \n",
       "\n",
       "          2                        -t⋅w⋅z               -t⋅w⋅z           ⎞\n",
       "         b ⋅sin(b⋅t⋅w)          b⋅ℯ      ⋅cos(b⋅t⋅w)   ℯ      ⋅sin(b⋅t⋅w)⎟\n",
       "- ─────────────────────────── + ──────────────────── + ──────────────────⎟\n",
       "   2      t⋅w⋅z      3  t⋅w⋅z              2                  w⋅z        ⎟\n",
       "  b ⋅w⋅z⋅ℯ      + w⋅z ⋅ℯ                w⋅z                              ⎠\n",
       "──────────────────────────────────────────────────────────────────────────\n",
       "                   b                                                      "
      ]
     },
     "execution_count": 12,
     "metadata": {},
     "output_type": "execute_result"
    }
   ],
   "source": [
    "# We can then try to integrate it, but it doesn't seem to work\n",
    "temp3 = temp2.subs(t,t-tau)\n",
    "integrate(temp3,(tau,0,t))"
   ]
  },
  {
   "cell_type": "code",
   "execution_count": 14,
   "metadata": {
    "colab": {
     "base_uri": "https://localhost:8080/",
     "height": 34
    },
    "colab_type": "code",
    "executionInfo": {
     "elapsed": 828,
     "status": "ok",
     "timestamp": 1557421557717,
     "user": {
      "displayName": "Villy CHEN",
      "photoUrl": "https://lh5.googleusercontent.com/-e49i64Tp89U/AAAAAAAAAAI/AAAAAAAAAA0/mVPc3qLMp0E/s64/photo.jpg",
      "userId": "15214834225882765760"
     },
     "user_tz": 420
    },
    "id": "mUIxpflWehvo",
    "outputId": "c3920089-ed52-4533-eff4-75a341f7abb0"
   },
   "outputs": [
    {
     "data": {
      "text/latex": [
       "$$\\frac{w}{b^{2} w + w z^{2}} - \\frac{w}{b} \\left(\\frac{b \\cos{\\left (b t w \\right )}}{b^{2} w + w z^{2}} + \\frac{z \\sin{\\left (b t w \\right )}}{b^{2} w + w z^{2}}\\right) e^{- t w z}$$"
      ],
      "text/plain": [
       "                ⎛b⋅cos(b⋅t⋅w)   z⋅sin(b⋅t⋅w)⎞  -t⋅w⋅z\n",
       "              w⋅⎜──────────── + ────────────⎟⋅ℯ      \n",
       "                ⎜ 2        2     2        2 ⎟        \n",
       "     w          ⎝b ⋅w + w⋅z     b ⋅w + w⋅z  ⎠        \n",
       "─────────── - ───────────────────────────────────────\n",
       " 2        2                      b                   \n",
       "b ⋅w + w⋅z                                           "
      ]
     },
     "execution_count": 14,
     "metadata": {},
     "output_type": "execute_result"
    }
   ],
   "source": [
    "# But we can give sympy some help\n",
    "y = integrate(temp3.expand(tau),(tau,0,t))\n",
    "y.simplify()\n",
    "y"
   ]
  },
  {
   "cell_type": "code",
   "execution_count": 15,
   "metadata": {
    "colab": {
     "base_uri": "https://localhost:8080/",
     "height": 81
    },
    "colab_type": "code",
    "executionInfo": {
     "elapsed": 623,
     "status": "ok",
     "timestamp": 1557421559900,
     "user": {
      "displayName": "Villy CHEN",
      "photoUrl": "https://lh5.googleusercontent.com/-e49i64Tp89U/AAAAAAAAAAI/AAAAAAAAAA0/mVPc3qLMp0E/s64/photo.jpg",
      "userId": "15214834225882765760"
     },
     "user_tz": 420
    },
    "id": "jrJF15W6ehv3",
    "outputId": "42fe0956-4f83-40e3-a8cb-8194c98f4ad5"
   },
   "outputs": [
    {
     "data": {
      "text/latex": [
       "$$- \\frac{1}{b} \\left(- b e^{t w z} + b \\cos{\\left (b t w \\right )} + z \\sin{\\left (b t w \\right )}\\right) e^{- t w z}$$"
      ],
      "text/plain": [
       " ⎛     t⋅w⋅z                              ⎞  -t⋅w⋅z \n",
       "-⎝- b⋅ℯ      + b⋅cos(b⋅t⋅w) + z⋅sin(b⋅t⋅w)⎠⋅ℯ       \n",
       "────────────────────────────────────────────────────\n",
       "                         b                          "
      ]
     },
     "execution_count": 15,
     "metadata": {},
     "output_type": "execute_result"
    }
   ],
   "source": [
    "# Note that b^2 + z^2 = 1\n",
    "y = y.subs(w*b**2+w*z**2,w).simplify().cancel()\n",
    "y"
   ]
  },
  {
   "cell_type": "markdown",
   "metadata": {
    "colab_type": "text",
    "id": "FcYTYgx2ehwG"
   },
   "source": [
    "Now consider a right triangle with sides $\\zeta$ and $\\beta$. Then since $\\zeta^2 + \\beta^2 = 1$, we get:\n",
    "\n",
    "$$\n",
    "\\cos \\theta = \\zeta\n",
    "$$\n",
    "\n",
    "$$\n",
    "\\sin \\theta = \\beta\n",
    "$$\n",
    "\n",
    "where\n",
    "\n",
    "$$\n",
    "\\theta = \\cos^{-1} \\zeta .\n",
    "$$\n",
    "\n",
    "We can then use the trig identity\n",
    "\n",
    "$$\n",
    "\\sin(a + \\theta) = \\sin a \\cos \\theta + \\sin \\theta \\cos a\n",
    "$$\n",
    "\n",
    "with a = $\\beta \\omega t$. \n",
    "\n",
    "The above expression thus becomes\n",
    "\n",
    "$$\n",
    "y(t) = 1 - \\frac{1}{\\beta} e^{-\\zeta \\omega t} \\sin(\\omega \\beta t + \\theta)\n",
    "$$"
   ]
  },
  {
   "cell_type": "markdown",
   "metadata": {
    "colab_type": "text",
    "id": "RlxoU4piehwI"
   },
   "source": [
    "# What does it look like?"
   ]
  },
  {
   "cell_type": "code",
   "execution_count": 27,
   "metadata": {
    "colab": {},
    "colab_type": "code",
    "id": "qHKKN7IkehwL"
   },
   "outputs": [],
   "source": [
    "y = 1 - (1/b) * exp(-z*w*t) * sin(w * b * t + theta)\n",
    "y = y.subs(b,sqrt(1-z**2)).subs(theta,acos(z))"
   ]
  },
  {
   "cell_type": "code",
   "execution_count": 30,
   "metadata": {
    "colab": {},
    "colab_type": "code",
    "id": "01ai7bczehwZ"
   },
   "outputs": [
    {
     "data": {
      "image/png": "[encoded data removed]",
      "text/plain": [
       "<Figure size 432x288 with 1 Axes>"
      ]
     },
     "metadata": {
      "needs_background": "light"
     },
     "output_type": "display_data"
    }
   ],
   "source": [
    "#\n",
    "# Fixed zeta, varying omega\n",
    "#\n",
    "tvals = np.linspace(0,10,100)\n",
    "for omega in [1,2,3,4,5]:\n",
    "    f = lambdify(t,y.subs(z,0.5).subs(w,omega),'numpy')\n",
    "    plt.plot(tvals,f(tvals),label=\"$\\omega$ = %d\" % omega)\n",
    "plt.xlabel(\"t\")\n",
    "plt.ylabel(\"Step response\")\n",
    "plt.title(\"Step response, varying $\\omega$\")\n",
    "plt.legend();"
   ]
  },
  {
   "cell_type": "code",
   "execution_count": 18,
   "metadata": {
    "colab": {},
    "colab_type": "code",
    "id": "V76NyjiAehwm"
   },
   "outputs": [
    {
     "data": {
      "image/png": "[encoded data removed]",
      "text/plain": [
       "<Figure size 432x288 with 1 Axes>"
      ]
     },
     "metadata": {
      "needs_background": "light"
     },
     "output_type": "display_data"
    }
   ],
   "source": [
    "#\n",
    "# Fixed omega, varying zeta\n",
    "#\n",
    "tvals = np.linspace(0,10,100)\n",
    "for zeta in [0.1,0.4,0.6,0.9]:\n",
    "    f = lambdify(t,y.subs(z,zeta).subs(w,3),'numpy')\n",
    "    plt.plot(tvals,f(tvals),label=\"$\\zeta$ = %.2f\" % zeta)\n",
    "plt.xlabel(\"t\")\n",
    "plt.ylabel(\"Step response\")\n",
    "plt.title(\"Step response, varying $\\zeta$\")\n",
    "plt.legend();"
   ]
  },
  {
   "cell_type": "markdown",
   "metadata": {
    "colab_type": "text",
    "id": "7o2kppAdehwx"
   },
   "source": [
    "# The Impulse Response"
   ]
  },
  {
   "cell_type": "markdown",
   "metadata": {
    "colab_type": "text",
    "id": "QgTon4Snehwz"
   },
   "source": [
    "The impulse response can easily be obtained from the step response using the fact that \n",
    "\n",
    "$$\n",
    "\\mathcal{L}[y(t)] = Y(s) = \\frac{1}{s}T(s)\n",
    "$$\n",
    "\n",
    "so that\n",
    "\n",
    "$$\n",
    "\\mathcal{L}[\\dot y(t)] = s Y(s) = 1 T(s) = T(s)\n",
    "$$\n",
    "\n",
    "So the Laplace transform of the impulse response is just the derivative of\n",
    "\n",
    "$$\n",
    "y = \\int_0^t C P e^{D(t-\\tau)}P^{-1}B d \\tau\n",
    "$$\n",
    "\n",
    "which is\n",
    "\n",
    "$$\n",
    "\\dot y = C P e^{Dt}P^{-1}B\n",
    "$$\n",
    "\n",
    "which we already found to be \n",
    "\n",
    "$$\n",
    "\\dot y = \\frac{\\omega}{\\beta} e^{-\\zeta \\omega t} \\sin(\\omega \\beta t)\n",
    "$$"
   ]
  },
  {
   "cell_type": "code",
   "execution_count": 19,
   "metadata": {
    "colab": {},
    "colab_type": "code",
    "id": "TmBXJ2tmehw1"
   },
   "outputs": [],
   "source": [
    "ydot = (w/b)*exp(-z*w*t)*sin(w*b*t)\n",
    "ydot = ydot.subs(b,sqrt(1-z**2))"
   ]
  },
  {
   "cell_type": "code",
   "execution_count": 20,
   "metadata": {
    "colab": {},
    "colab_type": "code",
    "id": "QdxTkzn8ehw9"
   },
   "outputs": [
    {
     "data": {
      "image/png": "[encoded data removed]",
      "text/plain": [
       "<Figure size 432x288 with 1 Axes>"
      ]
     },
     "metadata": {
      "needs_background": "light"
     },
     "output_type": "display_data"
    }
   ],
   "source": [
    "#\n",
    "# Fixed zeta, varying \n",
    "#\n",
    "tvals = np.linspace(0,10,300)\n",
    "for omega in [1,2,3,4,5]:\n",
    "    fdot = lambdify(t,ydot.subs(z,0.5).subs(w,omega),'numpy')\n",
    "    plt.plot(tvals,fdot(tvals),label=\"$\\omega$ = %d\" % omega)\n",
    "plt.xlabel(\"t\")\n",
    "plt.ylabel(\"Impulse response\")\n",
    "plt.title(\"Impulse response, varying $\\zeta$\")\n",
    "plt.legend();"
   ]
  },
  {
   "cell_type": "code",
   "execution_count": 21,
   "metadata": {
    "colab": {},
    "colab_type": "code",
    "id": "7TMUaDARehxI"
   },
   "outputs": [
    {
     "data": {
      "image/png": "[encoded data removed]",
      "text/plain": [
       "<Figure size 432x288 with 1 Axes>"
      ]
     },
     "metadata": {
      "needs_background": "light"
     },
     "output_type": "display_data"
    }
   ],
   "source": [
    "#\n",
    "# Fixed w, z \n",
    "#\n",
    "tvals = np.linspace(0,10,100)\n",
    "for zeta in [0.1,0.4,0.9,0.99]:\n",
    "    fdot = lambdify(t,ydot.subs(z,zeta).subs(w,3),'numpy')\n",
    "    plt.plot(tvals,fdot(tvals),label=\"$\\zeta$ = %.2f\" % zeta)\n",
    "plt.xlabel(\"t\")\n",
    "plt.ylabel(\"Impulse response\")\n",
    "plt.title(\"Impulse response, varying $\\zeta$\")\n",
    "plt.legend();"
   ]
  },
  {
   "cell_type": "code",
   "execution_count": 0,
   "metadata": {
    "colab": {},
    "colab_type": "code",
    "id": "wgqZm7MfehxP"
   },
   "outputs": [],
   "source": []
  }
 ],
 "metadata": {
  "colab": {
   "name": "“second-order.ipynb”的副本",
   "provenance": [
    {
     "file_id": "https://github.com/klavins/ECE447/blob/master/lectures/second-order.ipynb",
     "timestamp": 1557421294039
    }
   ],
   "version": "0.3.2"
  },
  "kernelspec": {
   "display_name": "Python 3",
   "language": "python",
   "name": "python3"
  },
  "language_info": {
   "codemirror_mode": {
    "name": "ipython",
    "version": 3
   },
   "file_extension": ".py",
   "mimetype": "text/x-python",
   "name": "python",
   "nbconvert_exporter": "python",
   "pygments_lexer": "ipython3",
   "version": "3.7.0"
  }
 },
 "nbformat": 4,
 "nbformat_minor": 1
}
