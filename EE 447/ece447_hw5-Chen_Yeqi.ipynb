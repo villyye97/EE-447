{
 "cells": [
  {
   "cell_type": "markdown",
   "metadata": {
    "colab_type": "text",
    "id": "p0v_jxBgpHFr"
   },
   "source": [
    "Homework 5 : Yeqi Chen \n",
    "===\n",
    "\n",
    "Phase Portraits, expoententials, and solutions\n",
    "\n",
    "**<span style=\"color: darkgreen\">Due Sunday May 5 at 11:59pm</span>**\n",
    "\n",
    "**Instructions:** Make a copy of this notebook that you can edit and save. If you are using CoLab, that means clicking File>Save and then \"SAVE A COPY IN DRIVE\". Then, for each problem, insert your answers directly underneath the problem description as one or more `Code` or `Markdown` cells as appropriate. Every code cell should execute without errors. TAs and graders may not have resources to debug your code. When you are satisfied with your answers upload your notebook to canvas. "
   ]
  },
  {
   "cell_type": "markdown",
   "metadata": {
    "colab_type": "text",
    "id": "xmODK576pHFt"
   },
   "source": [
    "**Relevant Reading**\n",
    "\n",
    "- Read Chapters 5 and 7.\n",
    "- Converting a transfer function into state space is covered in Section 5.7. The book uses what are called Signal Flow Graphs\", which I am avoiding. But you might find the book's discussion of these (which starts in Chapter 5) interesting.\n",
    "- Sensitivity is covered in Section 7.7.\n",
    "- The use of the final value theorem to analyze disturbances is covered in Section 7.5."
   ]
  },
  {
   "cell_type": "code",
   "execution_count": 4,
   "metadata": {},
   "outputs": [],
   "source": [
    "import numpy as np\n",
    "import scipy.integrate as spi\n",
    "import matplotlib.pyplot as plt\n",
    "from sympy import *\n",
    "from IPython.display import display, Markdown\n",
    "\n",
    "%matplotlib inline\n",
    "\n",
    "# Comment out in Google colab \n",
    "init_printing(use_latex='mathjax')"
   ]
  },
  {
   "cell_type": "markdown",
   "metadata": {
    "colab_type": "text",
    "id": "Vp24DnqRpHFv"
   },
   "source": [
    "All of the problems this week have to do with the following system\n",
    "\n",
    "\\begin{align}\n",
    "\\dot x_1 & = x_2(x_1+a) \\\\\n",
    "\\dot x_2 & = u + \\sin x_1 - a x_2 \\\\\n",
    "y & = x_1\n",
    "\\end{align}\n",
    "\n",
    "where $a \\approx 2$."
   ]
  },
  {
   "cell_type": "markdown",
   "metadata": {
    "colab_type": "text",
    "collapsed": true,
    "id": "aaUMRz-jpHFw"
   },
   "source": [
    "1. Linearization\n",
    "---\n",
    "\n",
    "Find a linear state space model of the system assuming ${\\bf x} = 0$\n",
    "and $u=0$. Is the system stable when $u=0$? Find the transfer function\n",
    "corresponding to the state space model. Call this $G(s)$. This is the\n",
    "plant for this homework."
   ]
  },
  {
   "cell_type": "markdown",
   "metadata": {},
   "source": [
    "taking the partial derivative of two equations for x: \n",
    "$$ \\left[\\begin{matrix}\\dot x_1 \\\\ \\dot x_2 \\end{matrix}\\right]= \\quad \\left[\\begin{matrix}x_2 & x_1-a  \\\\cosx_1 & -a \\end{matrix}\\right]\\left[\\begin{matrix} x_1 \\\\  x_2 \\end{matrix}\\right]$$\n",
    "\n",
    "since X = 0 and u = 0, the matrix equals: \n",
    "$$ \\left[\\begin{matrix}\\dot x_1 \\\\ \\dot x_2 \\end{matrix}\\right]= \\quad \\left[\\begin{matrix}0 & -a  \\\\1 & -a \\end{matrix}\\right]\\left[\\begin{matrix} x_1 \\\\  x_2 \\end{matrix}\\right]$$\n",
    "\n",
    "if $a \\approx 2$, the matrix becomes: \n",
    "$$ \\left[\\begin{matrix}0 & -2  \\\\1 & -2 \\end{matrix}\\right]$$\n",
    "so we can calculate its eigenvalue. \n",
    "$\\lambda = 1+i, 1-i$, since the real part is positive, so it's a unstable spiral point. "
   ]
  },
  {
   "cell_type": "markdown",
   "metadata": {},
   "source": [
    "we get the matrix A = $ \\left[\\begin{matrix}0 & -2  \\\\1 & -2 \\end{matrix}\\right]$, B = $\\quad \\left[\\begin{matrix}0 \\\\1\\end{matrix}\\right]$, C = $\\quad \\left[\\begin{matrix}1 &0\\end{matrix}\\right]$"
   ]
  },
  {
   "cell_type": "code",
   "execution_count": 5,
   "metadata": {
    "scrolled": true
   },
   "outputs": [
    {
     "data": {
      "text/latex": [
       "$$\\left[\\begin{matrix}- \\frac{2}{s \\left(s + 2\\right) + 2}\\end{matrix}\\right]$$"
      ],
      "text/plain": [
       "⎡     -2      ⎤\n",
       "⎢─────────────⎥\n",
       "⎣s⋅(s + 2) + 2⎦"
      ]
     },
     "execution_count": 5,
     "metadata": {},
     "output_type": "execute_result"
    }
   ],
   "source": [
    "#Transfer function G(s)\n",
    "var(\"s\")\n",
    "A = Matrix([[0,-2],[1,-2]])\n",
    "B = Matrix([[0],[1]])\n",
    "C = Matrix([[1,0]])\n",
    "Phi = (s*eye(2)-A).inv()\n",
    "Phi\n",
    "T = C*Phi*B\n",
    "T.simplify()\n",
    "T"
   ]
  },
  {
   "cell_type": "markdown",
   "metadata": {
    "colab_type": "text",
    "id": "rVsJfHePpHFx"
   },
   "source": [
    "2. Interconnections\n",
    "---\n",
    "\n",
    "Consider a controller of the form $G_c = K_p + K_D s$ (this is called\n",
    "*proportional-derivative* or PD control). Assume the following interconnection:\n",
    "\n",
    "<img width=55% src=\"https://raw.githubusercontent.com/klavins/ECE447/master/images/hw5-fig.png\">\n",
    "\n",
    "Find the closed-loop transfer function $T(s) = Y(s)/R(s)$ (assuming\n",
    "$D(s) = 0$ and $N(s) = 0$). Also find a state space model ($A$, $B$\n",
    "and $C$ matrices) for the closed-loop system."
   ]
  },
  {
   "cell_type": "markdown",
   "metadata": {},
   "source": [
    "Assuming D(s) and N(s) = 0, so the system equation is \n",
    "$(R(s) - Y(s))*G_c(s)*G(s) = Y(s)$, so  T(s) = Y(s)/R(s) = $\\frac {G_c(s)G(s)}{1-G_c(s)G(s)}$\n",
    "$$ = \\frac{(K_p+K_Ds)*-\\frac{2}{s^2+2s+2}}{1-(K_p+K_Ds)*-\\frac{2}{s^2+2s+2}}$$\n",
    "$$ = \\frac{-2K_ds-2K_p}{s^2+(2+2K_d)s+2+2K_p}$$\n",
    "\n",
    "calculate the matrices in conical form: \n",
    "we get the matrix A = $ \\left[\\begin{matrix}-2K_d-2 & 1  \\\\-2K_p-2& 0 \\end{matrix}\\right]$, B = $\\quad \\left[\\begin{matrix}-2K_d \\\\-2K_p\\end{matrix}\\right]$, C = $\\quad \\left[\\begin{matrix}1 &0\\end{matrix}\\right]$"
   ]
  },
  {
   "cell_type": "markdown",
   "metadata": {
    "colab_type": "text",
    "id": "Y3eXJI9ZpHFy"
   },
   "source": [
    "3. Steady State Error\n",
    "---\n",
    "\n",
    "In terms of $K_p$ and $K_d$, find the steady state error of the\n",
    "closed-loop system $T(s)$ when $R(s)$ is \n",
    "\n",
    "- (a) a unit impulse and \n",
    "- (b) a unit step input.\n",
    "\n",
    "How should the gains $K_p$ and $K_d$ be chosen to\n",
    "ensure that both of these errors are minimized?"
   ]
  },
  {
   "cell_type": "markdown",
   "metadata": {},
   "source": [
    "## a.\n",
    "if the input is a unit impulse, then Y(s) = R(s) T(s), where R(s) = 1 for impulse function; so $$Y(s) =   \\frac{-2K_ds-2K_p}{s^2+(2+2K_d)s+2+2K_p}$$;  \n",
    "$$e(s)= R(s) -Y(s) = 1-\\frac{-2K_ds-2K_p}{s^2+(2+2K_d)s+2+2K_p}$$;using the final value theorm,$$e(\\infty) =  \\lim_{s \\rightarrow 0} s E(s) = \\frac{-2K_ds^2-2K_ps}{s^2+(2+2K_d)s+2+2K_p}$$\n",
    "$$ = \\frac {0}{2+2K_p}= 0$$. Since the steady-state error is already 0, K_p can be any arbitrary numbers.  "
   ]
  },
  {
   "cell_type": "markdown",
   "metadata": {},
   "source": [
    "## b.\n",
    "if the input is a unit step input, then Y(s) = R(s) T(s), where R(s) = $\\frac{1}{s}$ for impulse function; so $$Y(s) = \\frac{1}{s} * \\frac{-2K_ds-2K_p}{s^2+(2+2K_d)s+2+2K_p}$$;  \n",
    "$$e(s)= R(s) -Y(s) = \\frac{1}{s}- \\frac{1}{s} *\\frac{-2K_ds-2K_p}{s^2+(2+2K_d)s+2+2K_p}$$;using the final value theorm,$$e(\\infty) =  \\lim_{s \\rightarrow 0} s E(s) =1- \\frac{s^2+2s+2}{s^2+(2+2K_d)s+2+2K_p}$$\n",
    "$$ =1- \\frac {2}{2+2K_p}= \\frac{-2K_p}{2+2K_p}$$. to minimize the steady-state error, $K_p$ should be 0. "
   ]
  },
  {
   "cell_type": "markdown",
   "metadata": {
    "colab_type": "text",
    "id": "17z_qhfGpHFz"
   },
   "source": [
    "4. Choosing Gains\n",
    "---\n",
    "\n",
    "Assuming the nominal value for $a$, find a relationship between $K_p$\n",
    "and $K_d$ that ensures that the poles of $T(s)$ are both negative and\n",
    "equal. Assuming $K_p = 5$, what value of $K_d$ makes both poles equal?"
   ]
  },
  {
   "cell_type": "markdown",
   "metadata": {},
   "source": [
    "For the nominal value of a, we plug in $a$ as a varible, so we solve the transfer function like below: "
   ]
  },
  {
   "cell_type": "code",
   "execution_count": 6,
   "metadata": {},
   "outputs": [
    {
     "data": {
      "text/latex": [
       "$$\\left[\\begin{matrix}- \\frac{a}{a + s \\left(a + s\\right)}\\end{matrix}\\right]$$"
      ],
      "text/plain": [
       "⎡     -a      ⎤\n",
       "⎢─────────────⎥\n",
       "⎣a + s⋅(a + s)⎦"
      ]
     },
     "execution_count": 6,
     "metadata": {},
     "output_type": "execute_result"
    }
   ],
   "source": [
    "#Transfer function G(s)\n",
    "var(\"s,a\")\n",
    "A = Matrix([[0,-a],[1,-a]])\n",
    "B = Matrix([[0],[1]])\n",
    "C = Matrix([[1,0]])\n",
    "Phi = (s*eye(2)-A).inv()\n",
    "Phi\n",
    "T = C*Phi*B\n",
    "T.simplify()\n",
    "T"
   ]
  },
  {
   "cell_type": "markdown",
   "metadata": {},
   "source": [
    "So the transfer function T = $$ = \\frac{-aK_ds-aK_p}{s^2+(a+aK_d)s+a+aK_p}$$\n",
    "So the denomenator is $s^2+(a+aK_d)s+a+aK_p$, to let poles be repetitive negative, the polynomial should be in the form $(s+b)^2$, where $b > 0$. so $s^2 +2b +b^2 = s^2+(a+aK_d)s+a+aK_p$, so $a+aK_d = 2b, a+aK_p = b^2$. \n",
    "so the relationship between $K_p$ and $K_d$: $$\\frac {(a+aK_d)^2}{4} = a+aK_p$$"
   ]
  },
  {
   "cell_type": "markdown",
   "metadata": {},
   "source": [
    "Assuming $K_p$ = 5, and two poles are equal, so b doesn't need to be larger than 0; so we have the equations: \n",
    "$$a+aK_d = 2b, a+aK_p = b^2$$\n",
    "$$\\frac {(a+aK_d)^2}{4} = a+a*5 = 6a$$\n",
    "$$a+aK_d= \\pm \\sqrt{\\frac{6a}{4}}$$\n",
    "$$ K_d = \\frac {-a \\pm\\sqrt{\\frac{6a}{4}}}{a}$$"
   ]
  },
  {
   "cell_type": "markdown",
   "metadata": {
    "colab_type": "text",
    "id": "cRvC7GKfpHF0"
   },
   "source": [
    "5. Sensitivity\n",
    "---\n",
    "\n",
    "Find the sensitivities $S^G_a$. Plot the magnitudes of these\n",
    "sensitivities for $s=j \\omega$ as a function of $\\omega$. For what\n",
    "values of $\\omega$ is the sensitivities less than $0.5$? Repeat the\n",
    "question for $S^T_a$ using the values for $K_p$ and $K_d$ you found in\n",
    "problem (4). How does changing the gains affect the sensitivity?"
   ]
  },
  {
   "cell_type": "markdown",
   "metadata": {},
   "source": [
    "$$S_a^G =\\frac{\\partial G}{\\partial a}\\frac{a}{G} = \\frac{s^2}{(s^2+as+a)^2}*a*\\frac{s^2+as+a}{a}$$\n",
    "$$ = \\frac{s^2}{(s^2+as+a)}$$\n",
    "$$S^G_a(j\\omega) = \\frac{(j\\omega)^2}{((j\\omega)^2+a*j\\omega +a)}$$"
   ]
  },
  {
   "cell_type": "code",
   "execution_count": 49,
   "metadata": {},
   "outputs": [
    {
     "data": {
      "text/plain": [
       "Text(0,0.5,'$|S_T^G(i \\\\omega)|$')"
      ]
     },
     "execution_count": 49,
     "metadata": {},
     "output_type": "execute_result"
    },
    {
     "data": {
      "image/png": "[encoded data removed]",
      "text/plain": [
       "<Figure size 720x576 with 1 Axes>"
      ]
     },
     "metadata": {
      "needs_background": "light"
     },
     "output_type": "display_data"
    }
   ],
   "source": [
    "omega = np.linspace(0,10,100)\n",
    "plt.figure(figsize=(10,8))\n",
    "\n",
    "SaG = -omega**2 / ( -omega**2 + 2*omega*I + 2)\n",
    "plt.plot(omega, np.abs(SaG))\n",
    "plt.xlabel(\"$\\omega$\")\n",
    "plt.ylabel(\"$|S_T^G(i \\omega)|$\")"
   ]
  },
  {
   "cell_type": "markdown",
   "metadata": {},
   "source": [
    "From the graph we can see, when $\\omega < 1.25$ the sensitivity is less than 0.5. "
   ]
  },
  {
   "cell_type": "markdown",
   "metadata": {},
   "source": [
    "$$S_a^T =\\frac{\\partial T}{\\partial a}\\frac{a}{T} = \\frac{K_ps^3+K_ds^2}{(s^2+(a+aK_d)s+a+aK_p)^2}*a*\\frac{s^2+(a+aK_d)s+a+aK_p}{-aK_ds-aK_p}$$\n",
    "$$ = \\frac{s^2}{s^2+(a+aK_d)s+a+aK_p}$$\n",
    "$$S^G_a(j\\omega) = \\frac{(j\\omega)^2}{((j\\omega)^2+(a+aK_d)j\\omega+a+aK_p)}$$\n",
    "\n",
    "plug in $ a \\approx 2$ and $ K_p = 5$, so $K_d = \\frac{-2 \\pm \\sqrt{3}}{2}$."
   ]
  },
  {
   "cell_type": "code",
   "execution_count": 61,
   "metadata": {
    "scrolled": false
   },
   "outputs": [
    {
     "data": {
      "image/png": "[encoded data removed]",
      "text/plain": [
       "<Figure size 720x576 with 1 Axes>"
      ]
     },
     "metadata": {
      "needs_background": "light"
     },
     "output_type": "display_data"
    }
   ],
   "source": [
    "omega = np.linspace(0,10,100)\n",
    "plt.figure(figsize=(10,8))\n",
    "SaT1 = -omega**2 / ( -omega**2 + 2*(1-(-2+sqrt(3))/2)*omega*I + 2+12)\n",
    "SaT2 = -omega**2 / ( -omega**2 + 2*(1-(-2-sqrt(3))/2)*omega*I + 2+12)\n",
    "plt.plot(omega, np.abs(SaT1),label=\"$K_p$ = 5, $K_d = +$\" )\n",
    "plt.plot(omega, np.abs(SaT2),label=\"$K_p$ = 5, $K_d = -$\")\n",
    "plt.xlabel(\"$\\omega$\")\n",
    "plt.ylabel(\"$|S_T^G(i \\omega)|$\")\n",
    "plt.legend();"
   ]
  },
  {
   "cell_type": "markdown",
   "metadata": {},
   "source": [
    "As we can see, the different choise of $K_d$ has different influence in sensitivity ; so with the same gain, the different parameters do influence the sensitivity.  \n",
    "also, with the increase of the frequency, the stability stablizes to 1.0."
   ]
  },
  {
   "cell_type": "markdown",
   "metadata": {
    "colab_type": "text",
    "id": "MVsLonlEpHF1"
   },
   "source": [
    "6. Disturbances and Noise\n",
    "---\n",
    "\n",
    "Let $R(s)=0$, $N(s)=0$ and $D(s) = d/s$ is a step disturbance of\n",
    "magnitude $d$. What is the effect of $d$ on the steady state error? Do\n",
    "the same thing assuming $R(s)=0$, $N(s)=n/s$ and $D(s)=0$."
   ]
  },
  {
   "cell_type": "markdown",
   "metadata": {},
   "source": [
    "## a \n",
    "Assuming D(s)= d/s and N(s) = R(s) = 0, so the system equation is \n",
    "$(- (Y(s)+D(s))*G_c(s)*G(s) = Y(s)$, so Y(s) = $\\frac {D(s)*G_c(s)*G(s)}{1+G_c(s)G(s)}$\n",
    "$$ = \\frac{\\frac{d}{s}*(K_p+K_Ds)*-\\frac{a}{s^2+as+a}}{1+(K_p+K_Ds)*-\\frac{a}{s^a+2s+a}}$$\n",
    "$$ = \\frac{d(-aK_ds-aK_p)}{s^3+(a+aK_d)s^2+2+2K_ps}$$\n",
    "$$e(s)= R(s) -Y(s) = -\\frac{d(-aK_ds-aK_p)}{s^3+(a+aK_d)s^2+a+aK_ps}$$using the final value theorm,$$e(\\infty) =  \\lim_{s \\rightarrow 0} s E(s) = -\\frac{d(-aK_ds-aK_p)}{s^2+(a+aK_d)s+a+aK_p}$$\n",
    "$$ = \\frac{adK_p}{a+aK_p}$$\n",
    "so the steady-state error is now porpotional to the d, which means that the increase of d would leads to the increase of the error; for $K_p$, as $K_p$ gets larger, the error would approach to \n",
    "1. "
   ]
  },
  {
   "cell_type": "markdown",
   "metadata": {},
   "source": [
    "## b\n",
    "Assuming D(s)= R(s) = 0 and N(s) = n/s, so the system equation is \n",
    "$((R(s)- Y(s))*G_c(s)+N(s))*G(s) = Y(s)$, so Y(s) = $\\frac {(R(s)*G_c(s)+N(s))*G(s)}{1+G_c(s)G(s)}$\n",
    "$$ = \\frac{\\frac{n}{s}*-\\frac{a}{s^2+as+a}}{1+(K_p+K_Ds)*-\\frac{a}{s^2+as+a}}$$\n",
    "$$ = \\frac{-an}{s^3+(a+aK_d)s^2+a+aK_ps}$$\n",
    "$$e(s)= R(s) -Y(s) = \\frac{an}{s^3+(a+aK_d)s^2+a+aK_ps}$$using the final value theorm,$$e(\\infty) =  \\lim_{s \\rightarrow 0} s E(s) = \\frac{an}{s^2+(a+aK_d)s+a+aK_p}$$\n",
    "$$ = \\frac{n}{1+K_p}$$\n",
    "so the steady-state error is now porpotional to the d, which means that the increase of n would leads to the increase of the error; for $K_p$, as $K_p$ gets larger, the error would approach to \n",
    "0. "
   ]
  },
  {
   "cell_type": "markdown",
   "metadata": {
    "colab_type": "text",
    "id": "YfGEYeC0pHF2"
   },
   "source": [
    "7. Simulation\n",
    "---\n",
    "\n",
    "Generate the following plots of the closed\n",
    "loop system using the the gains found in problem (4) and assuming a\n",
    "unit step input. \n",
    "- (a) The response when $N(s) = D(s) = 0$ and $a=2$. \n",
    "- (b) The response when $N(s)=1/s$, $D(s)=0$ and $a=2$.\n",
    "- (c) The response when $N(s)=0$, $D(s)=0.1/s$ and $a=2$.\n",
    "- (d) The response when $N(s) = D(s) = 0$ and $a$ is 50\\% greater\n",
    "than its nominal value.\n",
    "\n",
    "Do the simulations agree with your analysis in the previous problems?\n",
    "What do the simulations tell you that you analysis does not?"
   ]
  },
  {
   "cell_type": "code",
   "execution_count": 97,
   "metadata": {
    "colab": {},
    "colab_type": "code",
    "id": "mXy00lHLpHF3"
   },
   "outputs": [
    {
     "data": {
      "text/latex": [
       "$$- \\frac{- 2 s + \\sqrt{3} s + 10}{s^{3} - \\sqrt{3} s^{2} + 4 s^{2} - 8 s}$$"
      ],
      "text/plain": [
       "  -(-2⋅s + √3⋅s + 10)  \n",
       "───────────────────────\n",
       " 3       2      2      \n",
       "s  - √3⋅s  + 4⋅s  - 8⋅s"
      ]
     },
     "execution_count": 97,
     "metadata": {},
     "output_type": "execute_result"
    }
   ],
   "source": [
    "#a\n",
    "var(\"a\", real=True)\n",
    "var(\"t\", real=True,positive=True)\n",
    "var(\"s\")\n",
    "\n",
    "# Controller with one poles\n",
    "G = -2/(s**2+2*s+2)\n",
    "Gc = 5+(-1+sqrt(3)/2)*s\n",
    "T = G*Gc / ( 1 + Gc*G )\n",
    "\n",
    "# Step response\n",
    "R1 = 1/s\n",
    "Y1 = T*R1\n",
    "Y1 = Y1.cancel()\n",
    "Y1\n",
    "\n",
    "\n",
    "\n",
    "\n"
   ]
  },
  {
   "cell_type": "code",
   "execution_count": 101,
   "metadata": {},
   "outputs": [
    {
     "data": {
      "text/latex": [
       "$$\\frac{e^{t \\left(- \\frac{1}{2} \\sqrt{- 8 \\sqrt{3} + 51} - 2 + \\frac{\\sqrt{3}}{2}\\right)}}{\\sqrt{- 8 \\sqrt{3} + 51} \\left(-4 + \\sqrt{3} + \\sqrt{- 8 \\sqrt{3} + 51}\\right)^{2} \\left(- \\sqrt{3} + 4 + \\sqrt{- 8 \\sqrt{3} + 51}\\right)^{2}} \\left(- 640 \\sqrt{- 8 \\sqrt{3} + 51} e^{t \\sqrt{- 8 \\sqrt{3} + 51}} - 384 \\sqrt{3} e^{t \\sqrt{- 8 \\sqrt{3} + 51}} - 512 e^{t \\sqrt{- 8 \\sqrt{3} + 51}} + 1280 \\sqrt{- 8 \\sqrt{3} + 51} e^{t \\left(- \\frac{\\sqrt{3}}{2} + 2 + \\frac{1}{2} \\sqrt{- 8 \\sqrt{3} + 51}\\right)} - 640 \\sqrt{- 8 \\sqrt{3} + 51} + 512 + 384 \\sqrt{3}\\right)$$"
      ],
      "text/plain": [
       "⎛                                                                             \n",
       "⎜                                                                             \n",
       "⎜                          ____________               ____________            \n",
       "⎜        ____________  t⋅╲╱ -8⋅√3 + 51            t⋅╲╱ -8⋅√3 + 51         t⋅╲╱\n",
       "⎝- 640⋅╲╱ -8⋅√3 + 51 ⋅ℯ                 - 384⋅√3⋅ℯ                 - 512⋅ℯ    \n",
       "──────────────────────────────────────────────────────────────────────────────\n",
       "                                                                              \n",
       "                                                                         _____\n",
       "                                                                       ╲╱ -8⋅√\n",
       "\n",
       "                                      ⎛             ____________⎞             \n",
       "                                      ⎜  √3       ╲╱ -8⋅√3 + 51 ⎟             \n",
       "____________                        t⋅⎜- ── + 2 + ──────────────⎟             \n",
       " -8⋅√3 + 51           ____________    ⎝  2              2       ⎠         ____\n",
       "             + 1280⋅╲╱ -8⋅√3 + 51 ⋅ℯ                              - 640⋅╲╱ -8⋅\n",
       "──────────────────────────────────────────────────────────────────────────────\n",
       "                                  2                           2               \n",
       "_______ ⎛            ____________⎞  ⎛            ____________⎞                \n",
       "3 + 51 ⋅⎝-4 + √3 + ╲╱ -8⋅√3 + 51 ⎠ ⋅⎝-√3 + 4 + ╲╱ -8⋅√3 + 51 ⎠                \n",
       "\n",
       "                       ⎞    ⎛    ____________         ⎞\n",
       "                       ⎟    ⎜  ╲╱ -8⋅√3 + 51        √3⎟\n",
       "                       ⎟  t⋅⎜- ────────────── - 2 + ──⎟\n",
       "________               ⎟    ⎝        2              2 ⎠\n",
       "√3 + 51  + 512 + 384⋅√3⎠⋅ℯ                             \n",
       "───────────────────────────────────────────────────────\n",
       "                                                       \n",
       "                                                       \n",
       "                                                       "
      ]
     },
     "execution_count": 101,
     "metadata": {},
     "output_type": "execute_result"
    }
   ],
   "source": [
    "y1 = inverse_laplace_transform(Y1, s, t)\n",
    "y1"
   ]
  },
  {
   "cell_type": "code",
   "execution_count": 110,
   "metadata": {},
   "outputs": [
    {
     "ename": "ValueError",
     "evalue": "x and y must have same first dimension, but have shapes (1,) and (100,)",
     "output_type": "error",
     "traceback": [
      "\u001b[1;31m---------------------------------------------------------------------------\u001b[0m",
      "\u001b[1;31mValueError\u001b[0m                                Traceback (most recent call last)",
      "\u001b[1;32m<ipython-input-110-3ee336350285>\u001b[0m in \u001b[0;36m<module>\u001b[1;34m()\u001b[0m\n\u001b[0;32m      1\u001b[0m \u001b[0mt\u001b[0m \u001b[1;33m=\u001b[0m \u001b[0mnp\u001b[0m\u001b[1;33m.\u001b[0m\u001b[0mlinspace\u001b[0m\u001b[1;33m(\u001b[0m\u001b[1;36m0\u001b[0m\u001b[1;33m,\u001b[0m\u001b[1;36m5\u001b[0m\u001b[1;33m,\u001b[0m\u001b[1;36m100\u001b[0m\u001b[1;33m)\u001b[0m\u001b[1;33m\u001b[0m\u001b[0m\n\u001b[1;32m----> 2\u001b[1;33m \u001b[0mplt\u001b[0m\u001b[1;33m.\u001b[0m\u001b[0mplot\u001b[0m\u001b[1;33m(\u001b[0m\u001b[0my1\u001b[0m\u001b[1;33m,\u001b[0m\u001b[0mt\u001b[0m\u001b[1;33m)\u001b[0m\u001b[1;33m\u001b[0m\u001b[0m\n\u001b[0m",
      "\u001b[1;32m~\\Anaconda3\\lib\\site-packages\\matplotlib\\pyplot.py\u001b[0m in \u001b[0;36mplot\u001b[1;34m(*args, **kwargs)\u001b[0m\n\u001b[0;32m   3361\u001b[0m                       mplDeprecation)\n\u001b[0;32m   3362\u001b[0m     \u001b[1;32mtry\u001b[0m\u001b[1;33m:\u001b[0m\u001b[1;33m\u001b[0m\u001b[0m\n\u001b[1;32m-> 3363\u001b[1;33m         \u001b[0mret\u001b[0m \u001b[1;33m=\u001b[0m \u001b[0max\u001b[0m\u001b[1;33m.\u001b[0m\u001b[0mplot\u001b[0m\u001b[1;33m(\u001b[0m\u001b[1;33m*\u001b[0m\u001b[0margs\u001b[0m\u001b[1;33m,\u001b[0m \u001b[1;33m**\u001b[0m\u001b[0mkwargs\u001b[0m\u001b[1;33m)\u001b[0m\u001b[1;33m\u001b[0m\u001b[0m\n\u001b[0m\u001b[0;32m   3364\u001b[0m     \u001b[1;32mfinally\u001b[0m\u001b[1;33m:\u001b[0m\u001b[1;33m\u001b[0m\u001b[0m\n\u001b[0;32m   3365\u001b[0m         \u001b[0max\u001b[0m\u001b[1;33m.\u001b[0m\u001b[0m_hold\u001b[0m \u001b[1;33m=\u001b[0m \u001b[0mwashold\u001b[0m\u001b[1;33m\u001b[0m\u001b[0m\n",
      "\u001b[1;32m~\\Anaconda3\\lib\\site-packages\\matplotlib\\__init__.py\u001b[0m in \u001b[0;36minner\u001b[1;34m(ax, *args, **kwargs)\u001b[0m\n\u001b[0;32m   1865\u001b[0m                         \u001b[1;34m\"the Matplotlib list!)\"\u001b[0m \u001b[1;33m%\u001b[0m \u001b[1;33m(\u001b[0m\u001b[0mlabel_namer\u001b[0m\u001b[1;33m,\u001b[0m \u001b[0mfunc\u001b[0m\u001b[1;33m.\u001b[0m\u001b[0m__name__\u001b[0m\u001b[1;33m)\u001b[0m\u001b[1;33m,\u001b[0m\u001b[1;33m\u001b[0m\u001b[0m\n\u001b[0;32m   1866\u001b[0m                         RuntimeWarning, stacklevel=2)\n\u001b[1;32m-> 1867\u001b[1;33m             \u001b[1;32mreturn\u001b[0m \u001b[0mfunc\u001b[0m\u001b[1;33m(\u001b[0m\u001b[0max\u001b[0m\u001b[1;33m,\u001b[0m \u001b[1;33m*\u001b[0m\u001b[0margs\u001b[0m\u001b[1;33m,\u001b[0m \u001b[1;33m**\u001b[0m\u001b[0mkwargs\u001b[0m\u001b[1;33m)\u001b[0m\u001b[1;33m\u001b[0m\u001b[0m\n\u001b[0m\u001b[0;32m   1868\u001b[0m \u001b[1;33m\u001b[0m\u001b[0m\n\u001b[0;32m   1869\u001b[0m         inner.__doc__ = _add_data_doc(inner.__doc__,\n",
      "\u001b[1;32m~\\Anaconda3\\lib\\site-packages\\matplotlib\\axes\\_axes.py\u001b[0m in \u001b[0;36mplot\u001b[1;34m(self, *args, **kwargs)\u001b[0m\n\u001b[0;32m   1526\u001b[0m         \u001b[0mkwargs\u001b[0m \u001b[1;33m=\u001b[0m \u001b[0mcbook\u001b[0m\u001b[1;33m.\u001b[0m\u001b[0mnormalize_kwargs\u001b[0m\u001b[1;33m(\u001b[0m\u001b[0mkwargs\u001b[0m\u001b[1;33m,\u001b[0m \u001b[0m_alias_map\u001b[0m\u001b[1;33m)\u001b[0m\u001b[1;33m\u001b[0m\u001b[0m\n\u001b[0;32m   1527\u001b[0m \u001b[1;33m\u001b[0m\u001b[0m\n\u001b[1;32m-> 1528\u001b[1;33m         \u001b[1;32mfor\u001b[0m \u001b[0mline\u001b[0m \u001b[1;32min\u001b[0m \u001b[0mself\u001b[0m\u001b[1;33m.\u001b[0m\u001b[0m_get_lines\u001b[0m\u001b[1;33m(\u001b[0m\u001b[1;33m*\u001b[0m\u001b[0margs\u001b[0m\u001b[1;33m,\u001b[0m \u001b[1;33m**\u001b[0m\u001b[0mkwargs\u001b[0m\u001b[1;33m)\u001b[0m\u001b[1;33m:\u001b[0m\u001b[1;33m\u001b[0m\u001b[0m\n\u001b[0m\u001b[0;32m   1529\u001b[0m             \u001b[0mself\u001b[0m\u001b[1;33m.\u001b[0m\u001b[0madd_line\u001b[0m\u001b[1;33m(\u001b[0m\u001b[0mline\u001b[0m\u001b[1;33m)\u001b[0m\u001b[1;33m\u001b[0m\u001b[0m\n\u001b[0;32m   1530\u001b[0m             \u001b[0mlines\u001b[0m\u001b[1;33m.\u001b[0m\u001b[0mappend\u001b[0m\u001b[1;33m(\u001b[0m\u001b[0mline\u001b[0m\u001b[1;33m)\u001b[0m\u001b[1;33m\u001b[0m\u001b[0m\n",
      "\u001b[1;32m~\\Anaconda3\\lib\\site-packages\\matplotlib\\axes\\_base.py\u001b[0m in \u001b[0;36m_grab_next_args\u001b[1;34m(self, *args, **kwargs)\u001b[0m\n\u001b[0;32m    404\u001b[0m                 \u001b[0mthis\u001b[0m \u001b[1;33m+=\u001b[0m \u001b[0margs\u001b[0m\u001b[1;33m[\u001b[0m\u001b[1;36m0\u001b[0m\u001b[1;33m]\u001b[0m\u001b[1;33m,\u001b[0m\u001b[1;33m\u001b[0m\u001b[0m\n\u001b[0;32m    405\u001b[0m                 \u001b[0margs\u001b[0m \u001b[1;33m=\u001b[0m \u001b[0margs\u001b[0m\u001b[1;33m[\u001b[0m\u001b[1;36m1\u001b[0m\u001b[1;33m:\u001b[0m\u001b[1;33m]\u001b[0m\u001b[1;33m\u001b[0m\u001b[0m\n\u001b[1;32m--> 406\u001b[1;33m             \u001b[1;32mfor\u001b[0m \u001b[0mseg\u001b[0m \u001b[1;32min\u001b[0m \u001b[0mself\u001b[0m\u001b[1;33m.\u001b[0m\u001b[0m_plot_args\u001b[0m\u001b[1;33m(\u001b[0m\u001b[0mthis\u001b[0m\u001b[1;33m,\u001b[0m \u001b[0mkwargs\u001b[0m\u001b[1;33m)\u001b[0m\u001b[1;33m:\u001b[0m\u001b[1;33m\u001b[0m\u001b[0m\n\u001b[0m\u001b[0;32m    407\u001b[0m                 \u001b[1;32myield\u001b[0m \u001b[0mseg\u001b[0m\u001b[1;33m\u001b[0m\u001b[0m\n\u001b[0;32m    408\u001b[0m \u001b[1;33m\u001b[0m\u001b[0m\n",
      "\u001b[1;32m~\\Anaconda3\\lib\\site-packages\\matplotlib\\axes\\_base.py\u001b[0m in \u001b[0;36m_plot_args\u001b[1;34m(self, tup, kwargs)\u001b[0m\n\u001b[0;32m    381\u001b[0m             \u001b[0mx\u001b[0m\u001b[1;33m,\u001b[0m \u001b[0my\u001b[0m \u001b[1;33m=\u001b[0m \u001b[0mindex_of\u001b[0m\u001b[1;33m(\u001b[0m\u001b[0mtup\u001b[0m\u001b[1;33m[\u001b[0m\u001b[1;33m-\u001b[0m\u001b[1;36m1\u001b[0m\u001b[1;33m]\u001b[0m\u001b[1;33m)\u001b[0m\u001b[1;33m\u001b[0m\u001b[0m\n\u001b[0;32m    382\u001b[0m \u001b[1;33m\u001b[0m\u001b[0m\n\u001b[1;32m--> 383\u001b[1;33m         \u001b[0mx\u001b[0m\u001b[1;33m,\u001b[0m \u001b[0my\u001b[0m \u001b[1;33m=\u001b[0m \u001b[0mself\u001b[0m\u001b[1;33m.\u001b[0m\u001b[0m_xy_from_xy\u001b[0m\u001b[1;33m(\u001b[0m\u001b[0mx\u001b[0m\u001b[1;33m,\u001b[0m \u001b[0my\u001b[0m\u001b[1;33m)\u001b[0m\u001b[1;33m\u001b[0m\u001b[0m\n\u001b[0m\u001b[0;32m    384\u001b[0m \u001b[1;33m\u001b[0m\u001b[0m\n\u001b[0;32m    385\u001b[0m         \u001b[1;32mif\u001b[0m \u001b[0mself\u001b[0m\u001b[1;33m.\u001b[0m\u001b[0mcommand\u001b[0m \u001b[1;33m==\u001b[0m \u001b[1;34m'plot'\u001b[0m\u001b[1;33m:\u001b[0m\u001b[1;33m\u001b[0m\u001b[0m\n",
      "\u001b[1;32m~\\Anaconda3\\lib\\site-packages\\matplotlib\\axes\\_base.py\u001b[0m in \u001b[0;36m_xy_from_xy\u001b[1;34m(self, x, y)\u001b[0m\n\u001b[0;32m    240\u001b[0m         \u001b[1;32mif\u001b[0m \u001b[0mx\u001b[0m\u001b[1;33m.\u001b[0m\u001b[0mshape\u001b[0m\u001b[1;33m[\u001b[0m\u001b[1;36m0\u001b[0m\u001b[1;33m]\u001b[0m \u001b[1;33m!=\u001b[0m \u001b[0my\u001b[0m\u001b[1;33m.\u001b[0m\u001b[0mshape\u001b[0m\u001b[1;33m[\u001b[0m\u001b[1;36m0\u001b[0m\u001b[1;33m]\u001b[0m\u001b[1;33m:\u001b[0m\u001b[1;33m\u001b[0m\u001b[0m\n\u001b[0;32m    241\u001b[0m             raise ValueError(\"x and y must have same first dimension, but \"\n\u001b[1;32m--> 242\u001b[1;33m                              \"have shapes {} and {}\".format(x.shape, y.shape))\n\u001b[0m\u001b[0;32m    243\u001b[0m         \u001b[1;32mif\u001b[0m \u001b[0mx\u001b[0m\u001b[1;33m.\u001b[0m\u001b[0mndim\u001b[0m \u001b[1;33m>\u001b[0m \u001b[1;36m2\u001b[0m \u001b[1;32mor\u001b[0m \u001b[0my\u001b[0m\u001b[1;33m.\u001b[0m\u001b[0mndim\u001b[0m \u001b[1;33m>\u001b[0m \u001b[1;36m2\u001b[0m\u001b[1;33m:\u001b[0m\u001b[1;33m\u001b[0m\u001b[0m\n\u001b[0;32m    244\u001b[0m             raise ValueError(\"x and y can be no greater than 2-D, but have \"\n",
      "\u001b[1;31mValueError\u001b[0m: x and y must have same first dimension, but have shapes (1,) and (100,)"
     ]
    },
    {
     "data": {
      "image/png": "[encoded data removed]",
      "text/plain": [
       "<Figure size 432x288 with 1 Axes>"
      ]
     },
     "metadata": {
      "needs_background": "light"
     },
     "output_type": "display_data"
    }
   ],
   "source": [
    "t = np.linspace(0,5,100)\n",
    "plt.plot(y1,t)"
   ]
  },
  {
   "cell_type": "code",
   "execution_count": 107,
   "metadata": {},
   "outputs": [
    {
     "ename": "TypeError",
     "evalue": "can't convert expression to float",
     "output_type": "error",
     "traceback": [
      "\u001b[1;31m---------------------------------------------------------------------------\u001b[0m",
      "\u001b[1;31mTypeError\u001b[0m                                 Traceback (most recent call last)",
      "\u001b[1;32m~\\Anaconda3\\lib\\site-packages\\sympy\\plotting\\experimental_lambdify.py\u001b[0m in \u001b[0;36m__call__\u001b[1;34m(self, args)\u001b[0m\n\u001b[0;32m    193\u001b[0m             \u001b[1;31m#The result can be sympy.Float. Hence wrap it with complex type.\u001b[0m\u001b[1;33m\u001b[0m\u001b[1;33m\u001b[0m\u001b[0m\n\u001b[1;32m--> 194\u001b[1;33m             \u001b[0mresult\u001b[0m \u001b[1;33m=\u001b[0m \u001b[0mcomplex\u001b[0m\u001b[1;33m(\u001b[0m\u001b[0mself\u001b[0m\u001b[1;33m.\u001b[0m\u001b[0mlambda_func\u001b[0m\u001b[1;33m(\u001b[0m\u001b[0margs\u001b[0m\u001b[1;33m)\u001b[0m\u001b[1;33m)\u001b[0m\u001b[1;33m\u001b[0m\u001b[0m\n\u001b[0m\u001b[0;32m    195\u001b[0m             \u001b[1;32mif\u001b[0m \u001b[0mabs\u001b[0m\u001b[1;33m(\u001b[0m\u001b[0mresult\u001b[0m\u001b[1;33m.\u001b[0m\u001b[0mimag\u001b[0m\u001b[1;33m)\u001b[0m \u001b[1;33m>\u001b[0m \u001b[1;36m1e-7\u001b[0m \u001b[1;33m*\u001b[0m \u001b[0mabs\u001b[0m\u001b[1;33m(\u001b[0m\u001b[0mresult\u001b[0m\u001b[1;33m)\u001b[0m\u001b[1;33m:\u001b[0m\u001b[1;33m\u001b[0m\u001b[0m\n",
      "\u001b[1;32m~\\Anaconda3\\lib\\site-packages\\sympy\\core\\expr.py\u001b[0m in \u001b[0;36m__complex__\u001b[1;34m(self)\u001b[0m\n\u001b[0;32m    243\u001b[0m         \u001b[0mre\u001b[0m\u001b[1;33m,\u001b[0m \u001b[0mim\u001b[0m \u001b[1;33m=\u001b[0m \u001b[0mresult\u001b[0m\u001b[1;33m.\u001b[0m\u001b[0mas_real_imag\u001b[0m\u001b[1;33m(\u001b[0m\u001b[1;33m)\u001b[0m\u001b[1;33m\u001b[0m\u001b[0m\n\u001b[1;32m--> 244\u001b[1;33m         \u001b[1;32mreturn\u001b[0m \u001b[0mcomplex\u001b[0m\u001b[1;33m(\u001b[0m\u001b[0mfloat\u001b[0m\u001b[1;33m(\u001b[0m\u001b[0mre\u001b[0m\u001b[1;33m)\u001b[0m\u001b[1;33m,\u001b[0m \u001b[0mfloat\u001b[0m\u001b[1;33m(\u001b[0m\u001b[0mim\u001b[0m\u001b[1;33m)\u001b[0m\u001b[1;33m)\u001b[0m\u001b[1;33m\u001b[0m\u001b[0m\n\u001b[0m\u001b[0;32m    245\u001b[0m \u001b[1;33m\u001b[0m\u001b[0m\n",
      "\u001b[1;32m~\\Anaconda3\\lib\\site-packages\\sympy\\core\\expr.py\u001b[0m in \u001b[0;36m__float__\u001b[1;34m(self)\u001b[0m\n\u001b[0;32m    238\u001b[0m             \u001b[1;32mraise\u001b[0m \u001b[0mTypeError\u001b[0m\u001b[1;33m(\u001b[0m\u001b[1;34m\"can't convert complex to float\"\u001b[0m\u001b[1;33m)\u001b[0m\u001b[1;33m\u001b[0m\u001b[0m\n\u001b[1;32m--> 239\u001b[1;33m         \u001b[1;32mraise\u001b[0m \u001b[0mTypeError\u001b[0m\u001b[1;33m(\u001b[0m\u001b[1;34m\"can't convert expression to float\"\u001b[0m\u001b[1;33m)\u001b[0m\u001b[1;33m\u001b[0m\u001b[0m\n\u001b[0m\u001b[0;32m    240\u001b[0m \u001b[1;33m\u001b[0m\u001b[0m\n",
      "\u001b[1;31mTypeError\u001b[0m: can't convert expression to float",
      "\nDuring handling of the above exception, another exception occurred:\n",
      "\u001b[1;31mTypeError\u001b[0m                                 Traceback (most recent call last)",
      "\u001b[1;32m<ipython-input-107-43d2bda0a143>\u001b[0m in \u001b[0;36m<module>\u001b[1;34m()\u001b[0m\n\u001b[0;32m      4\u001b[0m \u001b[0mplots\u001b[0m\u001b[1;33m[\u001b[0m\u001b[1;36m2\u001b[0m\u001b[1;33m]\u001b[0m\u001b[1;33m.\u001b[0m\u001b[0mline_color\u001b[0m \u001b[1;33m=\u001b[0m \u001b[1;34m'darkgreen'\u001b[0m\u001b[1;33m\u001b[0m\u001b[0m\n\u001b[0;32m      5\u001b[0m \u001b[0mplots\u001b[0m\u001b[1;33m[\u001b[0m\u001b[1;36m3\u001b[0m\u001b[1;33m]\u001b[0m\u001b[1;33m.\u001b[0m\u001b[0mline_color\u001b[0m \u001b[1;33m=\u001b[0m \u001b[1;34m'lightgreen'\u001b[0m\u001b[1;33m\u001b[0m\u001b[0m\n\u001b[1;32m----> 6\u001b[1;33m \u001b[0mplots\u001b[0m\u001b[1;33m.\u001b[0m\u001b[0mshow\u001b[0m\u001b[1;33m(\u001b[0m\u001b[1;33m)\u001b[0m\u001b[1;33m\u001b[0m\u001b[0m\n\u001b[0m",
      "\u001b[1;32m~\\Anaconda3\\lib\\site-packages\\sympy\\plotting\\plot.py\u001b[0m in \u001b[0;36mshow\u001b[1;34m(self)\u001b[0m\n\u001b[0;32m    194\u001b[0m             \u001b[0mself\u001b[0m\u001b[1;33m.\u001b[0m\u001b[0m_backend\u001b[0m\u001b[1;33m.\u001b[0m\u001b[0mclose\u001b[0m\u001b[1;33m(\u001b[0m\u001b[1;33m)\u001b[0m\u001b[1;33m\u001b[0m\u001b[0m\n\u001b[0;32m    195\u001b[0m         \u001b[0mself\u001b[0m\u001b[1;33m.\u001b[0m\u001b[0m_backend\u001b[0m \u001b[1;33m=\u001b[0m \u001b[0mself\u001b[0m\u001b[1;33m.\u001b[0m\u001b[0mbackend\u001b[0m\u001b[1;33m(\u001b[0m\u001b[0mself\u001b[0m\u001b[1;33m)\u001b[0m\u001b[1;33m\u001b[0m\u001b[0m\n\u001b[1;32m--> 196\u001b[1;33m         \u001b[0mself\u001b[0m\u001b[1;33m.\u001b[0m\u001b[0m_backend\u001b[0m\u001b[1;33m.\u001b[0m\u001b[0mshow\u001b[0m\u001b[1;33m(\u001b[0m\u001b[1;33m)\u001b[0m\u001b[1;33m\u001b[0m\u001b[0m\n\u001b[0m\u001b[0;32m    197\u001b[0m \u001b[1;33m\u001b[0m\u001b[0m\n\u001b[0;32m    198\u001b[0m     \u001b[1;32mdef\u001b[0m \u001b[0msave\u001b[0m\u001b[1;33m(\u001b[0m\u001b[0mself\u001b[0m\u001b[1;33m,\u001b[0m \u001b[0mpath\u001b[0m\u001b[1;33m)\u001b[0m\u001b[1;33m:\u001b[0m\u001b[1;33m\u001b[0m\u001b[0m\n",
      "\u001b[1;32m~\\Anaconda3\\lib\\site-packages\\sympy\\plotting\\plot.py\u001b[0m in \u001b[0;36mshow\u001b[1;34m(self)\u001b[0m\n\u001b[0;32m   1027\u001b[0m \u001b[1;33m\u001b[0m\u001b[0m\n\u001b[0;32m   1028\u001b[0m     \u001b[1;32mdef\u001b[0m \u001b[0mshow\u001b[0m\u001b[1;33m(\u001b[0m\u001b[0mself\u001b[0m\u001b[1;33m)\u001b[0m\u001b[1;33m:\u001b[0m\u001b[1;33m\u001b[0m\u001b[0m\n\u001b[1;32m-> 1029\u001b[1;33m         \u001b[0mself\u001b[0m\u001b[1;33m.\u001b[0m\u001b[0mprocess_series\u001b[0m\u001b[1;33m(\u001b[0m\u001b[1;33m)\u001b[0m\u001b[1;33m\u001b[0m\u001b[0m\n\u001b[0m\u001b[0;32m   1030\u001b[0m         \u001b[1;31m#TODO after fixing https://github.com/ipython/ipython/issues/1255\u001b[0m\u001b[1;33m\u001b[0m\u001b[1;33m\u001b[0m\u001b[0m\n\u001b[0;32m   1031\u001b[0m         \u001b[1;31m# you can uncomment the next line and remove the pyplot.show() call\u001b[0m\u001b[1;33m\u001b[0m\u001b[1;33m\u001b[0m\u001b[0m\n",
      "\u001b[1;32m~\\Anaconda3\\lib\\site-packages\\sympy\\plotting\\plot.py\u001b[0m in \u001b[0;36mprocess_series\u001b[1;34m(self)\u001b[0m\n\u001b[0;32m    906\u001b[0m             \u001b[1;31m# Create the collections\u001b[0m\u001b[1;33m\u001b[0m\u001b[1;33m\u001b[0m\u001b[0m\n\u001b[0;32m    907\u001b[0m             \u001b[1;32mif\u001b[0m \u001b[0ms\u001b[0m\u001b[1;33m.\u001b[0m\u001b[0mis_2Dline\u001b[0m\u001b[1;33m:\u001b[0m\u001b[1;33m\u001b[0m\u001b[0m\n\u001b[1;32m--> 908\u001b[1;33m                 \u001b[0mcollection\u001b[0m \u001b[1;33m=\u001b[0m \u001b[0mself\u001b[0m\u001b[1;33m.\u001b[0m\u001b[0mLineCollection\u001b[0m\u001b[1;33m(\u001b[0m\u001b[0ms\u001b[0m\u001b[1;33m.\u001b[0m\u001b[0mget_segments\u001b[0m\u001b[1;33m(\u001b[0m\u001b[1;33m)\u001b[0m\u001b[1;33m)\u001b[0m\u001b[1;33m\u001b[0m\u001b[0m\n\u001b[0m\u001b[0;32m    909\u001b[0m                 \u001b[0mself\u001b[0m\u001b[1;33m.\u001b[0m\u001b[0max\u001b[0m\u001b[1;33m.\u001b[0m\u001b[0madd_collection\u001b[0m\u001b[1;33m(\u001b[0m\u001b[0mcollection\u001b[0m\u001b[1;33m)\u001b[0m\u001b[1;33m\u001b[0m\u001b[0m\n\u001b[0;32m    910\u001b[0m             \u001b[1;32melif\u001b[0m \u001b[0ms\u001b[0m\u001b[1;33m.\u001b[0m\u001b[0mis_contour\u001b[0m\u001b[1;33m:\u001b[0m\u001b[1;33m\u001b[0m\u001b[0m\n",
      "\u001b[1;32m~\\Anaconda3\\lib\\site-packages\\sympy\\plotting\\plot.py\u001b[0m in \u001b[0;36mget_segments\u001b[1;34m(self)\u001b[0m\n\u001b[0;32m    512\u001b[0m                     \u001b[0mlist_segments\u001b[0m\u001b[1;33m.\u001b[0m\u001b[0mappend\u001b[0m\u001b[1;33m(\u001b[0m\u001b[1;33m[\u001b[0m\u001b[0mp\u001b[0m\u001b[1;33m,\u001b[0m \u001b[0mq\u001b[0m\u001b[1;33m]\u001b[0m\u001b[1;33m)\u001b[0m\u001b[1;33m\u001b[0m\u001b[0m\n\u001b[0;32m    513\u001b[0m \u001b[1;33m\u001b[0m\u001b[0m\n\u001b[1;32m--> 514\u001b[1;33m             \u001b[0mf_start\u001b[0m \u001b[1;33m=\u001b[0m \u001b[0mf\u001b[0m\u001b[1;33m(\u001b[0m\u001b[0mself\u001b[0m\u001b[1;33m.\u001b[0m\u001b[0mstart\u001b[0m\u001b[1;33m)\u001b[0m\u001b[1;33m\u001b[0m\u001b[0m\n\u001b[0m\u001b[0;32m    515\u001b[0m             \u001b[0mf_end\u001b[0m \u001b[1;33m=\u001b[0m \u001b[0mf\u001b[0m\u001b[1;33m(\u001b[0m\u001b[0mself\u001b[0m\u001b[1;33m.\u001b[0m\u001b[0mend\u001b[0m\u001b[1;33m)\u001b[0m\u001b[1;33m\u001b[0m\u001b[0m\n\u001b[0;32m    516\u001b[0m             \u001b[0msample\u001b[0m\u001b[1;33m(\u001b[0m\u001b[1;33m[\u001b[0m\u001b[0mself\u001b[0m\u001b[1;33m.\u001b[0m\u001b[0mstart\u001b[0m\u001b[1;33m,\u001b[0m \u001b[0mf_start\u001b[0m\u001b[1;33m]\u001b[0m\u001b[1;33m,\u001b[0m \u001b[1;33m[\u001b[0m\u001b[0mself\u001b[0m\u001b[1;33m.\u001b[0m\u001b[0mend\u001b[0m\u001b[1;33m,\u001b[0m \u001b[0mf_end\u001b[0m\u001b[1;33m]\u001b[0m\u001b[1;33m,\u001b[0m \u001b[1;36m0\u001b[0m\u001b[1;33m)\u001b[0m\u001b[1;33m\u001b[0m\u001b[0m\n",
      "\u001b[1;32m~\\Anaconda3\\lib\\site-packages\\sympy\\plotting\\experimental_lambdify.py\u001b[0m in \u001b[0;36m__call__\u001b[1;34m(self, args)\u001b[0m\n\u001b[0;32m    229\u001b[0m                                                     \u001b[0muse_evalf\u001b[0m\u001b[1;33m=\u001b[0m\u001b[1;32mTrue\u001b[0m\u001b[1;33m,\u001b[0m\u001b[1;33m\u001b[0m\u001b[0m\n\u001b[0;32m    230\u001b[0m                                                     complex_wrap_evalf=True)\n\u001b[1;32m--> 231\u001b[1;33m                 \u001b[0mresult\u001b[0m \u001b[1;33m=\u001b[0m \u001b[0mself\u001b[0m\u001b[1;33m.\u001b[0m\u001b[0mlambda_func\u001b[0m\u001b[1;33m(\u001b[0m\u001b[0margs\u001b[0m\u001b[1;33m)\u001b[0m\u001b[1;33m\u001b[0m\u001b[0m\n\u001b[0m\u001b[0;32m    232\u001b[0m                 warnings.warn('The evaluation of the expression is'\n\u001b[0;32m    233\u001b[0m                         \u001b[1;34m' problematic. We are trying a failback method'\u001b[0m\u001b[1;33m\u001b[0m\u001b[0m\n",
      "\u001b[1;32m~\\Anaconda3\\lib\\site-packages\\sympy\\plotting\\experimental_lambdify.py\u001b[0m in \u001b[0;36m__call__\u001b[1;34m(self, *args, **kwargs)\u001b[0m\n\u001b[0;32m    314\u001b[0m \u001b[1;33m\u001b[0m\u001b[0m\n\u001b[0;32m    315\u001b[0m     \u001b[1;32mdef\u001b[0m \u001b[0m__call__\u001b[0m\u001b[1;33m(\u001b[0m\u001b[0mself\u001b[0m\u001b[1;33m,\u001b[0m \u001b[1;33m*\u001b[0m\u001b[0margs\u001b[0m\u001b[1;33m,\u001b[0m \u001b[1;33m**\u001b[0m\u001b[0mkwargs\u001b[0m\u001b[1;33m)\u001b[0m\u001b[1;33m:\u001b[0m\u001b[1;33m\u001b[0m\u001b[0m\n\u001b[1;32m--> 316\u001b[1;33m         \u001b[1;32mreturn\u001b[0m \u001b[0mself\u001b[0m\u001b[1;33m.\u001b[0m\u001b[0mlambda_func\u001b[0m\u001b[1;33m(\u001b[0m\u001b[1;33m*\u001b[0m\u001b[0margs\u001b[0m\u001b[1;33m,\u001b[0m \u001b[1;33m**\u001b[0m\u001b[0mkwargs\u001b[0m\u001b[1;33m)\u001b[0m\u001b[1;33m\u001b[0m\u001b[0m\n\u001b[0m\u001b[0;32m    317\u001b[0m \u001b[1;33m\u001b[0m\u001b[0m\n\u001b[0;32m    318\u001b[0m \u001b[1;33m\u001b[0m\u001b[0m\n",
      "\u001b[1;32m<string>\u001b[0m in \u001b[0;36m<lambda>\u001b[1;34m(x0)\u001b[0m\n",
      "\u001b[1;32m~\\Anaconda3\\lib\\site-packages\\sympy\\core\\expr.py\u001b[0m in \u001b[0;36m__complex__\u001b[1;34m(self)\u001b[0m\n\u001b[0;32m    242\u001b[0m         \u001b[0mresult\u001b[0m \u001b[1;33m=\u001b[0m \u001b[0mself\u001b[0m\u001b[1;33m.\u001b[0m\u001b[0mevalf\u001b[0m\u001b[1;33m(\u001b[0m\u001b[1;33m)\u001b[0m\u001b[1;33m\u001b[0m\u001b[0m\n\u001b[0;32m    243\u001b[0m         \u001b[0mre\u001b[0m\u001b[1;33m,\u001b[0m \u001b[0mim\u001b[0m \u001b[1;33m=\u001b[0m \u001b[0mresult\u001b[0m\u001b[1;33m.\u001b[0m\u001b[0mas_real_imag\u001b[0m\u001b[1;33m(\u001b[0m\u001b[1;33m)\u001b[0m\u001b[1;33m\u001b[0m\u001b[0m\n\u001b[1;32m--> 244\u001b[1;33m         \u001b[1;32mreturn\u001b[0m \u001b[0mcomplex\u001b[0m\u001b[1;33m(\u001b[0m\u001b[0mfloat\u001b[0m\u001b[1;33m(\u001b[0m\u001b[0mre\u001b[0m\u001b[1;33m)\u001b[0m\u001b[1;33m,\u001b[0m \u001b[0mfloat\u001b[0m\u001b[1;33m(\u001b[0m\u001b[0mim\u001b[0m\u001b[1;33m)\u001b[0m\u001b[1;33m)\u001b[0m\u001b[1;33m\u001b[0m\u001b[0m\n\u001b[0m\u001b[0;32m    245\u001b[0m \u001b[1;33m\u001b[0m\u001b[0m\n\u001b[0;32m    246\u001b[0m     \u001b[1;32mdef\u001b[0m \u001b[0m__ge__\u001b[0m\u001b[1;33m(\u001b[0m\u001b[0mself\u001b[0m\u001b[1;33m,\u001b[0m \u001b[0mother\u001b[0m\u001b[1;33m)\u001b[0m\u001b[1;33m:\u001b[0m\u001b[1;33m\u001b[0m\u001b[0m\n",
      "\u001b[1;32m~\\Anaconda3\\lib\\site-packages\\sympy\\core\\expr.py\u001b[0m in \u001b[0;36m__float__\u001b[1;34m(self)\u001b[0m\n\u001b[0;32m    237\u001b[0m         \u001b[1;32mif\u001b[0m \u001b[0mresult\u001b[0m\u001b[1;33m.\u001b[0m\u001b[0mis_number\u001b[0m \u001b[1;32mand\u001b[0m \u001b[0mresult\u001b[0m\u001b[1;33m.\u001b[0m\u001b[0mas_real_imag\u001b[0m\u001b[1;33m(\u001b[0m\u001b[1;33m)\u001b[0m\u001b[1;33m[\u001b[0m\u001b[1;36m1\u001b[0m\u001b[1;33m]\u001b[0m\u001b[1;33m:\u001b[0m\u001b[1;33m\u001b[0m\u001b[0m\n\u001b[0;32m    238\u001b[0m             \u001b[1;32mraise\u001b[0m \u001b[0mTypeError\u001b[0m\u001b[1;33m(\u001b[0m\u001b[1;34m\"can't convert complex to float\"\u001b[0m\u001b[1;33m)\u001b[0m\u001b[1;33m\u001b[0m\u001b[0m\n\u001b[1;32m--> 239\u001b[1;33m         \u001b[1;32mraise\u001b[0m \u001b[0mTypeError\u001b[0m\u001b[1;33m(\u001b[0m\u001b[1;34m\"can't convert expression to float\"\u001b[0m\u001b[1;33m)\u001b[0m\u001b[1;33m\u001b[0m\u001b[0m\n\u001b[0m\u001b[0;32m    240\u001b[0m \u001b[1;33m\u001b[0m\u001b[0m\n\u001b[0;32m    241\u001b[0m     \u001b[1;32mdef\u001b[0m \u001b[0m__complex__\u001b[0m\u001b[1;33m(\u001b[0m\u001b[0mself\u001b[0m\u001b[1;33m)\u001b[0m\u001b[1;33m:\u001b[0m\u001b[1;33m\u001b[0m\u001b[0m\n",
      "\u001b[1;31mTypeError\u001b[0m: can't convert expression to float"
     ]
    },
    {
     "data": {
      "image/png": "[encoded data removed]",
      "text/plain": [
       "<Figure size 432x288 with 1 Axes>"
      ]
     },
     "metadata": {
      "needs_background": "light"
     },
     "output_type": "display_data"
    }
   ],
   "source": [
    "plots = plotting.plot(y1,1+0*t,y2,t,(t,0,5), show=false);\n",
    "plots[0].line_color = 'blue'\n",
    "plots[1].line_color = 'lightblue'\n",
    "plots[2].line_color = 'darkgreen'\n",
    "plots[3].line_color = 'lightgreen'\n",
    "plots.show()"
   ]
  },
  {
   "cell_type": "code",
   "execution_count": 98,
   "metadata": {},
   "outputs": [
    {
     "data": {
      "text/latex": [
       "$$\\frac{- 2 s^{2} + \\sqrt{3} s^{2} + 2 \\sqrt{3} s + 6 s + 20}{2 s^{2} - 2 \\sqrt{3} s + 8 s - 16}$$"
      ],
      "text/plain": [
       "     2       2                    \n",
       "- 2⋅s  + √3⋅s  + 2⋅√3⋅s + 6⋅s + 20\n",
       "──────────────────────────────────\n",
       "        2                         \n",
       "     2⋅s  - 2⋅√3⋅s + 8⋅s - 16     "
      ]
     },
     "execution_count": 98,
     "metadata": {},
     "output_type": "execute_result"
    }
   ],
   "source": [
    "#b\n",
    "var(\"a\", real=True)\n",
    "var(\"t\", real=True,positive=True)\n",
    "var(\"s\")\n",
    "\n",
    "# Controller with one poles\n",
    "G = -2/(s**2+2*s+2)\n",
    "Gc = 5+(-1+sqrt(3)/2)*s\n",
    "T = (G*Gc+Gc) / ( 1 + Gc*G )\n",
    "\n",
    "# Step response\n",
    "R2 = 1/s\n",
    "Y2 = T*R2\n",
    "Y2 = Y2.cancel()\n",
    "Y2\n"
   ]
  },
  {
   "cell_type": "code",
   "execution_count": 102,
   "metadata": {},
   "outputs": [
    {
     "data": {
      "text/latex": [
       "$$\\frac{1}{\\sqrt{- 8 \\sqrt{3} + 51}} \\left(10 e^{t \\sqrt{- 8 \\sqrt{3} + 51}} - 10\\right) e^{t \\left(- \\frac{1}{2} \\sqrt{- 8 \\sqrt{3} + 51} - 2 + \\frac{\\sqrt{3}}{2}\\right)} + \\frac{\\sqrt{3}}{2 \\sqrt{- 8 \\sqrt{3} + 51}} \\left(- 4 e^{t \\sqrt{- 8 \\sqrt{3} + 51}} + \\sqrt{3} e^{t \\sqrt{- 8 \\sqrt{3} + 51}} + \\sqrt{- 8 \\sqrt{3} + 51} e^{t \\sqrt{- 8 \\sqrt{3} + 51}} - \\sqrt{3} + 4 + \\sqrt{- 8 \\sqrt{3} + 51}\\right) e^{t \\left(- \\frac{1}{2} \\sqrt{- 8 \\sqrt{3} + 51} - 2 + \\frac{\\sqrt{3}}{2}\\right)} + \\frac{3}{2 \\sqrt{- 8 \\sqrt{3} + 51}} \\left(- 4 e^{t \\sqrt{- 8 \\sqrt{3} + 51}} + \\sqrt{3} e^{t \\sqrt{- 8 \\sqrt{3} + 51}} + \\sqrt{- 8 \\sqrt{3} + 51} e^{t \\sqrt{- 8 \\sqrt{3} + 51}} - \\sqrt{3} + 4 + \\sqrt{- 8 \\sqrt{3} + 51}\\right) e^{- \\frac{t}{2} \\sqrt{- 8 \\sqrt{3} + 51} - 2 t + \\frac{\\sqrt{3} t}{2}} - 2 \\mathcal{L}^{-1}_{s}\\left[\\frac{s^{2}}{2 s^{2} - 2 \\sqrt{3} s + 8 s - 16}\\right]\\left(t\\right) + \\sqrt{3} \\mathcal{L}^{-1}_{s}\\left[\\frac{s^{2}}{2 s^{2} - 2 \\sqrt{3} s + 8 s - 16}\\right]\\left(t\\right)$$"
      ],
      "text/plain": [
       "                               ⎛    ____________         ⎞                    \n",
       "                               ⎜  ╲╱ -8⋅√3 + 51        √3⎟                    \n",
       "⎛        ____________     ⎞  t⋅⎜- ────────────── - 2 + ──⎟      ⎛         ____\n",
       "⎜    t⋅╲╱ -8⋅√3 + 51      ⎟    ⎝        2              2 ⎠      ⎜     t⋅╲╱ -8⋅\n",
       "⎝10⋅ℯ                 - 10⎠⋅ℯ                                √3⋅⎝- 4⋅ℯ        \n",
       "────────────────────────────────────────────────────────── + ─────────────────\n",
       "                        ____________                                          \n",
       "                      ╲╱ -8⋅√3 + 51                                           \n",
       "\n",
       "                                                                              \n",
       "                                                                              \n",
       "________           ____________                       ____________            \n",
       "√3 + 51        t⋅╲╱ -8⋅√3 + 51      ____________  t⋅╲╱ -8⋅√3 + 51             \n",
       "         + √3⋅ℯ                 + ╲╱ -8⋅√3 + 51 ⋅ℯ                 - √3 + 4 + \n",
       "──────────────────────────────────────────────────────────────────────────────\n",
       "                                                  ____________                \n",
       "                                              2⋅╲╱ -8⋅√3 + 51                 \n",
       "\n",
       "                   ⎛    ____________         ⎞                                \n",
       "                   ⎜  ╲╱ -8⋅√3 + 51        √3⎟                                \n",
       "              ⎞  t⋅⎜- ────────────── - 2 + ──⎟     ⎛         ____________     \n",
       "  ____________⎟    ⎝        2              2 ⎠     ⎜     t⋅╲╱ -8⋅√3 + 51      \n",
       "╲╱ -8⋅√3 + 51 ⎠⋅ℯ                                3⋅⎝- 4⋅ℯ                 + √3\n",
       "────────────────────────────────────────────── + ─────────────────────────────\n",
       "                                                                              \n",
       "                                                                              \n",
       "\n",
       "                                                                              \n",
       "                                                                              \n",
       "      ____________                       ____________                         \n",
       "  t⋅╲╱ -8⋅√3 + 51      ____________  t⋅╲╱ -8⋅√3 + 51               ___________\n",
       "⋅ℯ                 + ╲╱ -8⋅√3 + 51 ⋅ℯ                 - √3 + 4 + ╲╱ -8⋅√3 + 51\n",
       "──────────────────────────────────────────────────────────────────────────────\n",
       "                                      ____________                            \n",
       "                                  2⋅╲╱ -8⋅√3 + 51                             \n",
       "\n",
       "          ____________                                                        \n",
       "      t⋅╲╱ -8⋅√3 + 51          √3⋅t                                           \n",
       " ⎞  - ──────────────── - 2⋅t + ────                                           \n",
       "_⎟           2                  2                              ⎛            2 \n",
       " ⎠⋅ℯ                                                           ⎜           s  \n",
       "─────────────────────────────────── - 2⋅InverseLaplaceTransform⎜──────────────\n",
       "                                                               ⎜   2          \n",
       "                                                               ⎝2⋅s  - 2⋅√3⋅s \n",
       "\n",
       "                                                                              \n",
       "                                                                              \n",
       "                                                                              \n",
       "                      ⎞                             ⎛            2            \n",
       "                      ⎟                             ⎜           s             \n",
       "──────────, s, t, None⎟ + √3⋅InverseLaplaceTransform⎜────────────────────────,\n",
       "                      ⎟                             ⎜   2                     \n",
       "+ 8⋅s - 16            ⎠                             ⎝2⋅s  - 2⋅√3⋅s + 8⋅s - 16 \n",
       "\n",
       "            \n",
       "            \n",
       "            \n",
       "           ⎞\n",
       "           ⎟\n",
       " s, t, None⎟\n",
       "           ⎟\n",
       "           ⎠"
      ]
     },
     "execution_count": 102,
     "metadata": {},
     "output_type": "execute_result"
    }
   ],
   "source": [
    "y2 = inverse_laplace_transform(Y2, s, t)\n",
    "y2"
   ]
  },
  {
   "cell_type": "code",
   "execution_count": 92,
   "metadata": {},
   "outputs": [
    {
     "data": {
      "text/latex": [
       "$$- \\frac{1.0 \\left(- 3.6 s + 1.8 \\sqrt{3} s + 18.0\\right)}{2.0 s^{3} - 2.0 \\sqrt{3} s^{2} + 8.0 s^{2} - 16.0 s}$$"
      ],
      "text/plain": [
       "  -1.0⋅(-3.6⋅s + 1.8⋅√3⋅s + 18.0)   \n",
       "────────────────────────────────────\n",
       "     3           2        2         \n",
       "2.0⋅s  - 2.0⋅√3⋅s  + 8.0⋅s  - 16.0⋅s"
      ]
     },
     "execution_count": 92,
     "metadata": {},
     "output_type": "execute_result"
    }
   ],
   "source": [
    "#b\n",
    "var(\"a\", real=True)\n",
    "var(\"t\", real=True,positive=True)\n",
    "var(\"s\")\n",
    "\n",
    "# Controller with one poles\n",
    "G = -2/(s**2+2*s+2)\n",
    "Gc = 5+(-1+sqrt(3)/2)*s\n",
    "T = (G*Gc+Gc) / ( 1 + Gc*G )\n",
    "\n",
    "# Step response\n",
    "R3 = 1/s\n",
    "Y3= ((R3-0.1/s)*G*Gc) / ( 1 + Gc*G )\n",
    "Y3 = Y3.cancel()\n",
    "Y3"
   ]
  },
  {
   "cell_type": "code",
   "execution_count": 115,
   "metadata": {},
   "outputs": [
    {
     "data": {
      "text/latex": [
       "$$- \\left(- 0.9 \\sqrt{3} + 1.8\\right) \\left(\\frac{13.1482519546106 \\Gamma{\\left(- 1.0 \\sqrt{- 8.0 \\sqrt{3} + 51.0} \\right)} \\Gamma{\\left(- 0.5 \\sqrt{- 8.0 \\sqrt{3} + 51.0} - 2.0 + 0.5 \\sqrt{3} \\right)}}{\\Gamma{\\left(- 0.5 \\sqrt{- 8.0 \\sqrt{3} + 51.0} - 1.0 + 0.5 \\sqrt{3} \\right)}} \\left(0.5 \\sqrt{- 8.0 \\sqrt{3} + 51.0} e^{- t \\left(- 0.5 \\sqrt{3} + 2.0 + 0.5 \\sqrt{- 8.0 \\sqrt{3} + 51.0}\\right)} + 9.5 \\sqrt{3} e^{- t \\left(- 0.5 \\sqrt{3} + 2.0 + 0.5 \\sqrt{- 8.0 \\sqrt{3} + 51.0}\\right)} + 22.0 e^{- t \\left(- 0.5 \\sqrt{3} + 2.0 + 0.5 \\sqrt{- 8.0 \\sqrt{3} + 51.0}\\right)}\\right) + \\frac{1.0 \\left(- 0.9 \\sqrt{- 8.0 \\sqrt{3} + 51.0} - 2.7 \\sqrt{3} + 0.45 \\sqrt{- 24.0 \\sqrt{3} + 153.0} + 13.95\\right) e^{t \\left(-2.0 + 0.5 \\sqrt{3} + 0.5 \\sqrt{- 8.0 \\sqrt{3} + 51.0}\\right)} \\Gamma{\\left(1.0 \\sqrt{- 8.0 \\sqrt{3} + 51.0} \\right)} \\Gamma{\\left(-2.0 + 0.5 \\sqrt{3} + 0.5 \\sqrt{- 8.0 \\sqrt{3} + 51.0} \\right)}}{\\left(- 0.9 \\sqrt{3} + 1.8\\right) \\Gamma{\\left(1.0 + 1.0 \\sqrt{- 8.0 \\sqrt{3} + 51.0} \\right)} \\Gamma{\\left(-1.0 + 0.5 \\sqrt{3} + 0.5 \\sqrt{- 8.0 \\sqrt{3} + 51.0} \\right)}} + \\frac{\\left(10.0 \\sqrt{3} + 20.0\\right) \\Gamma{\\left(- 0.5 \\sqrt{3} + 2.0 + 0.5 \\sqrt{- 8.0 \\sqrt{3} + 51.0} \\right)} \\Gamma{\\left(- 0.5 \\sqrt{- 8.0 \\sqrt{3} + 51.0} - 0.5 \\sqrt{3} + 2.0 \\right)}}{\\Gamma{\\left(- 0.5 \\sqrt{3} + 3.0 + 0.5 \\sqrt{- 8.0 \\sqrt{3} + 51.0} \\right)} \\Gamma{\\left(- 0.5 \\sqrt{- 8.0 \\sqrt{3} + 51.0} - 0.5 \\sqrt{3} + 3.0 \\right)}}\\right)$$"
      ],
      "text/plain": [
       "                 ⎛                 ⎛                           ⎛              \n",
       "                 ⎜                 ⎜      ________________  -t⋅⎝-0.5⋅√3 + 2.0 \n",
       "                 ⎜13.1482519546106⋅⎝0.5⋅╲╱ -8.0⋅√3 + 51.0 ⋅ℯ                  \n",
       "-(-0.9⋅√3 + 1.8)⋅⎜────────────────────────────────────────────────────────────\n",
       "                 ⎜                                                            \n",
       "                 ⎝                                                            \n",
       "\n",
       "        ________________⎞              ⎛                      ________________\n",
       "+ 0.5⋅╲╱ -8.0⋅√3 + 51.0 ⎠           -t⋅⎝-0.5⋅√3 + 2.0 + 0.5⋅╲╱ -8.0⋅√3 + 51.0 \n",
       "                          + 9.5⋅√3⋅ℯ                                          \n",
       "──────────────────────────────────────────────────────────────────────────────\n",
       "                                                   ⎛        ________________  \n",
       "                                                  Γ⎝- 0.5⋅╲╱ -8.0⋅√3 + 51.0  -\n",
       "\n",
       "⎞            ⎛                      ________________⎞⎞                        \n",
       "⎠         -t⋅⎝-0.5⋅√3 + 2.0 + 0.5⋅╲╱ -8.0⋅√3 + 51.0 ⎠⎟  ⎛       ______________\n",
       "  + 22.0⋅ℯ                                           ⎠⋅Γ⎝-1.0⋅╲╱ -8.0⋅√3 + 51.\n",
       "──────────────────────────────────────────────────────────────────────────────\n",
       "             ⎞                                                                \n",
       " 1.0 + 0.5⋅√3⎠                                                                \n",
       "\n",
       "                                                                              \n",
       "__⎞  ⎛        ________________               ⎞       ⎛        ________________\n",
       "0 ⎠⋅Γ⎝- 0.5⋅╲╱ -8.0⋅√3 + 51.0  - 2.0 + 0.5⋅√3⎠   1.0⋅⎝- 0.9⋅╲╱ -8.0⋅√3 + 51.0 \n",
       "────────────────────────────────────────────── + ─────────────────────────────\n",
       "                                                                              \n",
       "                                                                              \n",
       "\n",
       "                                                  ⎛                      _____\n",
       "                   __________________        ⎞  t⋅⎝-2.0 + 0.5⋅√3 + 0.5⋅╲╱ -8.0\n",
       " - 2.7⋅√3 + 0.45⋅╲╱ -24.0⋅√3 + 153.0  + 13.95⎠⋅ℯ                              \n",
       "──────────────────────────────────────────────────────────────────────────────\n",
       "                                     ⎛            ________________⎞  ⎛        \n",
       "                    (-0.9⋅√3 + 1.8)⋅Γ⎝1.0 + 1.0⋅╲╱ -8.0⋅√3 + 51.0 ⎠⋅Γ⎝-1.0 + 0\n",
       "\n",
       "___________⎞                                                                  \n",
       "⋅√3 + 51.0 ⎠  ⎛      ________________⎞  ⎛                      _______________\n",
       "            ⋅Γ⎝1.0⋅╲╱ -8.0⋅√3 + 51.0 ⎠⋅Γ⎝-2.0 + 0.5⋅√3 + 0.5⋅╲╱ -8.0⋅√3 + 51.0\n",
       "──────────────────────────────────────────────────────────────────────────────\n",
       "              ________________⎞                                               \n",
       ".5⋅√3 + 0.5⋅╲╱ -8.0⋅√3 + 51.0 ⎠                                               \n",
       "\n",
       "                                                                              \n",
       "_⎞                     ⎛                      ________________⎞  ⎛        ____\n",
       " ⎠   (10.0⋅√3 + 20.0)⋅Γ⎝-0.5⋅√3 + 2.0 + 0.5⋅╲╱ -8.0⋅√3 + 51.0 ⎠⋅Γ⎝- 0.5⋅╲╱ -8.\n",
       "── + ─────────────────────────────────────────────────────────────────────────\n",
       "               ⎛                      ________________⎞  ⎛        ____________\n",
       "              Γ⎝-0.5⋅√3 + 3.0 + 0.5⋅╲╱ -8.0⋅√3 + 51.0 ⎠⋅Γ⎝- 0.5⋅╲╱ -8.0⋅√3 + 5\n",
       "\n",
       "                            ⎞\n",
       "____________               ⎞⎟\n",
       "0⋅√3 + 51.0  - 0.5⋅√3 + 2.0⎠⎟\n",
       "────────────────────────────⎟\n",
       "____               ⎞        ⎟\n",
       "1.0  - 0.5⋅√3 + 3.0⎠        ⎠"
      ]
     },
     "execution_count": 115,
     "metadata": {},
     "output_type": "execute_result"
    }
   ],
   "source": [
    "y3 = inverse_laplace_transform(Y3, s, t)\n",
    "y3"
   ]
  },
  {
   "cell_type": "code",
   "execution_count": 121,
   "metadata": {},
   "outputs": [
    {
     "data": {
      "text/latex": [
       "$$- \\frac{- 6 s + 3 \\sqrt{3} s + 30}{2 s^{4} - 3 \\sqrt{3} s^{2} + 10 s^{2} - 24 s}$$"
      ],
      "text/plain": [
       "    -(-6⋅s + 3⋅√3⋅s + 30)    \n",
       "─────────────────────────────\n",
       "   4         2       2       \n",
       "2⋅s  - 3⋅√3⋅s  + 10⋅s  - 24⋅s"
      ]
     },
     "execution_count": 121,
     "metadata": {},
     "output_type": "execute_result"
    }
   ],
   "source": [
    "#D \n",
    "#I assume that 50% grater than its nominal value means a = 3. \n",
    "var(\"a\", real=True)\n",
    "var(\"t\", real=True,positive=True)\n",
    "var(\"s\")\n",
    "\n",
    "# Controller with one poles\n",
    "G = -3/(s**3+2*s+3)\n",
    "Gc = 5+(-1+sqrt(3)/2)*s\n",
    "T = G*Gc / ( 1 + Gc*G )\n",
    "\n",
    "# Step response\n",
    "R4 = 1/s\n",
    "Y4 = T*R4\n",
    "Y4 = Y4.cancel()\n",
    "Y4"
   ]
  },
  {
   "cell_type": "code",
   "execution_count": 124,
   "metadata": {},
   "outputs": [
    {
     "ename": "NotImplementedError",
     "evalue": "sorted roots not supported over EX",
     "output_type": "error",
     "traceback": [
      "\u001b[1;31m---------------------------------------------------------------------------\u001b[0m",
      "\u001b[1;31mNotImplementedError\u001b[0m                       Traceback (most recent call last)",
      "\u001b[1;32m<ipython-input-124-87d91cf29b2a>\u001b[0m in \u001b[0;36m<module>\u001b[1;34m()\u001b[0m\n\u001b[1;32m----> 1\u001b[1;33m \u001b[0my4\u001b[0m \u001b[1;33m=\u001b[0m \u001b[0minverse_laplace_transform\u001b[0m\u001b[1;33m(\u001b[0m\u001b[0mY4\u001b[0m\u001b[1;33m,\u001b[0m \u001b[0ms\u001b[0m\u001b[1;33m,\u001b[0m \u001b[0mt\u001b[0m\u001b[1;33m)\u001b[0m\u001b[1;33m\u001b[0m\u001b[0m\n\u001b[0m\u001b[0;32m      2\u001b[0m \u001b[0my3\u001b[0m\u001b[1;33m\u001b[0m\u001b[0m\n",
      "\u001b[1;32m~\\Anaconda3\\lib\\site-packages\\sympy\\integrals\\transforms.py\u001b[0m in \u001b[0;36minverse_laplace_transform\u001b[1;34m(F, s, t, plane, **hints)\u001b[0m\n\u001b[0;32m   1269\u001b[0m     \u001b[1;32mif\u001b[0m \u001b[0misinstance\u001b[0m\u001b[1;33m(\u001b[0m\u001b[0mF\u001b[0m\u001b[1;33m,\u001b[0m \u001b[0mMatrixBase\u001b[0m\u001b[1;33m)\u001b[0m \u001b[1;32mand\u001b[0m \u001b[0mhasattr\u001b[0m\u001b[1;33m(\u001b[0m\u001b[0mF\u001b[0m\u001b[1;33m,\u001b[0m \u001b[1;34m'applyfunc'\u001b[0m\u001b[1;33m)\u001b[0m\u001b[1;33m:\u001b[0m\u001b[1;33m\u001b[0m\u001b[0m\n\u001b[0;32m   1270\u001b[0m         \u001b[1;32mreturn\u001b[0m \u001b[0mF\u001b[0m\u001b[1;33m.\u001b[0m\u001b[0mapplyfunc\u001b[0m\u001b[1;33m(\u001b[0m\u001b[1;32mlambda\u001b[0m \u001b[0mFij\u001b[0m\u001b[1;33m:\u001b[0m \u001b[0minverse_laplace_transform\u001b[0m\u001b[1;33m(\u001b[0m\u001b[0mFij\u001b[0m\u001b[1;33m,\u001b[0m \u001b[0ms\u001b[0m\u001b[1;33m,\u001b[0m \u001b[0mt\u001b[0m\u001b[1;33m,\u001b[0m \u001b[0mplane\u001b[0m\u001b[1;33m,\u001b[0m \u001b[1;33m**\u001b[0m\u001b[0mhints\u001b[0m\u001b[1;33m)\u001b[0m\u001b[1;33m)\u001b[0m\u001b[1;33m\u001b[0m\u001b[0m\n\u001b[1;32m-> 1271\u001b[1;33m     \u001b[1;32mreturn\u001b[0m \u001b[0mInverseLaplaceTransform\u001b[0m\u001b[1;33m(\u001b[0m\u001b[0mF\u001b[0m\u001b[1;33m,\u001b[0m \u001b[0ms\u001b[0m\u001b[1;33m,\u001b[0m \u001b[0mt\u001b[0m\u001b[1;33m,\u001b[0m \u001b[0mplane\u001b[0m\u001b[1;33m)\u001b[0m\u001b[1;33m.\u001b[0m\u001b[0mdoit\u001b[0m\u001b[1;33m(\u001b[0m\u001b[1;33m**\u001b[0m\u001b[0mhints\u001b[0m\u001b[1;33m)\u001b[0m\u001b[1;33m\u001b[0m\u001b[0m\n\u001b[0m\u001b[0;32m   1272\u001b[0m \u001b[1;33m\u001b[0m\u001b[0m\n\u001b[0;32m   1273\u001b[0m \u001b[1;33m\u001b[0m\u001b[0m\n",
      "\u001b[1;32m~\\Anaconda3\\lib\\site-packages\\sympy\\integrals\\transforms.py\u001b[0m in \u001b[0;36mdoit\u001b[1;34m(self, **hints)\u001b[0m\n\u001b[0;32m    115\u001b[0m             \u001b[1;32mtry\u001b[0m\u001b[1;33m:\u001b[0m\u001b[1;33m\u001b[0m\u001b[0m\n\u001b[0;32m    116\u001b[0m                 return self._compute_transform(self.function,\n\u001b[1;32m--> 117\u001b[1;33m                     self.function_variable, self.transform_variable, **hints)\n\u001b[0m\u001b[0;32m    118\u001b[0m             \u001b[1;32mexcept\u001b[0m \u001b[0mIntegralTransformError\u001b[0m\u001b[1;33m:\u001b[0m\u001b[1;33m\u001b[0m\u001b[0m\n\u001b[0;32m    119\u001b[0m                 \u001b[1;32mpass\u001b[0m\u001b[1;33m\u001b[0m\u001b[0m\n",
      "\u001b[1;32m~\\Anaconda3\\lib\\site-packages\\sympy\\integrals\\transforms.py\u001b[0m in \u001b[0;36m_compute_transform\u001b[1;34m(self, F, s, t, **hints)\u001b[0m\n\u001b[0;32m   1221\u001b[0m \u001b[1;33m\u001b[0m\u001b[0m\n\u001b[0;32m   1222\u001b[0m     \u001b[1;32mdef\u001b[0m \u001b[0m_compute_transform\u001b[0m\u001b[1;33m(\u001b[0m\u001b[0mself\u001b[0m\u001b[1;33m,\u001b[0m \u001b[0mF\u001b[0m\u001b[1;33m,\u001b[0m \u001b[0ms\u001b[0m\u001b[1;33m,\u001b[0m \u001b[0mt\u001b[0m\u001b[1;33m,\u001b[0m \u001b[1;33m**\u001b[0m\u001b[0mhints\u001b[0m\u001b[1;33m)\u001b[0m\u001b[1;33m:\u001b[0m\u001b[1;33m\u001b[0m\u001b[0m\n\u001b[1;32m-> 1223\u001b[1;33m         \u001b[1;32mreturn\u001b[0m \u001b[0m_inverse_laplace_transform\u001b[0m\u001b[1;33m(\u001b[0m\u001b[0mF\u001b[0m\u001b[1;33m,\u001b[0m \u001b[0ms\u001b[0m\u001b[1;33m,\u001b[0m \u001b[0mt\u001b[0m\u001b[1;33m,\u001b[0m \u001b[0mself\u001b[0m\u001b[1;33m.\u001b[0m\u001b[0mfundamental_plane\u001b[0m\u001b[1;33m,\u001b[0m \u001b[1;33m**\u001b[0m\u001b[0mhints\u001b[0m\u001b[1;33m)\u001b[0m\u001b[1;33m\u001b[0m\u001b[0m\n\u001b[0m\u001b[0;32m   1224\u001b[0m \u001b[1;33m\u001b[0m\u001b[0m\n\u001b[0;32m   1225\u001b[0m     \u001b[1;32mdef\u001b[0m \u001b[0m_as_integral\u001b[0m\u001b[1;33m(\u001b[0m\u001b[0mself\u001b[0m\u001b[1;33m,\u001b[0m \u001b[0mF\u001b[0m\u001b[1;33m,\u001b[0m \u001b[0ms\u001b[0m\u001b[1;33m,\u001b[0m \u001b[0mt\u001b[0m\u001b[1;33m)\u001b[0m\u001b[1;33m:\u001b[0m\u001b[1;33m\u001b[0m\u001b[0m\n",
      "\u001b[1;32m~\\Anaconda3\\lib\\site-packages\\sympy\\integrals\\transforms.py\u001b[0m in \u001b[0;36mwrapper\u001b[1;34m(*args, **kwargs)\u001b[0m\n\u001b[0;32m    193\u001b[0m         \u001b[1;32mdef\u001b[0m \u001b[0mwrapper\u001b[0m\u001b[1;33m(\u001b[0m\u001b[1;33m*\u001b[0m\u001b[0margs\u001b[0m\u001b[1;33m,\u001b[0m \u001b[1;33m**\u001b[0m\u001b[0mkwargs\u001b[0m\u001b[1;33m)\u001b[0m\u001b[1;33m:\u001b[0m\u001b[1;33m\u001b[0m\u001b[0m\n\u001b[0;32m    194\u001b[0m             \u001b[0mnoconds\u001b[0m \u001b[1;33m=\u001b[0m \u001b[0mkwargs\u001b[0m\u001b[1;33m.\u001b[0m\u001b[0mpop\u001b[0m\u001b[1;33m(\u001b[0m\u001b[1;34m'noconds'\u001b[0m\u001b[1;33m,\u001b[0m \u001b[0mdefault\u001b[0m\u001b[1;33m)\u001b[0m\u001b[1;33m\u001b[0m\u001b[0m\n\u001b[1;32m--> 195\u001b[1;33m             \u001b[0mres\u001b[0m \u001b[1;33m=\u001b[0m \u001b[0mfunc\u001b[0m\u001b[1;33m(\u001b[0m\u001b[1;33m*\u001b[0m\u001b[0margs\u001b[0m\u001b[1;33m,\u001b[0m \u001b[1;33m**\u001b[0m\u001b[0mkwargs\u001b[0m\u001b[1;33m)\u001b[0m\u001b[1;33m\u001b[0m\u001b[0m\n\u001b[0m\u001b[0;32m    196\u001b[0m             \u001b[1;32mif\u001b[0m \u001b[0mnoconds\u001b[0m\u001b[1;33m:\u001b[0m\u001b[1;33m\u001b[0m\u001b[0m\n\u001b[0;32m    197\u001b[0m                 \u001b[1;32mreturn\u001b[0m \u001b[0mres\u001b[0m\u001b[1;33m[\u001b[0m\u001b[1;36m0\u001b[0m\u001b[1;33m]\u001b[0m\u001b[1;33m\u001b[0m\u001b[0m\n",
      "\u001b[1;32m~\\Anaconda3\\lib\\site-packages\\sympy\\integrals\\transforms.py\u001b[0m in \u001b[0;36m_inverse_laplace_transform\u001b[1;34m(F, s, t_, plane, simplify)\u001b[0m\n\u001b[0;32m   1148\u001b[0m     \u001b[1;32mtry\u001b[0m\u001b[1;33m:\u001b[0m\u001b[1;33m\u001b[0m\u001b[0m\n\u001b[0;32m   1149\u001b[0m         f, cond = inverse_mellin_transform(F, s, exp(-t), (None, oo),\n\u001b[1;32m-> 1150\u001b[1;33m                                            needeval=True, noconds=False)\n\u001b[0m\u001b[0;32m   1151\u001b[0m     \u001b[1;32mexcept\u001b[0m \u001b[0mIntegralTransformError\u001b[0m\u001b[1;33m:\u001b[0m\u001b[1;33m\u001b[0m\u001b[0m\n\u001b[0;32m   1152\u001b[0m         \u001b[0mf\u001b[0m \u001b[1;33m=\u001b[0m \u001b[1;32mNone\u001b[0m\u001b[1;33m\u001b[0m\u001b[0m\n",
      "\u001b[1;32m~\\Anaconda3\\lib\\site-packages\\sympy\\integrals\\transforms.py\u001b[0m in \u001b[0;36minverse_mellin_transform\u001b[1;34m(F, s, x, strip, **hints)\u001b[0m\n\u001b[0;32m    861\u001b[0m     \u001b[0mhankel_transform\u001b[0m\u001b[1;33m,\u001b[0m \u001b[0minverse_hankel_transform\u001b[0m\u001b[1;33m\u001b[0m\u001b[0m\n\u001b[0;32m    862\u001b[0m     \"\"\"\n\u001b[1;32m--> 863\u001b[1;33m     \u001b[1;32mreturn\u001b[0m \u001b[0mInverseMellinTransform\u001b[0m\u001b[1;33m(\u001b[0m\u001b[0mF\u001b[0m\u001b[1;33m,\u001b[0m \u001b[0ms\u001b[0m\u001b[1;33m,\u001b[0m \u001b[0mx\u001b[0m\u001b[1;33m,\u001b[0m \u001b[0mstrip\u001b[0m\u001b[1;33m[\u001b[0m\u001b[1;36m0\u001b[0m\u001b[1;33m]\u001b[0m\u001b[1;33m,\u001b[0m \u001b[0mstrip\u001b[0m\u001b[1;33m[\u001b[0m\u001b[1;36m1\u001b[0m\u001b[1;33m]\u001b[0m\u001b[1;33m)\u001b[0m\u001b[1;33m.\u001b[0m\u001b[0mdoit\u001b[0m\u001b[1;33m(\u001b[0m\u001b[1;33m**\u001b[0m\u001b[0mhints\u001b[0m\u001b[1;33m)\u001b[0m\u001b[1;33m\u001b[0m\u001b[0m\n\u001b[0m\u001b[0;32m    864\u001b[0m \u001b[1;33m\u001b[0m\u001b[0m\n\u001b[0;32m    865\u001b[0m \u001b[1;33m\u001b[0m\u001b[0m\n",
      "\u001b[1;32m~\\Anaconda3\\lib\\site-packages\\sympy\\integrals\\transforms.py\u001b[0m in \u001b[0;36mdoit\u001b[1;34m(self, **hints)\u001b[0m\n\u001b[0;32m    115\u001b[0m             \u001b[1;32mtry\u001b[0m\u001b[1;33m:\u001b[0m\u001b[1;33m\u001b[0m\u001b[0m\n\u001b[0;32m    116\u001b[0m                 return self._compute_transform(self.function,\n\u001b[1;32m--> 117\u001b[1;33m                     self.function_variable, self.transform_variable, **hints)\n\u001b[0m\u001b[0;32m    118\u001b[0m             \u001b[1;32mexcept\u001b[0m \u001b[0mIntegralTransformError\u001b[0m\u001b[1;33m:\u001b[0m\u001b[1;33m\u001b[0m\u001b[0m\n\u001b[0;32m    119\u001b[0m                 \u001b[1;32mpass\u001b[0m\u001b[1;33m\u001b[0m\u001b[0m\n",
      "\u001b[1;32m~\\Anaconda3\\lib\\site-packages\\sympy\\integrals\\transforms.py\u001b[0m in \u001b[0;36m_compute_transform\u001b[1;34m(self, F, s, x, **hints)\u001b[0m\n\u001b[0;32m    805\u001b[0m                                      'Component %s not recognised.' % f)\n\u001b[0;32m    806\u001b[0m         \u001b[0mstrip\u001b[0m \u001b[1;33m=\u001b[0m \u001b[0mself\u001b[0m\u001b[1;33m.\u001b[0m\u001b[0mfundamental_strip\u001b[0m\u001b[1;33m\u001b[0m\u001b[0m\n\u001b[1;32m--> 807\u001b[1;33m         \u001b[1;32mreturn\u001b[0m \u001b[0m_inverse_mellin_transform\u001b[0m\u001b[1;33m(\u001b[0m\u001b[0mF\u001b[0m\u001b[1;33m,\u001b[0m \u001b[0ms\u001b[0m\u001b[1;33m,\u001b[0m \u001b[0mx\u001b[0m\u001b[1;33m,\u001b[0m \u001b[0mstrip\u001b[0m\u001b[1;33m,\u001b[0m \u001b[1;33m**\u001b[0m\u001b[0mhints\u001b[0m\u001b[1;33m)\u001b[0m\u001b[1;33m\u001b[0m\u001b[0m\n\u001b[0m\u001b[0;32m    808\u001b[0m \u001b[1;33m\u001b[0m\u001b[0m\n\u001b[0;32m    809\u001b[0m     \u001b[1;32mdef\u001b[0m \u001b[0m_as_integral\u001b[0m\u001b[1;33m(\u001b[0m\u001b[0mself\u001b[0m\u001b[1;33m,\u001b[0m \u001b[0mF\u001b[0m\u001b[1;33m,\u001b[0m \u001b[0ms\u001b[0m\u001b[1;33m,\u001b[0m \u001b[0mx\u001b[0m\u001b[1;33m)\u001b[0m\u001b[1;33m:\u001b[0m\u001b[1;33m\u001b[0m\u001b[0m\n",
      "\u001b[1;32m~\\Anaconda3\\lib\\site-packages\\sympy\\integrals\\transforms.py\u001b[0m in \u001b[0;36mwrapper\u001b[1;34m(*args, **kwargs)\u001b[0m\n\u001b[0;32m    193\u001b[0m         \u001b[1;32mdef\u001b[0m \u001b[0mwrapper\u001b[0m\u001b[1;33m(\u001b[0m\u001b[1;33m*\u001b[0m\u001b[0margs\u001b[0m\u001b[1;33m,\u001b[0m \u001b[1;33m**\u001b[0m\u001b[0mkwargs\u001b[0m\u001b[1;33m)\u001b[0m\u001b[1;33m:\u001b[0m\u001b[1;33m\u001b[0m\u001b[0m\n\u001b[0;32m    194\u001b[0m             \u001b[0mnoconds\u001b[0m \u001b[1;33m=\u001b[0m \u001b[0mkwargs\u001b[0m\u001b[1;33m.\u001b[0m\u001b[0mpop\u001b[0m\u001b[1;33m(\u001b[0m\u001b[1;34m'noconds'\u001b[0m\u001b[1;33m,\u001b[0m \u001b[0mdefault\u001b[0m\u001b[1;33m)\u001b[0m\u001b[1;33m\u001b[0m\u001b[0m\n\u001b[1;32m--> 195\u001b[1;33m             \u001b[0mres\u001b[0m \u001b[1;33m=\u001b[0m \u001b[0mfunc\u001b[0m\u001b[1;33m(\u001b[0m\u001b[1;33m*\u001b[0m\u001b[0margs\u001b[0m\u001b[1;33m,\u001b[0m \u001b[1;33m**\u001b[0m\u001b[0mkwargs\u001b[0m\u001b[1;33m)\u001b[0m\u001b[1;33m\u001b[0m\u001b[0m\n\u001b[0m\u001b[0;32m    196\u001b[0m             \u001b[1;32mif\u001b[0m \u001b[0mnoconds\u001b[0m\u001b[1;33m:\u001b[0m\u001b[1;33m\u001b[0m\u001b[0m\n\u001b[0;32m    197\u001b[0m                 \u001b[1;32mreturn\u001b[0m \u001b[0mres\u001b[0m\u001b[1;33m[\u001b[0m\u001b[1;36m0\u001b[0m\u001b[1;33m]\u001b[0m\u001b[1;33m\u001b[0m\u001b[0m\n",
      "\u001b[1;32m~\\Anaconda3\\lib\\site-packages\\sympy\\integrals\\transforms.py\u001b[0m in \u001b[0;36m_inverse_mellin_transform\u001b[1;34m(F, s, x_, strip, as_meijerg)\u001b[0m\n\u001b[0;32m    724\u001b[0m \u001b[1;33m\u001b[0m\u001b[0m\n\u001b[0;32m    725\u001b[0m         \u001b[1;32mtry\u001b[0m\u001b[1;33m:\u001b[0m\u001b[1;33m\u001b[0m\u001b[0m\n\u001b[1;32m--> 726\u001b[1;33m             \u001b[0ma\u001b[0m\u001b[1;33m,\u001b[0m \u001b[0mb\u001b[0m\u001b[1;33m,\u001b[0m \u001b[0mC\u001b[0m\u001b[1;33m,\u001b[0m \u001b[0me\u001b[0m\u001b[1;33m,\u001b[0m \u001b[0mfac\u001b[0m \u001b[1;33m=\u001b[0m \u001b[0m_rewrite_gamma\u001b[0m\u001b[1;33m(\u001b[0m\u001b[0mg\u001b[0m\u001b[1;33m,\u001b[0m \u001b[0ms\u001b[0m\u001b[1;33m,\u001b[0m \u001b[0mstrip\u001b[0m\u001b[1;33m[\u001b[0m\u001b[1;36m0\u001b[0m\u001b[1;33m]\u001b[0m\u001b[1;33m,\u001b[0m \u001b[0mstrip\u001b[0m\u001b[1;33m[\u001b[0m\u001b[1;36m1\u001b[0m\u001b[1;33m]\u001b[0m\u001b[1;33m)\u001b[0m\u001b[1;33m\u001b[0m\u001b[0m\n\u001b[0m\u001b[0;32m    727\u001b[0m         \u001b[1;32mexcept\u001b[0m \u001b[0mIntegralTransformError\u001b[0m\u001b[1;33m:\u001b[0m\u001b[1;33m\u001b[0m\u001b[0m\n\u001b[0;32m    728\u001b[0m             \u001b[1;32mcontinue\u001b[0m\u001b[1;33m\u001b[0m\u001b[0m\n",
      "\u001b[1;32m~\\Anaconda3\\lib\\site-packages\\sympy\\integrals\\transforms.py\u001b[0m in \u001b[0;36m_rewrite_gamma\u001b[1;34m(f, s, a, b)\u001b[0m\n\u001b[0;32m    605\u001b[0m                 \u001b[0mrs\u001b[0m \u001b[1;33m=\u001b[0m \u001b[0mroots\u001b[0m\u001b[1;33m(\u001b[0m\u001b[0mp\u001b[0m\u001b[1;33m,\u001b[0m \u001b[0ms\u001b[0m\u001b[1;33m)\u001b[0m\u001b[1;33m\u001b[0m\u001b[0m\n\u001b[0;32m    606\u001b[0m                 \u001b[1;32mif\u001b[0m \u001b[0mlen\u001b[0m\u001b[1;33m(\u001b[0m\u001b[0mrs\u001b[0m\u001b[1;33m)\u001b[0m \u001b[1;33m!=\u001b[0m \u001b[0mp\u001b[0m\u001b[1;33m.\u001b[0m\u001b[0mdegree\u001b[0m\u001b[1;33m(\u001b[0m\u001b[1;33m)\u001b[0m\u001b[1;33m:\u001b[0m\u001b[1;33m\u001b[0m\u001b[0m\n\u001b[1;32m--> 607\u001b[1;33m                     \u001b[0mrs\u001b[0m \u001b[1;33m=\u001b[0m \u001b[0mCRootOf\u001b[0m\u001b[1;33m.\u001b[0m\u001b[0mall_roots\u001b[0m\u001b[1;33m(\u001b[0m\u001b[0mp\u001b[0m\u001b[1;33m)\u001b[0m\u001b[1;33m\u001b[0m\u001b[0m\n\u001b[0m\u001b[0;32m    608\u001b[0m                 \u001b[0mufacs\u001b[0m \u001b[1;33m+=\u001b[0m \u001b[1;33m[\u001b[0m\u001b[0mcoeff\u001b[0m\u001b[1;33m]\u001b[0m\u001b[1;33m\u001b[0m\u001b[0m\n\u001b[0;32m    609\u001b[0m                 \u001b[0margs\u001b[0m \u001b[1;33m+=\u001b[0m \u001b[1;33m[\u001b[0m\u001b[1;33m(\u001b[0m\u001b[0ms\u001b[0m \u001b[1;33m-\u001b[0m \u001b[0mc\u001b[0m\u001b[1;33m,\u001b[0m \u001b[0mis_numer\u001b[0m\u001b[1;33m)\u001b[0m \u001b[1;32mfor\u001b[0m \u001b[0mc\u001b[0m \u001b[1;32min\u001b[0m \u001b[0mrs\u001b[0m\u001b[1;33m]\u001b[0m\u001b[1;33m\u001b[0m\u001b[0m\n",
      "\u001b[1;32m~\\Anaconda3\\lib\\site-packages\\sympy\\polys\\rootoftools.py\u001b[0m in \u001b[0;36mall_roots\u001b[1;34m(cls, poly, radicals)\u001b[0m\n\u001b[0;32m    199\u001b[0m     \u001b[1;32mdef\u001b[0m \u001b[0mall_roots\u001b[0m\u001b[1;33m(\u001b[0m\u001b[0mcls\u001b[0m\u001b[1;33m,\u001b[0m \u001b[0mpoly\u001b[0m\u001b[1;33m,\u001b[0m \u001b[0mradicals\u001b[0m\u001b[1;33m=\u001b[0m\u001b[1;32mTrue\u001b[0m\u001b[1;33m)\u001b[0m\u001b[1;33m:\u001b[0m\u001b[1;33m\u001b[0m\u001b[0m\n\u001b[0;32m    200\u001b[0m         \u001b[1;34m\"\"\"Get real and complex roots of a polynomial. \"\"\"\u001b[0m\u001b[1;33m\u001b[0m\u001b[0m\n\u001b[1;32m--> 201\u001b[1;33m         \u001b[1;32mreturn\u001b[0m \u001b[0mcls\u001b[0m\u001b[1;33m.\u001b[0m\u001b[0m_get_roots\u001b[0m\u001b[1;33m(\u001b[0m\u001b[1;34m\"_all_roots\"\u001b[0m\u001b[1;33m,\u001b[0m \u001b[0mpoly\u001b[0m\u001b[1;33m,\u001b[0m \u001b[0mradicals\u001b[0m\u001b[1;33m)\u001b[0m\u001b[1;33m\u001b[0m\u001b[0m\n\u001b[0m\u001b[0;32m    202\u001b[0m \u001b[1;33m\u001b[0m\u001b[0m\n\u001b[0;32m    203\u001b[0m     \u001b[1;33m@\u001b[0m\u001b[0mclassmethod\u001b[0m\u001b[1;33m\u001b[0m\u001b[0m\n",
      "\u001b[1;32m~\\Anaconda3\\lib\\site-packages\\sympy\\polys\\rootoftools.py\u001b[0m in \u001b[0;36m_get_roots\u001b[1;34m(cls, method, poly, radicals)\u001b[0m\n\u001b[0;32m    565\u001b[0m             \u001b[1;32mraise\u001b[0m \u001b[0mPolynomialError\u001b[0m\u001b[1;33m(\u001b[0m\u001b[1;34m\"only univariate polynomials are allowed\"\u001b[0m\u001b[1;33m)\u001b[0m\u001b[1;33m\u001b[0m\u001b[0m\n\u001b[0;32m    566\u001b[0m \u001b[1;33m\u001b[0m\u001b[0m\n\u001b[1;32m--> 567\u001b[1;33m         \u001b[0mcoeff\u001b[0m\u001b[1;33m,\u001b[0m \u001b[0mpoly\u001b[0m \u001b[1;33m=\u001b[0m \u001b[0mcls\u001b[0m\u001b[1;33m.\u001b[0m\u001b[0m_preprocess_roots\u001b[0m\u001b[1;33m(\u001b[0m\u001b[0mpoly\u001b[0m\u001b[1;33m)\u001b[0m\u001b[1;33m\u001b[0m\u001b[0m\n\u001b[0m\u001b[0;32m    568\u001b[0m         \u001b[0mroots\u001b[0m \u001b[1;33m=\u001b[0m \u001b[1;33m[\u001b[0m\u001b[1;33m]\u001b[0m\u001b[1;33m\u001b[0m\u001b[0m\n\u001b[0;32m    569\u001b[0m \u001b[1;33m\u001b[0m\u001b[0m\n",
      "\u001b[1;32m~\\Anaconda3\\lib\\site-packages\\sympy\\polys\\rootoftools.py\u001b[0m in \u001b[0;36m_preprocess_roots\u001b[1;34m(cls, poly)\u001b[0m\n\u001b[0;32m    544\u001b[0m         \u001b[1;32mif\u001b[0m \u001b[1;32mnot\u001b[0m \u001b[0mdom\u001b[0m\u001b[1;33m.\u001b[0m\u001b[0mis_ZZ\u001b[0m\u001b[1;33m:\u001b[0m\u001b[1;33m\u001b[0m\u001b[0m\n\u001b[0;32m    545\u001b[0m             raise NotImplementedError(\n\u001b[1;32m--> 546\u001b[1;33m                 \"sorted roots not supported over %s\" % dom)\n\u001b[0m\u001b[0;32m    547\u001b[0m \u001b[1;33m\u001b[0m\u001b[0m\n\u001b[0;32m    548\u001b[0m         \u001b[1;32mreturn\u001b[0m \u001b[0mcoeff\u001b[0m\u001b[1;33m,\u001b[0m \u001b[0mpoly\u001b[0m\u001b[1;33m\u001b[0m\u001b[0m\n",
      "\u001b[1;31mNotImplementedError\u001b[0m: sorted roots not supported over EX"
     ]
    }
   ],
   "source": [
    "y4 = inverse_laplace_transform(Y4, s, t)\n",
    "y4"
   ]
  },
  {
   "cell_type": "markdown",
   "metadata": {},
   "source": [
    "## I can just find the transfer function and the time-domain function of each question, but I don't know how to draw the simulation graph, assuming it means graph in time domain. As shown above, the way I tried and the code given in lecture didn't work out. "
   ]
  },
  {
   "cell_type": "code",
   "execution_count": null,
   "metadata": {},
   "outputs": [],
   "source": []
  }
 ],
 "metadata": {
  "colab": {
   "name": "“ece447_hw5.ipynb”的副本",
   "provenance": [
    {
     "file_id": "https://github.com/klavins/ECE447/blob/master/assignments/ece447_hw5.ipynb",
     "timestamp": 1556818985372
    }
   ],
   "version": "0.3.2"
  },
  "kernelspec": {
   "display_name": "Python 3",
   "language": "python",
   "name": "python3"
  },
  "language_info": {
   "codemirror_mode": {
    "name": "ipython",
    "version": 3
   },
   "file_extension": ".py",
   "mimetype": "text/x-python",
   "name": "python",
   "nbconvert_exporter": "python",
   "pygments_lexer": "ipython3",
   "version": "3.7.0"
  }
 },
 "nbformat": 4,
 "nbformat_minor": 1
}
