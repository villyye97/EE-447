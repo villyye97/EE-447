{
 "cells": [
  {
   "cell_type": "markdown",
   "metadata": {
    "colab_type": "text",
    "id": "swNJ0J-lPS2a"
   },
   "source": [
    "EE 447 Project : Yeqi Chen \n",
    "===\n",
    "\n",
    "Control of a predator-prey system\n",
    "\n",
    "**<span style=\"color: darkgreen\">Due Friday June 14 at 11:59pm</span>**\n"
   ]
  },
  {
   "cell_type": "code",
   "execution_count": 134,
   "metadata": {},
   "outputs": [
    {
     "ename": "ModuleNotFoundError",
     "evalue": "No module named 'JSAnimation'",
     "output_type": "error",
     "traceback": [
      "\u001b[1;31m---------------------------------------------------------------------------\u001b[0m",
      "\u001b[1;31mModuleNotFoundError\u001b[0m                       Traceback (most recent call last)",
      "\u001b[1;32m<ipython-input-134-9205dd3a8763>\u001b[0m in \u001b[0;36m<module>\u001b[1;34m()\u001b[0m\n\u001b[0;32m     12\u001b[0m \u001b[1;32mfrom\u001b[0m \u001b[0msympy\u001b[0m \u001b[1;32mimport\u001b[0m \u001b[1;33m*\u001b[0m\u001b[1;33m\u001b[0m\u001b[0m\n\u001b[0;32m     13\u001b[0m \u001b[1;32mfrom\u001b[0m \u001b[0mmatplotlib\u001b[0m \u001b[1;32mimport\u001b[0m \u001b[0manimation\u001b[0m\u001b[1;33m\u001b[0m\u001b[0m\n\u001b[1;32m---> 14\u001b[1;33m \u001b[1;32mfrom\u001b[0m \u001b[0mJSAnimation\u001b[0m\u001b[1;33m.\u001b[0m\u001b[0mIPython_display\u001b[0m \u001b[1;32mimport\u001b[0m \u001b[0mdisplay_animation\u001b[0m\u001b[1;33m\u001b[0m\u001b[0m\n\u001b[0m\u001b[0;32m     15\u001b[0m \u001b[1;32mfrom\u001b[0m \u001b[0mcontrol\u001b[0m \u001b[1;32mimport\u001b[0m \u001b[1;33m*\u001b[0m\u001b[1;33m\u001b[0m\u001b[0m\n\u001b[0;32m     16\u001b[0m \u001b[1;33m\u001b[0m\u001b[0m\n",
      "\u001b[1;31mModuleNotFoundError\u001b[0m: No module named 'JSAnimation'"
     ]
    }
   ],
   "source": [
    "import numpy as np\n",
    "import scipy.integrate as spi\n",
    "import matplotlib.pyplot as plt\n",
    "from sympy import *\n",
    "from control import *\n",
    "from IPython.display import display, Markdown\n",
    "import numpy as np\n",
    "import scipy.integrate as spi\n",
    "import scipy.linalg as spl\n",
    "import matplotlib.pyplot as plt\n",
    "import matplotlib.patches as patches\n",
    "from sympy import *\n",
    "from matplotlib import animation\n",
    "from JSAnimation.IPython_display import display_animation\n",
    "from control import * \n",
    "\n",
    "%matplotlib inline\n",
    "\n",
    "# Comment out in Google colab \n",
    "init_printing(use_latex='mathjax')\n",
    "\n",
    "# Uncomment in below Google colab to render sympy equations nicely\n",
    "# def custom_latex_printer(exp,**options):\n",
    "#     from google.colab.output._publish import javascript\n",
    "#     url = \"https://cdnjs.cloudflare.com/ajax/libs/mathjax/2.7.3/latest.js?config=default\"\n",
    "#     javascript(url=url)\n",
    "#     return printing.latex(exp,**options)\n",
    "# init_printing(use_latex=\"mathjax\",latex_printer=custom_latex_printer)\n",
    "\n",
    "def center(plt):\n",
    "    plt.gca().spines['left'].set_position('center')\n",
    "    plt.gca().spines['bottom'].set_position('center')\n",
    "    plt.gca().spines['right'].set_color('none')\n",
    "    plt.gca().spines['top'].set_color('none')\n",
    "    plt.gca().set_aspect('equal') \n",
    "    \n",
    "def poles(plt,poles):\n",
    "    center(plt)\n",
    "    for p in poles:\n",
    "        plt.plot([p[0]-0.1,p[0]+0.1],[p[1]-0.1,p[1]+0.1],'black')\n",
    "        plt.plot([p[0]-0.1,p[0]+0.1],[p[1]+0.1,p[1]-0.1],'black')   \n",
    "        plt.xlabel(\"Im\", labelpad=100)\n",
    "        plt.ylabel(\"Re\", labelpad=140)       \n",
    "def MatrixFromColumns(clist):\n",
    "    return Matrix(clist).reshape(\n",
    "        clist[0].shape[0], \n",
    "        len(clist)).transpose()"
   ]
  },
  {
   "cell_type": "markdown",
   "metadata": {
    "colab_type": "text",
    "id": "uc0tpsEvPS2e"
   },
   "source": [
    "# Intoduction\n",
    "\n",
    "In this project I'm going to control system consisting of a chemostat\n",
    "of well-mixed nutrients and two types of microscopic organisms: algae\n",
    "and rotifers.  The concentration of nutrients in the system as a function of time is\n",
    "$n(t)$ micromoles per microliter. The concentrations of algae and\n",
    "rotifers in the system are $a(t)$ and $b(t)$ cells per microliter\n",
    "respectively. The control input is the rate $u(t)$ at which nutrients\n",
    "are added to the system. The output $y(t)$ of the system is the\n",
    "concentration $b(t)$ of predator cells in the system. The rotifers\n",
    "have been genetically engineered to express a protein called green\n",
    "fluorescent protein (GFP) (usually found in jellyfish), which\n",
    "can be measured continuously with a spectrofluorimeter.\n",
    "\n",
    "<img width=35% src=\"https://raw.githubusercontent.com/klavins/ECE447/master/images/chemostat.png\">\n",
    "\n",
    "A model of the dynamics of this system is as follows. Nutrients are\n",
    "added to the system at a rate $u$ and are digested by algae at a rate\n",
    "proportional to the concentration of nutrients times the concentration\n",
    "of algae. Symbolically,\n",
    "\n",
    "$$\n",
    "\\dot n = u - k_1 n a, \n",
    "$$\n",
    "\n",
    "where $k_1 > 0$ is the rate of digestion. Algae reproduce at a rate\n",
    "proportional to the rate of nutrient digestion. However, the algae are\n",
    "eaten by rotifers at rate proportional to the product of their\n",
    "concentrations. Also, the algae die at a certain rate as well. In\n",
    "symbols,\n",
    "\n",
    "$$\n",
    "\\dot a = k_1 \\alpha n a - k_2 a b - k_3 a,\n",
    "$$\n",
    "\n",
    "where $\\alpha > 0$, $k_2 > 0$ and $k_3 > 0$. Finally, the rotifers\n",
    "reproduce at a rate proportional to the rate ate which they eat algae,\n",
    "and they die because their genetic alterations make the nutrient\n",
    "poisonous to them.\n",
    "\n",
    "$$\n",
    "\\dot b = k_2 \\beta a b - k_4 n b.\n",
    "$$\n",
    "\n",
    "Finally, as was described above, the output is\n",
    "\n",
    "$$\n",
    "y = b.\n",
    "$$\n",
    "\n",
    "Suppose the parameters have been measured and found to be\n",
    "approximately\n",
    "\n",
    "\\begin{eqnarray*}\n",
    "k_1 & = & 0.5 \\\\\n",
    "k_2 & = & 0.7 \\\\\n",
    "k_3 & = & 0.5 \\\\\n",
    "k_4 & = & 0.9 \\\\\n",
    "\\alpha & = & 1.1 \\\\\n",
    "\\beta & = & 2.0 .\n",
    "\\end{eqnarray*}\n",
    "\n",
    "Note: all rates are measured in reactions per hour. "
   ]
  },
  {
   "cell_type": "markdown",
   "metadata": {
    "colab_type": "text",
    "id": "tilGN5imPS2f"
   },
   "source": [
    "# Task 1: Simulation"
   ]
  },
  {
   "cell_type": "markdown",
   "metadata": {},
   "source": [
    "Assume that the initial density of algae is 10, and the initial density of the rotifier is 0.5, initial nutrient value is 1 and u = 1."
   ]
  },
  {
   "cell_type": "code",
   "execution_count": 66,
   "metadata": {},
   "outputs": [],
   "source": [
    "def fdot(X,t,u):#setup the function \n",
    "    #u = 1;\n",
    "    n = X[0];\n",
    "    a = X[1];\n",
    "    b = X[2];\n",
    "    k1 = 0.5;\n",
    "    k2 = 0.7;\n",
    "    k3 = 0.5;\n",
    "    k4 = 0.9;\n",
    "    alpha = 1.1 ; \n",
    "    beta = 2.0;\n",
    "    return [u - k1*n*a,k1*alpha*n*a - k2*a*b - k3*a, k2*beta* a * b - k4 * n * b]"
   ]
  },
  {
   "cell_type": "code",
   "execution_count": 5,
   "metadata": {},
   "outputs": [
    {
     "data": {
      "text/plain": [
       "Text(0.5, 1.0, 'system equilibrium status over time ')"
      ]
     },
     "execution_count": 5,
     "metadata": {},
     "output_type": "execute_result"
    },
    {
     "data": {
      "image/png": "[encoded data removed]",
      "text/plain": [
       "<Figure size 432x288 with 1 Axes>"
      ]
     },
     "metadata": {
      "needs_background": "light"
     },
     "output_type": "display_data"
    }
   ],
   "source": [
    "init = [2,10,0.5]\n",
    "u = 1\n",
    "t = np.linspace(0,50,1000)\n",
    "df = lambda x,t: fdot(x,t,u)\n",
    "f = spi.odeint(df,init,t)\n",
    "plt.plot(t,f)\n",
    "plt.legend(['nutrient level','algae density','rotifier density'])\n",
    "plt.xlabel('time')\n",
    "plt.ylabel('density/intensity')\n",
    "plt.title('system equilibrium status over time ')"
   ]
  },
  {
   "cell_type": "markdown",
   "metadata": {},
   "source": [
    "As we can see in the graph, the concentration of three things are periodically twist together. "
   ]
  },
  {
   "cell_type": "markdown",
   "metadata": {
    "colab_type": "text",
    "id": "8bqhzfukPS2g"
   },
   "source": [
    "# Task 2: Performance Specification\n",
    "\n",
    "It turns out that the algae will evolve to defend themselves against\n",
    "the rotifers when the rotifer population is high. Thus, the goal is to stabilize the concentration of rotifers at 1.0 cells per microliter to prevent the rapid evolution\n",
    "of the algae. The rate at which the algae evolve is on the order of 5\n",
    "hours. Thus, the rotifer population should be stabilized within that\n",
    "time with the minimum overshoot possible.\n"
   ]
  },
  {
   "cell_type": "markdown",
   "metadata": {},
   "source": [
    "If it turns to mathmatical specification, it means that the percent overshoot should be ideally small, and the settling time should be less than 5 hours. "
   ]
  },
  {
   "cell_type": "markdown",
   "metadata": {
    "colab_type": "text",
    "id": "7MCQ7edbPS2h"
   },
   "source": [
    "# Task 3: Linearization\n",
    "\n",
    "In order to better control the system, I would o the linearization. \n",
    "Setting that b = 1 as a reference point and found  $n$, $a$ and $u$ are required to keep\n",
    "$b=b^*=1$. I Called these values $n^*$, $a^*$ and $u^*$. Then I used the error coordinates and the change of coordinate method to obtain the linearization around ${\\bf x}_e = {\\bf x} - {\\bf x}^*$. Linearize the model of \n",
    "\\begin{eqnarray*}\n",
    "\\dot {\\bf x}_e & = & A {\\bf x}_e + B u_e \\\\\n",
    "y_e & = & C {\\bf x}_e\n",
    "\\end{eqnarray*}\n",
    "\n",
    "where $y_e$ is the difference between the desired concentration of\n",
    "rotifer and the measured concentration. Also, I calculated the poles and transfer function of the system. "
   ]
  },
  {
   "cell_type": "markdown",
   "metadata": {},
   "source": [
    "The Jacobian Matrix: \n",
    "$$\n",
    "\\frac{\\partial f}{\\partial x} = \\left(\n",
    "\\begin{array}{ccc}\n",
    "  \\frac{\\partial f_1}{\\partial n} & \\frac{\\partial f_1}{\\partial a} & \\frac{\\partial f_1}{\\partial b} \\\\\n",
    "  \\frac{\\partial f_2}{\\partial a} & \\frac{\\partial f_2}{\\partial a} & \\frac{\\partial f_2}{\\partial b}\\\\\n",
    "  \\frac{\\partial f_3}{\\partial a} & \\frac{\\partial f_3}{\\partial a} & \\frac{\\partial f_3}{\\partial b} \n",
    "\\end{array}\n",
    "\\right )\n",
    "$$\n",
    "$$ = \\left(\n",
    "\\begin{array}{ccc}\n",
    "  \\frac{\\partial (u-0.5na)}{\\partial n} & \\frac{\\partial (u-0.5na)}{\\partial a} & \\frac{\\partial (u-0.5na)}{\\partial b} \\\\\n",
    "  \\frac{\\partial (0.55na-0.5ab-0.5a)}{\\partial n} & \\frac{\\partial (0.55na-0.5ab-0.5a)}{\\partial a} & \\frac{\\partial (0.55na-0.5ab-0.5a)}{\\partial b}\\\\\n",
    "  \\frac{\\partial (1.4ab-0.9bn)}{\\partial n} & \\frac{\\partial (1.4ab-0.9bn)}{\\partial a} & \\frac{\\partial (1.4ab-0.9bn)}{\\partial b} \n",
    "\\end{array}\n",
    "\\right )\n",
    "$$\n",
    "\n",
    "$$ = \\left(\n",
    "\\begin{array}{ccc}\n",
    "  -0.5a & -0.5n & 0 \\\\\n",
    "  0.55a & {-0.5b-0.5} & -0.5a\\\\\n",
    "  -0.9b & 1.4b & -0.9n  \n",
    "\\end{array}\n",
    "\\right )\n",
    "$$\n",
    "\n"
   ]
  },
  {
   "cell_type": "code",
   "execution_count": 6,
   "metadata": {
    "scrolled": true
   },
   "outputs": [
    {
     "data": {
      "text/latex": [
       "$$\\left [ 0.642857142857143 n\\right ]$$"
      ],
      "text/plain": [
       "[0.642857142857143⋅n]"
      ]
     },
     "execution_count": 6,
     "metadata": {},
     "output_type": "execute_result"
    }
   ],
   "source": [
    "#In following cells I solved the equation for a,b and u step by step. \n",
    "var('a,b,n,u,c')\n",
    "k1 = 0.5;\n",
    "k2 = 0.7;\n",
    "k3 = 0.5;\n",
    "k4 = 0.9;\n",
    "alpha = 1.1 ; \n",
    "beta = 2.0;\n",
    "b = 1;\n",
    "ndot = u - k1*n*a\n",
    "adot = k1*alpha*n*a - k2*a*b - k3*a\n",
    "bdot = k2*beta* a * b - k4 * n * b\n",
    "bdot = bdot.subs(b,1)\n",
    "a1 = solve(bdot,a)\n",
    "a1"
   ]
  },
  {
   "cell_type": "code",
   "execution_count": 7,
   "metadata": {},
   "outputs": [
    {
     "data": {
      "text/latex": [
       "$$0.3214285 n^{2}$$"
      ],
      "text/plain": [
       "           2\n",
       "0.3214285⋅n "
      ]
     },
     "execution_count": 7,
     "metadata": {},
     "output_type": "execute_result"
    }
   ],
   "source": [
    "ndot.subs(a,a1[0])\n",
    "u1 = solve(ndot,u)\n",
    "u1 = u1[0].subs(a,0.642857*n)\n",
    "u1"
   ]
  },
  {
   "cell_type": "code",
   "execution_count": 8,
   "metadata": {},
   "outputs": [
    {
     "data": {
      "text/latex": [
       "$$\\left [ 0.0, \\quad 2.18181818181818\\right ]$$"
      ],
      "text/plain": [
       "[0.0, 2.18181818181818]"
      ]
     },
     "execution_count": 8,
     "metadata": {},
     "output_type": "execute_result"
    }
   ],
   "source": [
    "adot = adot.subs(a,a1[0]).subs(u,u1)\n",
    "n1 = solve(adot, n)\n",
    "n1"
   ]
  },
  {
   "cell_type": "code",
   "execution_count": 9,
   "metadata": {},
   "outputs": [
    {
     "data": {
      "text/latex": [
       "$$1.53010591735537$$"
      ],
      "text/plain": [
       "1.53010591735537"
      ]
     },
     "execution_count": 9,
     "metadata": {},
     "output_type": "execute_result"
    }
   ],
   "source": [
    "u1 = u1.subs(n, n1[1])\n",
    "u1"
   ]
  },
  {
   "cell_type": "code",
   "execution_count": 10,
   "metadata": {},
   "outputs": [
    {
     "data": {
      "text/latex": [
       "$$1.4025974025974$$"
      ],
      "text/plain": [
       "1.40259740259740"
      ]
     },
     "execution_count": 10,
     "metadata": {},
     "output_type": "execute_result"
    }
   ],
   "source": [
    "a1 = a1[0].subs(n,n1[1])\n",
    "a1"
   ]
  },
  {
   "cell_type": "markdown",
   "metadata": {},
   "source": [
    "By solving the equations with the calculation we have $$a^* \\approx 1.4, u^* \\approx 1.53, n^* \\approx 2.18  \\\\ and b = 1.$$\n",
    "Plug in to the Jacobian Matrix we acquired above: \n",
    "$$ = \\left(\n",
    "\\begin{array}{ccc}\n",
    "  -0.5a & -0.5n & 0 \\\\\n",
    "  0.55a & {-0.5b-0.5} & -0.5a\\\\\n",
    "  -0.9b & 1.4b & -0.9n  \n",
    "\\end{array}\n",
    "\\right )\n",
    "$$\n",
    "$$ = \\left(\n",
    "\\begin{array}{ccc}\n",
    "  -0.7 & -1.09 & 0 \\\\\n",
    "  0.77 & -1 & -0.7\\\\\n",
    "  -0.9 & 1.4 & -1.96 \n",
    "\\end{array}\n",
    "\\right )\n",
    "$$\n",
    "\n",
    "So near 1 the system looks like \n",
    "$$\n",
    "\\left(\n",
    "\\begin{array}{c} \n",
    "\\dot a \\\\ \n",
    "\\dot n \\\\\n",
    "\\dot b\n",
    "\\end{array} \\right )\n",
    "\\approx\n",
    "\\left(\n",
    "\\begin{array}{cc}\n",
    "  -0.7 & -1.09 & 0 \\\\\n",
    "  0.77 & -1 & -0.7\\\\\n",
    "  -0.9 & 1.4 & -1.96 \n",
    "\\end{array}\n",
    "\\right)\n",
    "\\left (\n",
    "\\begin{array}{c} \n",
    "n\\\\ \n",
    "a\\\\\n",
    "b\n",
    "\\end{array} \\right )\n",
    "=\n",
    "\\left (\n",
    "\\begin{array}{c} \n",
    "{-0.7n-1.09a}\\\\ \n",
    "{0.77n-a-0.7b}\\\\\n",
    "{-0.9n+1.4a-1.96b}\n",
    "\\end{array} \\right )\n",
    "$$\n",
    "\n",
    "\n",
    "Then we use the change of the coordinate method: \n",
    "for the system we look the point at (n,a,b) = (2.18,1.4,1.0), so \n",
    "\n",
    "$$f\n",
    "\\left( \\begin{array}{ccc} \n",
    "n_e + 1.4 \\\\ \n",
    "a_e + 2.18 \\\\\n",
    "b_e + 1.0\n",
    "\\end{array} \\right ) = \n",
    "  \\left(\n",
    "\\begin{array}{ccc}\n",
    "  {-0.5(a_e + 2.18)} &{ -0.5(n_e + 1.4)} & 0 \\\\\n",
    " { 0.55(a_e + 2.18)} & {-0.5(b_e + 1.0)-0.5} & {-0.5(a_e + 2.18)}\\\\\n",
    "  {-0.9(b_e + 1.0)} & {1.4(b_e + 1.0)} & {-0.9(n_e + 1.4) } \n",
    "\\end{array}\n",
    "\\right )\n",
    "$$\n",
    "so when $n_e, a_e, b_e = 0$, the system looks like: \n",
    "$$\n",
    "\\left (\n",
    "\\begin{array}{ccc}\n",
    "  -1.14  &  -0.7 & 0 \\\\\n",
    " {1.2} & {-1.0 } & {-1.14}\\\\\n",
    "  {-0.9} & {1.4} & {-1.26 } \n",
    "\\end{array} \\right )\\left (\n",
    "\\begin{array}{c} \n",
    "n\\\\ \n",
    "a\\\\\n",
    "b\n",
    "\\end{array} \\right ) \n",
    "$$\n",
    "\n",
    "which is the A matrix. "
   ]
  },
  {
   "cell_type": "markdown",
   "metadata": {},
   "source": [
    "So the whole system looks like: \n",
    "$$\n",
    "\\left (\n",
    "\\begin{array}{ccc}\n",
    "  -1.14  &  -0.7 & 0 \\\\\n",
    " {1.2} & {-1.0 } & {-1.14}\\\\\n",
    "  {-0.9} & {1.4} & {-1.26 } \n",
    "\\end{array} \\right )\\left (\n",
    "\\begin{array}{c} \n",
    "n\\\\ \n",
    "a\\\\\n",
    "b\n",
    "\\end{array} \\right ) + \\left( \\begin{array}{c} 0\\\\0\\\\1\n",
    "\\end{array}\\right )u_e\n",
    "$$\n",
    "$$\n",
    "y_e = (0,0,1)x_e\n",
    "$$"
   ]
  },
  {
   "cell_type": "code",
   "execution_count": 11,
   "metadata": {},
   "outputs": [
    {
     "data": {
      "text/latex": [
       "$$\\left ( \\left[\\begin{matrix}\\frac{1.0 \\left(1.2 s^{2} + 2.568 s + 2.376\\right)}{1.2 s^{3} + 4.08 s^{2} + 7.52688 s + 6.038928}\\end{matrix}\\right], \\quad \\left [ -1.46366049201758, \\quad -0.96816975399121 - 1.58142457628872 i, \\quad -0.96816975399121 + 1.58142457628872 i\\right ]\\right )$$"
      ],
      "text/plain": [
       "⎛⎡         ⎛     2                  ⎞    ⎤                                    \n",
       "⎜⎢     1.0⋅⎝1.2⋅s  + 2.568⋅s + 2.376⎠    ⎥                                    \n",
       "⎜⎢───────────────────────────────────────⎥, [-1.46366049201758, -0.96816975399\n",
       "⎜⎢     3         2                       ⎥                                    \n",
       "⎝⎣1.2⋅s  + 4.08⋅s  + 7.52688⋅s + 6.038928⎦                                    \n",
       "\n",
       "                                                                 ⎞\n",
       "                                                                 ⎟\n",
       "121 - 1.58142457628872⋅ⅈ, -0.96816975399121 + 1.58142457628872⋅ⅈ]⎟\n",
       "                                                                 ⎟\n",
       "                                                                 ⎠"
      ]
     },
     "execution_count": 11,
     "metadata": {},
     "output_type": "execute_result"
    }
   ],
   "source": [
    "#SS to TF: \n",
    "var(\"s\")\n",
    "A = Matrix([[-1.14,-0.7,0],[1.2,-1.0,-1.14],[-0.9,1.4,-1.26]])\n",
    "B = Matrix([[0],[0],[1]])\n",
    "C = Matrix([[0,0,1]])\n",
    "Phi = (s*eye(3)-A).inv()\n",
    "T = C*Phi*B\n",
    "T.simplify()\n",
    "num,den = fraction(T[0])\n",
    "poles = solve(den,s)\n",
    "T,poles"
   ]
  },
  {
   "cell_type": "markdown",
   "metadata": {},
   "source": [
    "For this system we have three poles , two of which is complex conjugate pairs; since all the poles are on the left plane, the natural response is stable. "
   ]
  },
  {
   "cell_type": "markdown",
   "metadata": {
    "colab_type": "text",
    "id": "C_GjqINfPS2i"
   },
   "source": [
    "# Task 4: Root Locus Design\n",
    "\n",
    "In this step, I figured out the root locus for the system, and I found that doesn't meet  the requirements, so I designed a compensator to implement two new pairs of the root to the system, which meets the design specification in the task 2. "
   ]
  },
  {
   "cell_type": "code",
   "execution_count": 12,
   "metadata": {},
   "outputs": [
    {
     "data": {
      "image/png": "[encoded data removed]",
      "text/plain": [
       "<Figure size 432x288 with 1 Axes>"
      ]
     },
     "metadata": {
      "needs_background": "light"
     },
     "output_type": "display_data"
    }
   ],
   "source": [
    "#a)\n",
    "sys = tf([1.2,2.568,2.376],[1.2,4.08,7.52688,6.038928])\n",
    "plot = root_locus(sys)"
   ]
  },
  {
   "cell_type": "markdown",
   "metadata": {},
   "source": [
    "For the design specification we need to have the settling time less than 5 hours and the percent overshoot is resonablly small, say 10%.Also, since it's a reality problem, we won't risk to ruin the experiment, so let's set the settling time to be 4.5 hours. \n",
    "so we have the equation: $$\\zeta\\omega =4.5, \\\\\\frac{\\zeta\\pi}{\\beta} = -ln(0.1)$$\n",
    "where $\\beta = \\sqrt{1-\\zeta^2}$. \n",
    "As "
   ]
  },
  {
   "cell_type": "code",
   "execution_count": 13,
   "metadata": {},
   "outputs": [
    {
     "data": {
      "text/latex": [
       "$$\\left [ \\left \\{ \\omega : -7.61221632687785, \\quad \\zeta : -0.591155033798898\\right \\}\\right ]$$"
      ],
      "text/plain": [
       "[{ω: -7.61221632687785, ζ: -0.591155033798898}]"
      ]
     },
     "execution_count": 13,
     "metadata": {},
     "output_type": "execute_result"
    }
   ],
   "source": [
    "var(\"s,zeta,omega\")#Solving the equation \n",
    "sol = solve([zeta*omega-4.5,zeta*pi/sqrt(1-zeta**2)-log(0.1)])\n",
    "sol"
   ]
  },
  {
   "cell_type": "markdown",
   "metadata": {},
   "source": [
    "putting the value into the PID controller: $s^2+2\\zeta\\omega s + \\omega^2$: \n"
   ]
  },
  {
   "cell_type": "code",
   "execution_count": 14,
   "metadata": {},
   "outputs": [
    {
     "data": {
      "text/latex": [
       "$$\\left ( s^{2} + 9.0 s + 57.9458374071857, \\quad \\left [ -4.5 - 6.13969359228827 i, \\quad -4.5 + 6.13969359228827 i\\right ]\\right )$$"
      ],
      "text/plain": [
       "⎛ 2                                                                           \n",
       "⎝s  + 9.0⋅s + 57.9458374071857, [-4.5 - 6.13969359228827⋅ⅈ, -4.5 + 6.139693592\n",
       "\n",
       "        ⎞\n",
       "28827⋅ⅈ]⎠"
      ]
     },
     "execution_count": 14,
     "metadata": {},
     "output_type": "execute_result"
    }
   ],
   "source": [
    "deno = (s**2  + 2*zeta*omega*s + omega**2).subs(sol[0])\n",
    "zeros = solve(deno,s)\n",
    "deno,zeros"
   ]
  },
  {
   "cell_type": "markdown",
   "metadata": {},
   "source": [
    "The new values of the poles is what we add using the compensator. Since the root-locus already has two pairs of pole-zeros, we can add another two pairs to meet our design specs. "
   ]
  },
  {
   "cell_type": "code",
   "execution_count": 15,
   "metadata": {},
   "outputs": [
    {
     "data": {
      "text/latex": [
       "$$\\left ( \\frac{1}{s} \\left(s^{2} + 9.0 s + 57.9458374071857\\right), \\quad \\frac{1.0 \\left(1.2 s^{4} + 13.368 s^{3} + 95.0230048886228 s^{2} + 170.188910461653 s + 137.679309679473\\right)}{1.2 s^{4} + 4.08 s^{3} + 7.52688 s^{2} + 6.038928 s}\\right )$$"
      ],
      "text/plain": [
       "⎛ 2                                 ⎛     4           3                     2 \n",
       "⎜s  + 9.0⋅s + 57.9458374071857  1.0⋅⎝1.2⋅s  + 13.368⋅s  + 95.0230048886228⋅s  \n",
       "⎜─────────────────────────────, ──────────────────────────────────────────────\n",
       "⎜              s                                           4         3        \n",
       "⎝                                                     1.2⋅s  + 4.08⋅s  + 7.526\n",
       "\n",
       "                                       ⎞⎞\n",
       "+ 170.188910461653⋅s + 137.679309679473⎠⎟\n",
       "────────────────────────────────────────⎟\n",
       "    2                                   ⎟\n",
       "88⋅s  + 6.038928⋅s                      ⎠"
      ]
     },
     "execution_count": 15,
     "metadata": {},
     "output_type": "execute_result"
    }
   ],
   "source": [
    "Gc = deno/s\n",
    "G = num/den\n",
    "GcG = Gc*G\n",
    "Gc,GcG.cancel()\n",
    "# the compensator equation, and the total equation. "
   ]
  },
  {
   "cell_type": "code",
   "execution_count": 16,
   "metadata": {},
   "outputs": [
    {
     "data": {
      "image/png": "[encoded data removed]",
      "text/plain": [
       "<Figure size 432x288 with 1 Axes>"
      ]
     },
     "metadata": {
      "needs_background": "light"
     },
     "output_type": "display_data"
    }
   ],
   "source": [
    "sysnew = tf([1.2,13.368,95.023,170.19,137.68],[1.2,4.08,7.52688,6.038928,0])\n",
    "r,k = root_locus(sysnew)"
   ]
  },
  {
   "cell_type": "markdown",
   "metadata": {},
   "source": [
    "As we can see, by adding the compensator, we can have two extra zeros with the desired performance and another pole at 0 to pair all the poles and zeros up.\n",
    "***\n",
    "Besides, if we want the root-locus to be better-looking, we can actually add another two pair of poles that is closer to two new zeros, like below: "
   ]
  },
  {
   "cell_type": "code",
   "execution_count": 17,
   "metadata": {},
   "outputs": [
    {
     "data": {
      "text/latex": [
       "$$\\frac{1.0 \\left(1.2 s^{4} + 13.368 s^{3} + 95.0230048886228 s^{2} + 170.188910461653 s + 137.679309679473\\right)}{1.2 s^{5} + 14.88 s^{4} + 111.74688 s^{3} + 303.280848 s^{2} + 477.737352 s + 339.6897}$$"
      ],
      "text/plain": [
       "    ⎛     4           3                     2                                 \n",
       "1.0⋅⎝1.2⋅s  + 13.368⋅s  + 95.0230048886228⋅s  + 170.188910461653⋅s + 137.67930\n",
       "──────────────────────────────────────────────────────────────────────────────\n",
       "           5          4              3               2                        \n",
       "      1.2⋅s  + 14.88⋅s  + 111.74688⋅s  + 303.280848⋅s  + 477.737352⋅s + 339.68\n",
       "\n",
       "       ⎞\n",
       "9679473⎠\n",
       "────────\n",
       "        \n",
       "97      "
      ]
     },
     "execution_count": 17,
     "metadata": {},
     "output_type": "execute_result"
    }
   ],
   "source": [
    "# let new poles be at -4.5 +- 6i. so the denomenator = s^2+9s+56.25. \n",
    "Gc2 = deno/(s**2+9*s+56.25)\n",
    "Gc2G = Gc2*G\n",
    "Gc2G.cancel()"
   ]
  },
  {
   "cell_type": "code",
   "execution_count": 18,
   "metadata": {},
   "outputs": [
    {
     "data": {
      "image/png": "[encoded data removed]",
      "text/plain": [
       "<Figure size 432x288 with 1 Axes>"
      ]
     },
     "metadata": {
      "needs_background": "light"
     },
     "output_type": "display_data"
    }
   ],
   "source": [
    "sysnew2 = tf([1.2,13.368,95.023,170.19,137.68],[1.2,14.88,111.74688,303.28,477.73,339.69])\n",
    "r,k = root_locus(sysnew2,xlim = (-5,1))"
   ]
  },
  {
   "cell_type": "markdown",
   "metadata": {
    "colab_type": "text",
    "id": "EYJ6rRGsPS2j"
   },
   "source": [
    "# Task 5:  Disturbances and Noise\n",
    "\n",
    "a)In reality, the nutrient mix may be contaminated,\n",
    "resulting in its being less effective. Setting the contaminated nutrient be cn, where c represents the contamination factor that 0<c<1. I calculated the sensitivity of the output to the c. \n",
    "\n",
    "b) The spectrofluorimeter shines a light on the mixture and measures the\n",
    "resulting fluorescence at a different wavelength. Unfortunately, this\n",
    "bleaches the GFP in the system, so that the resulting output may not\n",
    "be $y=b$, but $y=\\gamma b$ where $0 < \\gamma < 1$. I talked about the sensitivity of the output to the $\\gamma$ factor. "
   ]
  },
  {
   "cell_type": "markdown",
   "metadata": {},
   "source": [
    "a. for the contamination problem, let's set a contaminate factor C, which represents the percentage of the effecctiveness of the nutrient, so 0<c<1. So let's replace n with C*n in the Differential equations and then find its Jacobian:\n",
    "$$ = \\left(\n",
    "\\begin{array}{ccc}\n",
    "  -0.5ac & -0.5cn & 0 \\\\\n",
    "  0.55ac & {-0.5b-0.5} & -0.5a\\\\\n",
    "  -0.9bc & 1.4b & -0.9cn  \n",
    "\\end{array}\n",
    "\\right )\n",
    "$$\n",
    "Plug in the value of calculation and the Change of coordinate method in procedure 1: "
   ]
  },
  {
   "cell_type": "code",
   "execution_count": 19,
   "metadata": {},
   "outputs": [
    {
     "data": {
      "text/latex": [
       "$$\\left ( 1.4025974025974, \\quad \\frac{2.18181818181818}{c}, \\quad \\frac{1.53010591735537}{c}\\right )$$"
      ],
      "text/plain": [
       "⎛                 2.18181818181818  1.53010591735537⎞\n",
       "⎜1.4025974025974, ────────────────, ────────────────⎟\n",
       "⎝                        c                 c        ⎠"
      ]
     },
     "execution_count": 19,
     "metadata": {},
     "output_type": "execute_result"
    }
   ],
   "source": [
    "ndotc = u - k1*c*n*a\n",
    "adotc = k1*alpha*c*n*a - k2*a*b - k3*a\n",
    "bdotc = k2*beta* a * b - k4 * c*n * b\n",
    "bdotc = bdotc.subs(b,1)\n",
    "a1 = solve(bdotc,a)\n",
    "ndot.subs(a,a1[0])\n",
    "u1 = solve(ndotc,u)\n",
    "u1 = u1[0].subs(a,0.642857*n)\n",
    "adotc = adotc.subs(a,a1[0]).subs(u,u1)\n",
    "n1 = solve(adotc, n)\n",
    "u1 = u1.subs(n, n1[1])\n",
    "a1 = a1[0].subs(n,n1[1])\n",
    "a1,n1[1],u1\n",
    "# solved the equations in task 1 again, taht regard C as an parameter. "
   ]
  },
  {
   "cell_type": "markdown",
   "metadata": {},
   "source": [
    "Plug in the values above: \n",
    "$$\n",
    "\\left (\n",
    "\\begin{array}{ccc}\n",
    "  -1.14c  &  -0.7 & 0 \\\\\n",
    " {1.2c} & {-1.0 } & {-1.14}\\\\\n",
    "  {-0.9c} & {1.4} & {-1.26 } \n",
    "\\end{array} \\right )\\left (\n",
    "\\begin{array}{c} \n",
    "n\\\\ \n",
    "a\\\\\n",
    "b\n",
    "\\end{array} \\right ) \n",
    "$$"
   ]
  },
  {
   "cell_type": "code",
   "execution_count": 67,
   "metadata": {},
   "outputs": [
    {
     "data": {
      "text/latex": [
       "$$\\left[\\begin{matrix}\\frac{\\left(0.84 c + \\left(1.14 c + s\\right) \\left(s + 1.0\\right)\\right) \\left(1.14 c + s\\right)}{- \\left(- 2.226 c - 1.4 s\\right) \\left(1.2996 c + 1.14 s\\right) + \\left(0.84 c + \\left(1.14 c + s\\right) \\left(s + 1.0\\right)\\right) \\left(1.14 c + s\\right) \\left(s + 1.26\\right)}\\end{matrix}\\right]$$"
      ],
      "text/plain": [
       "⎡                           (0.84⋅c + (1.14⋅c + s)⋅(s + 1.0))⋅(1.14⋅c + s)    \n",
       "⎢─────────────────────────────────────────────────────────────────────────────\n",
       "⎣-(-2.226⋅c - 1.4⋅s)⋅(1.2996⋅c + 1.14⋅s) + (0.84⋅c + (1.14⋅c + s)⋅(s + 1.0))⋅(\n",
       "\n",
       "                      ⎤\n",
       "──────────────────────⎥\n",
       "1.14⋅c + s)⋅(s + 1.26)⎦"
      ]
     },
     "execution_count": 67,
     "metadata": {},
     "output_type": "execute_result"
    }
   ],
   "source": [
    "#SS to TF\n",
    "var(\"s,c\")\n",
    "Ac = Matrix([[-1.14*c,-0.7,0],[1.2*c,-1.0,-1.14],[-0.9*c,1.4,-1.26]])\n",
    "Bc = Matrix([[0],[0],[1]])\n",
    "Cc = Matrix([[0,0,1]])\n",
    "Phi = (s*eye(3)-Ac).inv()\n",
    "T = Cc*Phi*Bc\n",
    "#num,den = fraction(T[0])\n",
    "#poles = solve(den,s)\n",
    "T"
   ]
  },
  {
   "cell_type": "code",
   "execution_count": 68,
   "metadata": {},
   "outputs": [
    {
     "data": {
      "text/latex": [
       "$$\\left[\\begin{matrix}\\frac{c}{\\left(0.84 c + \\left(1.14 c + s\\right) \\left(s + 1.0\\right)\\right) \\left(1.14 c + s\\right)} \\left(- \\left(- 2.226 c - 1.4 s\\right) \\left(1.2996 c + 1.14 s\\right) + \\left(0.84 c + \\left(1.14 c + s\\right) \\left(s + 1.0\\right)\\right) \\left(1.14 c + s\\right) \\left(s + 1.26\\right)\\right) \\left(\\frac{\\left(0.84 c + \\left(1.14 c + s\\right) \\left(s + 1.0\\right)\\right) \\left(1.14 c + s\\right) \\left(- 5.7858192 c - 4.35708 s - 1.14 \\left(0.84 c + \\left(1.14 c + s\\right) \\left(s + 1.0\\right)\\right) \\left(s + 1.26\\right) - \\left(1.14 c + s\\right) \\left(s + 1.26\\right) \\left(1.14 s + 1.98\\right)\\right)}{\\left(- \\left(- 2.226 c - 1.4 s\\right) \\left(1.2996 c + 1.14 s\\right) + \\left(0.84 c + \\left(1.14 c + s\\right) \\left(s + 1.0\\right)\\right) \\left(1.14 c + s\\right) \\left(s + 1.26\\right)\\right)^{2}} + \\frac{1.14 \\left(0.84 c + \\left(1.14 c + s\\right) \\left(s + 1.0\\right)\\right)}{- \\left(- 2.226 c - 1.4 s\\right) \\left(1.2996 c + 1.14 s\\right) + \\left(0.84 c + \\left(1.14 c + s\\right) \\left(s + 1.0\\right)\\right) \\left(1.14 c + s\\right) \\left(s + 1.26\\right)} + \\frac{\\left(1.14 c + s\\right) \\left(1.14 s + 1.98\\right)}{- \\left(- 2.226 c - 1.4 s\\right) \\left(1.2996 c + 1.14 s\\right) + \\left(0.84 c + \\left(1.14 c + s\\right) \\left(s + 1.0\\right)\\right) \\left(1.14 c + s\\right) \\left(s + 1.26\\right)}\\right)\\end{matrix}\\right]$$"
      ],
      "text/plain": [
       "⎡                                                                             \n",
       "⎢c⋅(-(-2.226⋅c - 1.4⋅s)⋅(1.2996⋅c + 1.14⋅s) + (0.84⋅c + (1.14⋅c + s)⋅(s + 1.0)\n",
       "⎢                                                                             \n",
       "⎢                                                                             \n",
       "⎢─────────────────────────────────────────────────────────────────────────────\n",
       "⎣                                                                             \n",
       "\n",
       "                           ⎛(0.84⋅c + (1.14⋅c + s)⋅(s + 1.0))⋅(1.14⋅c + s)⋅(-5\n",
       ")⋅(1.14⋅c + s)⋅(s + 1.26))⋅⎜──────────────────────────────────────────────────\n",
       "                           ⎜                                                  \n",
       "                           ⎝                                 (-(-2.226⋅c - 1.4\n",
       "──────────────────────────────────────────────────────────────────────────────\n",
       "                                                                              \n",
       "\n",
       ".7858192⋅c - 4.35708⋅s - 1.14⋅(0.84⋅c + (1.14⋅c + s)⋅(s + 1.0))⋅(s + 1.26) - (\n",
       "──────────────────────────────────────────────────────────────────────────────\n",
       "                                                                              \n",
       "⋅s)⋅(1.2996⋅c + 1.14⋅s) + (0.84⋅c + (1.14⋅c + s)⋅(s + 1.0))⋅(1.14⋅c + s)⋅(s + \n",
       "──────────────────────────────────────────────────────────────────────────────\n",
       "                                                             (0.84⋅c + (1.14⋅c\n",
       "\n",
       "1.14⋅c + s)⋅(s + 1.26)⋅(1.14⋅s + 1.98))                                  1.14⋅\n",
       "─────────────────────────────────────── + ────────────────────────────────────\n",
       "      2                                   -(-2.226⋅c - 1.4⋅s)⋅(1.2996⋅c + 1.14\n",
       "1.26))                                                                        \n",
       "──────────────────────────────────────────────────────────────────────────────\n",
       " + s)⋅(s + 1.0))⋅(1.14⋅c + s)                                                 \n",
       "\n",
       "(0.84⋅c + (1.14⋅c + s)⋅(s + 1.0))                                             \n",
       "─────────────────────────────────────────────────────────────── + ────────────\n",
       "⋅s) + (0.84⋅c + (1.14⋅c + s)⋅(s + 1.0))⋅(1.14⋅c + s)⋅(s + 1.26)   -(-2.226⋅c -\n",
       "                                                                              \n",
       "──────────────────────────────────────────────────────────────────────────────\n",
       "                                                                              \n",
       "\n",
       "                        (1.14⋅c + s)⋅(1.14⋅s + 1.98)                          \n",
       "──────────────────────────────────────────────────────────────────────────────\n",
       " 1.4⋅s)⋅(1.2996⋅c + 1.14⋅s) + (0.84⋅c + (1.14⋅c + s)⋅(s + 1.0))⋅(1.14⋅c + s)⋅(\n",
       "                                                                              \n",
       "──────────────────────────────────────────────────────────────────────────────\n",
       "                                                                              \n",
       "\n",
       "         ⎞⎤\n",
       "─────────⎟⎥\n",
       "s + 1.26)⎟⎥\n",
       "         ⎠⎥\n",
       "──────────⎥\n",
       "          ⎦"
      ]
     },
     "execution_count": 68,
     "metadata": {},
     "output_type": "execute_result"
    }
   ],
   "source": [
    "Sensitivityc = T.diff(c)*c/T\n",
    "Sensitivityc"
   ]
  },
  {
   "cell_type": "markdown",
   "metadata": {},
   "source": [
    "The sensitivity of the system is hard to tell based on the observation. "
   ]
  },
  {
   "cell_type": "markdown",
   "metadata": {},
   "source": [
    "#b) Assume it asks the sensitivity of the output of the system to $\\gamma$. \n",
    "so $S^T_\\gamma = \\frac{\\partial T}{\\partial\\gamma} * \\frac{\\gamma}{T}$ \n",
    "$$ = \\frac{\\partial \\gamma b }{\\partial \\gamma}\\frac{\\gamma}{\\gamma b} \\\\ \n",
    "    = 1$$. \n",
    " So the sensitivity of the system is a constant 1. Actually since it's only a multiplication factor of the output, the output is always porpotional to the $\\gamma$. "
   ]
  },
  {
   "cell_type": "markdown",
   "metadata": {
    "colab_type": "text",
    "id": "L2Kaf10xPS2j"
   },
   "source": [
    "# Task 6: Full State Feedback\n",
    "Assume we keep using the model from the linearization. So let's calculate the controllability of the system. "
   ]
  },
  {
   "cell_type": "code",
   "execution_count": 69,
   "metadata": {},
   "outputs": [
    {
     "data": {
      "text/latex": [
       "$$\\left ( \\left[\\begin{matrix}0 & 0 & 0.798\\\\0 & -1.14 & 2.5764\\\\1 & -1.26 & -0.00839999999999974\\end{matrix}\\right], \\quad 3\\right )$$"
      ],
      "text/plain": [
       "⎛⎡0    0           0.798        ⎤   ⎞\n",
       "⎜⎢                              ⎥   ⎟\n",
       "⎜⎢0  -1.14         2.5764       ⎥, 3⎟\n",
       "⎜⎢                              ⎥   ⎟\n",
       "⎝⎣1  -1.26  -0.00839999999999974⎦   ⎠"
      ]
     },
     "execution_count": 69,
     "metadata": {},
     "output_type": "execute_result"
    }
   ],
   "source": [
    "M = MatrixFromColumns([B,A*B,A*A*B])\n",
    "M,M.rank()"
   ]
  },
  {
   "cell_type": "markdown",
   "metadata": {},
   "source": [
    "Since it has the full rank, the system is controllable. \n",
    "So let's work on the Performance Specification: Settling time 4.5Hour, and 10% overshoot. \n",
    "For a rank 3 matrix, we will have 3 poles, so I choose to put another pole at -1."
   ]
  },
  {
   "cell_type": "code",
   "execution_count": 23,
   "metadata": {},
   "outputs": [
    {
     "data": {
      "text/latex": [
       "$$\\left [ -4.5 - 6.13969359228827 i, \\quad -4.5 + 6.13969359228827 i\\right ]$$"
      ],
      "text/plain": [
       "[-4.5 - 6.13969359228827⋅ⅈ, -4.5 + 6.13969359228827⋅ⅈ]"
      ]
     },
     "execution_count": 23,
     "metadata": {},
     "output_type": "execute_result"
    }
   ],
   "source": [
    "zeros"
   ]
  },
  {
   "cell_type": "code",
   "execution_count": 24,
   "metadata": {},
   "outputs": [
    {
     "data": {
      "text/latex": [
       "$$s^{3} + 10.0 s^{2} + 66.9496 s + 57.9496$$"
      ],
      "text/plain": [
       " 3         2                      \n",
       "s  + 10.0⋅s  + 66.9496⋅s + 57.9496"
      ]
     },
     "execution_count": 24,
     "metadata": {},
     "output_type": "execute_result"
    }
   ],
   "source": [
    "var(\"s\")\n",
    "desired_charpoly = ((s+4.5+6.14*I)*(s+4.5-6.14*I)*(s+1)).expand()\n",
    "desired_charpoly"
   ]
  },
  {
   "cell_type": "code",
   "execution_count": 25,
   "metadata": {},
   "outputs": [
    {
     "data": {
      "text/latex": [
       "$$0.798 k_{0} + 0.84 k_{2} + 0.84 s - \\left(k_{1} - 1.4\\right) \\left(1.14 s + 1.2996\\right) + \\left(s + 1.0\\right) \\left(s + 1.14\\right) \\left(k_{2} + s + 1.26\\right) + 1.7766$$"
      ],
      "text/plain": [
       "0.798⋅k₀ + 0.84⋅k₂ + 0.84⋅s - (k₁ - 1.4)⋅(1.14⋅s + 1.2996) + (s + 1.0)⋅(s + 1.\n",
       "14)⋅(k₂ + s + 1.26) + 1.7766"
      ]
     },
     "execution_count": 25,
     "metadata": {},
     "output_type": "execute_result"
    }
   ],
   "source": [
    "var(\"k0 k1 k2\")\n",
    "K = Matrix([[k0,k1,k2]])\n",
    "charpoly = (s*eye(3)-(A-B*K)).det()\n",
    "charpoly"
   ]
  },
  {
   "cell_type": "code",
   "execution_count": 26,
   "metadata": {},
   "outputs": [
    {
     "data": {
      "text/latex": [
       "$$\\left ( \\left[\\begin{matrix}1.0\\\\10.0\\\\66.9496\\\\57.9496\\end{matrix}\\right], \\quad \\left[\\begin{matrix}1.0\\\\1.0 k_{2} + 3.4\\\\- 1.14 k_{1} + 2.14 k_{2} + 6.2724\\\\0.798 k_{0} - 1.2996 k_{1} + 1.98 k_{2} + 5.03244\\end{matrix}\\right]\\right )$$"
      ],
      "text/plain": [
       "⎛⎡  1.0  ⎤  ⎡                  1.0                   ⎤⎞\n",
       "⎜⎢       ⎥  ⎢                                        ⎥⎟\n",
       "⎜⎢ 10.0  ⎥  ⎢              1.0⋅k₂ + 3.4              ⎥⎟\n",
       "⎜⎢       ⎥, ⎢                                        ⎥⎟\n",
       "⎜⎢66.9496⎥  ⎢      -1.14⋅k₁ + 2.14⋅k₂ + 6.2724       ⎥⎟\n",
       "⎜⎢       ⎥  ⎢                                        ⎥⎟\n",
       "⎝⎣57.9496⎦  ⎣0.798⋅k₀ - 1.2996⋅k₁ + 1.98⋅k₂ + 5.03244⎦⎠"
      ]
     },
     "execution_count": 26,
     "metadata": {},
     "output_type": "execute_result"
    }
   ],
   "source": [
    "c1 = Poly(desired_charpoly,s).coeffs()\n",
    "c2 = Poly(charpoly,s).coeffs()\n",
    "Matrix(c1), Matrix(c2)"
   ]
  },
  {
   "cell_type": "code",
   "execution_count": 27,
   "metadata": {},
   "outputs": [
    {
     "data": {
      "text/latex": [
       "$$\\left[\\begin{matrix}-16.5682807017544 & -40.8361403508772 & 6.6\\end{matrix}\\right]$$"
      ],
      "text/plain": [
       "[-16.5682807017544  -40.8361403508772  6.6]"
      ]
     },
     "execution_count": 27,
     "metadata": {},
     "output_type": "execute_result"
    }
   ],
   "source": [
    "gains = solve(Matrix(c1)-Matrix(c2),[k0,k1,k2])\n",
    "Ksol = K.subs(gains)\n",
    "Ksol"
   ]
  },
  {
   "cell_type": "markdown",
   "metadata": {},
   "source": [
    "so that a choice of $k_0 = -16.57$ , $k_1 = -40.84$ and $k_2 = 6.6$ will put the closed loop poles at the desired locations."
   ]
  },
  {
   "cell_type": "markdown",
   "metadata": {},
   "source": [
    "Impulse response: "
   ]
  },
  {
   "cell_type": "code",
   "execution_count": 28,
   "metadata": {},
   "outputs": [
    {
     "data": {
      "text/latex": [
       "$$s^{3} + 10.0 s^{2} + 66.94944 s + 57.9496416$$"
      ],
      "text/plain": [
       " 3         2                          \n",
       "s  + 10.0⋅s  + 66.94944⋅s + 57.9496416"
      ]
     },
     "execution_count": 28,
     "metadata": {},
     "output_type": "execute_result"
    }
   ],
   "source": [
    "#Transfer function polynomial\n",
    "charpoly = charpoly.subs(k2,6.6).subs(k1,-40.836).subs(k0,-16.568)\n",
    "charpoly.simplify()"
   ]
  },
  {
   "cell_type": "markdown",
   "metadata": {},
   "source": [
    "A-BK =\n",
    "\\begin{align}\n",
    "A-BK & = \\begin{pmatrix}\n",
    "-0.7 & -1.09 & 0  \\\\\n",
    "0.77 & -1  &-0.7\\\\\n",
    "-0.9 & -1   & -1.96\n",
    "\\end{pmatrix} - \\begin{pmatrix}\n",
    "0 \\\\\n",
    "0 \\\\\n",
    "1\n",
    "\\end{pmatrix} (6.6 \\;-40.84\\;-16.57 ) \\\\\n",
    " & = \\begin{pmatrix}\n",
    "-0.7 & -1.09 & 0  \\\\\n",
    "0.77 & -1  &-0.7\\\\\n",
    "-7.5 & 42.24  &14.61\n",
    "\\end{pmatrix} \n",
    "\\end{align}"
   ]
  },
  {
   "cell_type": "code",
   "execution_count": 70,
   "metadata": {},
   "outputs": [
    {
     "data": {
      "text/latex": [
       "$$\\frac{1.0 \\left(1.2 s^{2} + 2.568 s + 2.376\\right)}{1.2 s^{3} + 4.08 s^{2} + 7.52688 s + 6.038928}$$"
      ],
      "text/plain": [
       "         ⎛     2                  ⎞    \n",
       "     1.0⋅⎝1.2⋅s  + 2.568⋅s + 2.376⎠    \n",
       "───────────────────────────────────────\n",
       "     3         2                       \n",
       "1.2⋅s  + 4.08⋅s  + 7.52688⋅s + 6.038928"
      ]
     },
     "execution_count": 70,
     "metadata": {},
     "output_type": "execute_result"
    }
   ],
   "source": [
    "var(\"a0 a1 b0 b1 s\")\n",
    "ABK = Matrix([\n",
    "    [-0.7,-1.09,0],\n",
    "    [0.77,-1,-0.7],\n",
    "    [-7.5,42.24,14.61]\n",
    "])\n",
    "B = Matrix([[0],[0],[1]])\n",
    "C = Matrix([[0,0 , 1]])\n",
    "Tfs = (C*(s*eye(3)-A).inv()*B)[0]\n",
    "Tfs = cancel(Tfs)\n",
    "Tfs\n"
   ]
  },
  {
   "cell_type": "code",
   "execution_count": 89,
   "metadata": {
    "scrolled": false
   },
   "outputs": [
    {
     "data": {
      "text/plain": [
       "Text(0, 0.5, 'density')"
      ]
     },
     "execution_count": 89,
     "metadata": {},
     "output_type": "execute_result"
    },
    {
     "data": {
      "image/png": "[encoded data removed]",
      "text/plain": [
       "<Figure size 432x288 with 1 Axes>"
      ]
     },
     "metadata": {
      "needs_background": "light"
     },
     "output_type": "display_data"
    }
   ],
   "source": [
    "#Since it has bug when ILT the float  numbers, I rounded the numbers nearest ones.\n",
    "numt,dent = fraction(Tfs)\n",
    "T, ffs = impulse_response( TransferFunction([1.2,2.568,2.376],[1.2,4.08,7.527,6.039]))\n",
    "plt.plot(T,ffs)\n",
    "plt.title('impulse response for linear model')\n",
    "plt.xlabel('time(h)')\n",
    "plt.ylabel('density')"
   ]
  },
  {
   "cell_type": "markdown",
   "metadata": {
    "colab_type": "text",
    "id": "hlewO5ygPS2k"
   },
   "source": [
    "# Task 7: Observer Design\n",
    "\n",
    "a) Unfortunately, it is not easy to measure the population of algae or\n",
    "the concentration of nutrients. Determine whether the system is observable. If it is,\n",
    "design an observer for the system. Explain your choice of observer gains.\n",
    "\n",
    "b) Build a simulation of the system using your full state\n",
    "controller and the observer. Plot the impulse response using the\n",
    "linear and the nonlinear model. Assume that the concentration of\n",
    "nutrients is initially $n(0)=0$. Plot the estimates of the other\n",
    "states as well."
   ]
  },
  {
   "cell_type": "code",
   "execution_count": 42,
   "metadata": {},
   "outputs": [
    {
     "data": {
      "text/latex": [
       "$$\\left ( \\left[\\begin{matrix}0 & 0 & 1\\\\-0.9 & 1.4 & -1.26\\\\3.84 & -2.534 & -0.00839999999999974\\end{matrix}\\right], \\quad 3\\right )$$"
      ],
      "text/plain": [
       "⎛⎡ 0      0              1          ⎤   ⎞\n",
       "⎜⎢                                  ⎥   ⎟\n",
       "⎜⎢-0.9   1.4           -1.26        ⎥, 3⎟\n",
       "⎜⎢                                  ⎥   ⎟\n",
       "⎝⎣3.84  -2.534  -0.00839999999999974⎦   ⎠"
      ]
     },
     "execution_count": 42,
     "metadata": {},
     "output_type": "execute_result"
    }
   ],
   "source": [
    "O = Matrix([C,C*A,C*A**2])\n",
    "O, O.rank()"
   ]
  },
  {
   "cell_type": "markdown",
   "metadata": {},
   "source": [
    "Since O has full rank, the system is observable. "
   ]
  },
  {
   "cell_type": "code",
   "execution_count": 46,
   "metadata": {},
   "outputs": [],
   "source": [
    "Approx = Matrix([[-1,-0.7,0],[1,-1,-1],[-1,1.5,1.3]])"
   ]
  },
  {
   "cell_type": "code",
   "execution_count": 169,
   "metadata": {},
   "outputs": [
    {
     "data": {
      "image/png": "[encoded data removed]",
      "text/plain": [
       "<Figure size 1080x360 with 3 Axes>"
      ]
     },
     "metadata": {
      "needs_background": "light"
     },
     "output_type": "display_data"
    }
   ],
   "source": [
    "def input(t):\n",
    "    if t < 10:\n",
    "        return 1\n",
    "    elif t < 20:\n",
    "        return 0\n",
    "    else:\n",
    "        return 1 \n",
    "def f(X,t):\n",
    "    x = Matrix([X[:3]]).transpose()\n",
    "    xhat = Matrix([X[3:6]]).transpose()\n",
    "    u = input(t)\n",
    "    fb = L * ( C*x - C*xhat )\n",
    "    return flatten(\n",
    "        (A*x + B*u).tolist() + \n",
    "        (Approx*Matrix(xhat) + B*u).tolist())\n",
    "t=np.linspace(0,30,100)\n",
    "X = spi.odeint(f,[1,1,1,0,0,0],t)\n",
    "fig,ax = plt.subplots(1,3,figsize=(15,5))\n",
    "\n",
    "for i in range(3):\n",
    "    ax[i].plot(t,X[:,i],label=\"$x_%d$\" % (i+1))\n",
    "    ax[i].plot(t,X[:,3+i],label=\"$\\hat{x}_%d$\" % (i+1));\n",
    "    ax[i].set_xlabel(\"$t$\")\n",
    "    ax[i].legend()\n",
    "    \n",
    "ax[0].set_ylabel(\"state\");"
   ]
  },
  {
   "cell_type": "markdown",
   "metadata": {},
   "source": [
    "To put the poles at the place we designated, at -1, -4.5$\\pm$ 6.14i, we can find out the gain matrix L using A-LC. "
   ]
  },
  {
   "cell_type": "code",
   "execution_count": 175,
   "metadata": {},
   "outputs": [
    {
     "data": {
      "text/latex": [
       "$$\\left[\\begin{matrix}5.44576271186441\\\\-10.6694915254237\\\\0.3\\end{matrix}\\right]$$"
      ],
      "text/plain": [
       "⎡5.44576271186441 ⎤\n",
       "⎢                 ⎥\n",
       "⎢-10.6694915254237⎥\n",
       "⎢                 ⎥\n",
       "⎣       0.3       ⎦"
      ]
     },
     "execution_count": 175,
     "metadata": {},
     "output_type": "execute_result"
    }
   ],
   "source": [
    "An = np.array(Approx.transpose()).astype(np.float64)\n",
    "Cn = np.array(C.transpose()).astype(np.float64)\n",
    "\n",
    "desired_poles = 4*np.linalg.eig(An)[0]\n",
    "desired_poles = np.array([ -1, -4.5, 4.5])\n",
    "L = Matrix(place(An,Cn,desired_poles)).transpose()\n",
    "L"
   ]
  },
  {
   "cell_type": "code",
   "execution_count": 176,
   "metadata": {},
   "outputs": [
    {
     "data": {
      "image/png": "[encoded data removed]",
      "text/plain": [
       "<Figure size 1080x360 with 3 Axes>"
      ]
     },
     "metadata": {
      "needs_background": "light"
     },
     "output_type": "display_data"
    }
   ],
   "source": [
    "def input(t):\n",
    "    if t < 10:\n",
    "        return 1\n",
    "    elif t < 20:\n",
    "        return 0\n",
    "    else:\n",
    "        return 1 \n",
    "def f(X,t):\n",
    "    x = Matrix([X[:3]]).transpose()\n",
    "    xhat = Matrix([X[3:6]]).transpose()\n",
    "    u = input(t)\n",
    "    fb = L * ( C*x - C*xhat )\n",
    "    return flatten(\n",
    "        (A*x + B*u).tolist() + \n",
    "        (A*xhat + B*u + fb).tolist())\n",
    "\n",
    "t=np.linspace(0,40,400)\n",
    "X = spi.odeint(f,[3,2,1,0,0,0],t)\n",
    "fig,ax = plt.subplots(1,3,figsize=(15,5))\n",
    "\n",
    "for i in range(3):\n",
    "    ax[i].plot(t,X[:,i],label=\"$x_%d$\" % (i+1))\n",
    "    ax[i].plot(t,X[:,3+i],label=\"$\\hat{x}_%d$\" % (i+1));\n",
    "    ax[i].set_xlabel(\"$t$\")\n",
    "    ax[i].legend()\n",
    "    \n",
    "ax[0].set_ylabel(\"state\");"
   ]
  },
  {
   "cell_type": "markdown",
   "metadata": {},
   "source": [
    "As we can see, this is actually a bad design for the observer. "
   ]
  },
  {
   "cell_type": "markdown",
   "metadata": {
    "colab_type": "text",
    "id": "S5BFO2f7PS2l"
   },
   "source": [
    "# Task 8: Discretization\n",
    "\n",
    "Derive a discrete model of one of your controlled systems (either the root locus version, the full state feedback version, or the full state feedback with observer version).  Plot the magnitude of the eigenvalues of the closed loop system versus the sampling period. Determine maximum sampling period you can use with your controller that keeps the system stable."
   ]
  },
  {
   "cell_type": "code",
   "execution_count": 163,
   "metadata": {},
   "outputs": [
    {
     "ename": "SyntaxError",
     "evalue": "invalid syntax (<ipython-input-163-8280e9e67808>, line 1)",
     "output_type": "error",
     "traceback": [
      "\u001b[1;36m  File \u001b[1;32m\"<ipython-input-163-8280e9e67808>\"\u001b[1;36m, line \u001b[1;32m1\u001b[0m\n\u001b[1;33m    In this task I derived the discrete model for the controlled system in the full state feedback version.\u001b[0m\n\u001b[1;37m          ^\u001b[0m\n\u001b[1;31mSyntaxError\u001b[0m\u001b[1;31m:\u001b[0m invalid syntax\n"
     ]
    }
   ],
   "source": [
    "In this task I derived the discrete model for the controlled system in the full state feedback version. "
   ]
  },
  {
   "cell_type": "code",
   "execution_count": 160,
   "metadata": {},
   "outputs": [],
   "source": [
    "def trajectory(A,B,C,u,x0):\n",
    "    \"\"\"Simulate the discrete system x(k+1) = Ax(k) + Bu(k), y(k) = Cx(k)\n",
    "       starting at x0 for len(u) steps.\n",
    "    \"\"\"\n",
    "    i = 0\n",
    "    x = x0    \n",
    "    y = [np.matmul(C,x0)]\n",
    "    while i < len(u):\n",
    "        x = np.matmul(A,x) + B*u[i]\n",
    "        y = np.append(y,np.matmul(C,x))\n",
    "        i = i + 1\n"
   ]
  },
  {
   "cell_type": "code",
   "execution_count": 161,
   "metadata": {},
   "outputs": [
    {
     "data": {
      "text/plain": [
       "(array([[-1.14, -0.7 ,  0.  ],\n",
       "        [ 1.2 , -1.  , -1.14],\n",
       "        [-0.9 ,  1.4 , -1.26]]), array([[0],\n",
       "        [0],\n",
       "        [1]]), array([[0, 0, 1]]))"
      ]
     },
     "execution_count": 161,
     "metadata": {},
     "output_type": "execute_result"
    }
   ],
   "source": [
    "A,B,C"
   ]
  },
  {
   "cell_type": "code",
   "execution_count": 162,
   "metadata": {},
   "outputs": [
    {
     "ename": "ValueError",
     "evalue": "x, y, and format string must not be None",
     "output_type": "error",
     "traceback": [
      "\u001b[1;31m---------------------------------------------------------------------------\u001b[0m",
      "\u001b[1;31mValueError\u001b[0m                                Traceback (most recent call last)",
      "\u001b[1;32m<ipython-input-162-765616b3041a>\u001b[0m in \u001b[0;36m<module>\u001b[1;34m()\u001b[0m\n\u001b[0;32m     17\u001b[0m \u001b[0mt\u001b[0m \u001b[1;33m=\u001b[0m \u001b[0mnp\u001b[0m\u001b[1;33m.\u001b[0m\u001b[0mlinspace\u001b[0m\u001b[1;33m(\u001b[0m\u001b[1;36m0\u001b[0m\u001b[1;33m,\u001b[0m\u001b[1;36m30\u001b[0m\u001b[1;33m,\u001b[0m\u001b[1;36m31\u001b[0m\u001b[1;33m)\u001b[0m\u001b[1;33m\u001b[0m\u001b[0m\n\u001b[0;32m     18\u001b[0m \u001b[0mysim\u001b[0m \u001b[1;33m=\u001b[0m \u001b[0mtrajectory\u001b[0m\u001b[1;33m(\u001b[0m\u001b[0mA\u001b[0m\u001b[1;33m,\u001b[0m\u001b[0mB\u001b[0m\u001b[1;33m,\u001b[0m\u001b[0mC\u001b[0m\u001b[1;33m,\u001b[0m\u001b[0mu\u001b[0m\u001b[1;33m,\u001b[0m\u001b[0mx0\u001b[0m\u001b[1;33m)\u001b[0m\u001b[1;33m\u001b[0m\u001b[0m\n\u001b[1;32m---> 19\u001b[1;33m \u001b[0mplt\u001b[0m\u001b[1;33m.\u001b[0m\u001b[0mstep\u001b[0m\u001b[1;33m(\u001b[0m\u001b[0mt\u001b[0m\u001b[1;33m,\u001b[0m\u001b[0mysim\u001b[0m\u001b[1;33m)\u001b[0m\u001b[1;33m\u001b[0m\u001b[0m\n\u001b[0m\u001b[0;32m     20\u001b[0m \u001b[0mplt\u001b[0m\u001b[1;33m.\u001b[0m\u001b[0mxlabel\u001b[0m\u001b[1;33m(\u001b[0m\u001b[1;34m\"k\"\u001b[0m\u001b[1;33m)\u001b[0m\u001b[1;33m\u001b[0m\u001b[0m\n\u001b[0;32m     21\u001b[0m \u001b[0mplt\u001b[0m\u001b[1;33m.\u001b[0m\u001b[0mylabel\u001b[0m\u001b[1;33m(\u001b[0m\u001b[1;34m\"y(k)\"\u001b[0m\u001b[1;33m)\u001b[0m\u001b[1;33m\u001b[0m\u001b[0m\n",
      "\u001b[1;32m~\\Anaconda3\\lib\\site-packages\\matplotlib\\pyplot.py\u001b[0m in \u001b[0;36mstep\u001b[1;34m(x, y, where, data, *args, **kwargs)\u001b[0m\n\u001b[0;32m   2930\u001b[0m     return gca().step(\n\u001b[0;32m   2931\u001b[0m         x, y, *args, where=where, **({\"data\": data} if data is not\n\u001b[1;32m-> 2932\u001b[1;33m         None else {}), **kwargs)\n\u001b[0m\u001b[0;32m   2933\u001b[0m \u001b[1;33m\u001b[0m\u001b[0m\n\u001b[0;32m   2934\u001b[0m \u001b[1;33m\u001b[0m\u001b[0m\n",
      "\u001b[1;32m~\\Anaconda3\\lib\\site-packages\\matplotlib\\__init__.py\u001b[0m in \u001b[0;36minner\u001b[1;34m(ax, data, *args, **kwargs)\u001b[0m\n\u001b[0;32m   1808\u001b[0m                         \u001b[1;34m\"the Matplotlib list!)\"\u001b[0m \u001b[1;33m%\u001b[0m \u001b[1;33m(\u001b[0m\u001b[0mlabel_namer\u001b[0m\u001b[1;33m,\u001b[0m \u001b[0mfunc\u001b[0m\u001b[1;33m.\u001b[0m\u001b[0m__name__\u001b[0m\u001b[1;33m)\u001b[0m\u001b[1;33m,\u001b[0m\u001b[1;33m\u001b[0m\u001b[0m\n\u001b[0;32m   1809\u001b[0m                         RuntimeWarning, stacklevel=2)\n\u001b[1;32m-> 1810\u001b[1;33m             \u001b[1;32mreturn\u001b[0m \u001b[0mfunc\u001b[0m\u001b[1;33m(\u001b[0m\u001b[0max\u001b[0m\u001b[1;33m,\u001b[0m \u001b[1;33m*\u001b[0m\u001b[0margs\u001b[0m\u001b[1;33m,\u001b[0m \u001b[1;33m**\u001b[0m\u001b[0mkwargs\u001b[0m\u001b[1;33m)\u001b[0m\u001b[1;33m\u001b[0m\u001b[0m\n\u001b[0m\u001b[0;32m   1811\u001b[0m \u001b[1;33m\u001b[0m\u001b[0m\n\u001b[0;32m   1812\u001b[0m         inner.__doc__ = _add_data_doc(inner.__doc__,\n",
      "\u001b[1;32m~\\Anaconda3\\lib\\site-packages\\matplotlib\\axes\\_axes.py\u001b[0m in \u001b[0;36mstep\u001b[1;34m(self, x, y, where, *args, **kwargs)\u001b[0m\n\u001b[0;32m   2062\u001b[0m         \u001b[0mkwargs\u001b[0m\u001b[1;33m[\u001b[0m\u001b[1;34m'linestyle'\u001b[0m\u001b[1;33m]\u001b[0m \u001b[1;33m=\u001b[0m \u001b[1;34m'steps-'\u001b[0m \u001b[1;33m+\u001b[0m \u001b[0mwhere\u001b[0m \u001b[1;33m+\u001b[0m \u001b[0mkwargs\u001b[0m\u001b[1;33m.\u001b[0m\u001b[0mget\u001b[0m\u001b[1;33m(\u001b[0m\u001b[1;34m'linestyle'\u001b[0m\u001b[1;33m,\u001b[0m \u001b[1;34m''\u001b[0m\u001b[1;33m)\u001b[0m\u001b[1;33m\u001b[0m\u001b[0m\n\u001b[0;32m   2063\u001b[0m \u001b[1;33m\u001b[0m\u001b[0m\n\u001b[1;32m-> 2064\u001b[1;33m         \u001b[1;32mreturn\u001b[0m \u001b[0mself\u001b[0m\u001b[1;33m.\u001b[0m\u001b[0mplot\u001b[0m\u001b[1;33m(\u001b[0m\u001b[0mx\u001b[0m\u001b[1;33m,\u001b[0m \u001b[0my\u001b[0m\u001b[1;33m,\u001b[0m \u001b[1;33m*\u001b[0m\u001b[0margs\u001b[0m\u001b[1;33m,\u001b[0m \u001b[1;33m**\u001b[0m\u001b[0mkwargs\u001b[0m\u001b[1;33m)\u001b[0m\u001b[1;33m\u001b[0m\u001b[0m\n\u001b[0m\u001b[0;32m   2065\u001b[0m \u001b[1;33m\u001b[0m\u001b[0m\n\u001b[0;32m   2066\u001b[0m     @_preprocess_data(replace_names=[\"x\", \"left\",\n",
      "\u001b[1;32m~\\Anaconda3\\lib\\site-packages\\matplotlib\\__init__.py\u001b[0m in \u001b[0;36minner\u001b[1;34m(ax, data, *args, **kwargs)\u001b[0m\n\u001b[0;32m   1808\u001b[0m                         \u001b[1;34m\"the Matplotlib list!)\"\u001b[0m \u001b[1;33m%\u001b[0m \u001b[1;33m(\u001b[0m\u001b[0mlabel_namer\u001b[0m\u001b[1;33m,\u001b[0m \u001b[0mfunc\u001b[0m\u001b[1;33m.\u001b[0m\u001b[0m__name__\u001b[0m\u001b[1;33m)\u001b[0m\u001b[1;33m,\u001b[0m\u001b[1;33m\u001b[0m\u001b[0m\n\u001b[0;32m   1809\u001b[0m                         RuntimeWarning, stacklevel=2)\n\u001b[1;32m-> 1810\u001b[1;33m             \u001b[1;32mreturn\u001b[0m \u001b[0mfunc\u001b[0m\u001b[1;33m(\u001b[0m\u001b[0max\u001b[0m\u001b[1;33m,\u001b[0m \u001b[1;33m*\u001b[0m\u001b[0margs\u001b[0m\u001b[1;33m,\u001b[0m \u001b[1;33m**\u001b[0m\u001b[0mkwargs\u001b[0m\u001b[1;33m)\u001b[0m\u001b[1;33m\u001b[0m\u001b[0m\n\u001b[0m\u001b[0;32m   1811\u001b[0m \u001b[1;33m\u001b[0m\u001b[0m\n\u001b[0;32m   1812\u001b[0m         inner.__doc__ = _add_data_doc(inner.__doc__,\n",
      "\u001b[1;32m~\\Anaconda3\\lib\\site-packages\\matplotlib\\axes\\_axes.py\u001b[0m in \u001b[0;36mplot\u001b[1;34m(self, scalex, scaley, *args, **kwargs)\u001b[0m\n\u001b[0;32m   1609\u001b[0m         \u001b[0mkwargs\u001b[0m \u001b[1;33m=\u001b[0m \u001b[0mcbook\u001b[0m\u001b[1;33m.\u001b[0m\u001b[0mnormalize_kwargs\u001b[0m\u001b[1;33m(\u001b[0m\u001b[0mkwargs\u001b[0m\u001b[1;33m,\u001b[0m \u001b[0mmlines\u001b[0m\u001b[1;33m.\u001b[0m\u001b[0mLine2D\u001b[0m\u001b[1;33m.\u001b[0m\u001b[0m_alias_map\u001b[0m\u001b[1;33m)\u001b[0m\u001b[1;33m\u001b[0m\u001b[0m\n\u001b[0;32m   1610\u001b[0m \u001b[1;33m\u001b[0m\u001b[0m\n\u001b[1;32m-> 1611\u001b[1;33m         \u001b[1;32mfor\u001b[0m \u001b[0mline\u001b[0m \u001b[1;32min\u001b[0m \u001b[0mself\u001b[0m\u001b[1;33m.\u001b[0m\u001b[0m_get_lines\u001b[0m\u001b[1;33m(\u001b[0m\u001b[1;33m*\u001b[0m\u001b[0margs\u001b[0m\u001b[1;33m,\u001b[0m \u001b[1;33m**\u001b[0m\u001b[0mkwargs\u001b[0m\u001b[1;33m)\u001b[0m\u001b[1;33m:\u001b[0m\u001b[1;33m\u001b[0m\u001b[0m\n\u001b[0m\u001b[0;32m   1612\u001b[0m             \u001b[0mself\u001b[0m\u001b[1;33m.\u001b[0m\u001b[0madd_line\u001b[0m\u001b[1;33m(\u001b[0m\u001b[0mline\u001b[0m\u001b[1;33m)\u001b[0m\u001b[1;33m\u001b[0m\u001b[0m\n\u001b[0;32m   1613\u001b[0m             \u001b[0mlines\u001b[0m\u001b[1;33m.\u001b[0m\u001b[0mappend\u001b[0m\u001b[1;33m(\u001b[0m\u001b[0mline\u001b[0m\u001b[1;33m)\u001b[0m\u001b[1;33m\u001b[0m\u001b[0m\n",
      "\u001b[1;32m~\\Anaconda3\\lib\\site-packages\\matplotlib\\axes\\_base.py\u001b[0m in \u001b[0;36m_grab_next_args\u001b[1;34m(self, *args, **kwargs)\u001b[0m\n\u001b[0;32m    391\u001b[0m                 \u001b[0mthis\u001b[0m \u001b[1;33m+=\u001b[0m \u001b[0margs\u001b[0m\u001b[1;33m[\u001b[0m\u001b[1;36m0\u001b[0m\u001b[1;33m]\u001b[0m\u001b[1;33m,\u001b[0m\u001b[1;33m\u001b[0m\u001b[0m\n\u001b[0;32m    392\u001b[0m                 \u001b[0margs\u001b[0m \u001b[1;33m=\u001b[0m \u001b[0margs\u001b[0m\u001b[1;33m[\u001b[0m\u001b[1;36m1\u001b[0m\u001b[1;33m:\u001b[0m\u001b[1;33m]\u001b[0m\u001b[1;33m\u001b[0m\u001b[0m\n\u001b[1;32m--> 393\u001b[1;33m             \u001b[1;32myield\u001b[0m \u001b[1;32mfrom\u001b[0m \u001b[0mself\u001b[0m\u001b[1;33m.\u001b[0m\u001b[0m_plot_args\u001b[0m\u001b[1;33m(\u001b[0m\u001b[0mthis\u001b[0m\u001b[1;33m,\u001b[0m \u001b[0mkwargs\u001b[0m\u001b[1;33m)\u001b[0m\u001b[1;33m\u001b[0m\u001b[0m\n\u001b[0m\u001b[0;32m    394\u001b[0m \u001b[1;33m\u001b[0m\u001b[0m\n\u001b[0;32m    395\u001b[0m \u001b[1;33m\u001b[0m\u001b[0m\n",
      "\u001b[1;32m~\\Anaconda3\\lib\\site-packages\\matplotlib\\axes\\_base.py\u001b[0m in \u001b[0;36m_plot_args\u001b[1;34m(self, tup, kwargs)\u001b[0m\n\u001b[0;32m    351\u001b[0m         \u001b[1;31m# downstream.\u001b[0m\u001b[1;33m\u001b[0m\u001b[1;33m\u001b[0m\u001b[0m\n\u001b[0;32m    352\u001b[0m         \u001b[1;32mif\u001b[0m \u001b[0many\u001b[0m\u001b[1;33m(\u001b[0m\u001b[0mv\u001b[0m \u001b[1;32mis\u001b[0m \u001b[1;32mNone\u001b[0m \u001b[1;32mfor\u001b[0m \u001b[0mv\u001b[0m \u001b[1;32min\u001b[0m \u001b[0mtup\u001b[0m\u001b[1;33m)\u001b[0m\u001b[1;33m:\u001b[0m\u001b[1;33m\u001b[0m\u001b[0m\n\u001b[1;32m--> 353\u001b[1;33m             \u001b[1;32mraise\u001b[0m \u001b[0mValueError\u001b[0m\u001b[1;33m(\u001b[0m\u001b[1;34m\"x, y, and format string must not be None\"\u001b[0m\u001b[1;33m)\u001b[0m\u001b[1;33m\u001b[0m\u001b[0m\n\u001b[0m\u001b[0;32m    354\u001b[0m \u001b[1;33m\u001b[0m\u001b[0m\n\u001b[0;32m    355\u001b[0m         \u001b[0mkw\u001b[0m \u001b[1;33m=\u001b[0m \u001b[1;33m{\u001b[0m\u001b[1;33m}\u001b[0m\u001b[1;33m\u001b[0m\u001b[0m\n",
      "\u001b[1;31mValueError\u001b[0m: x, y, and format string must not be None"
     ]
    },
    {
     "data": {
      "image/png": "[encoded data removed]",
      "text/plain": [
       "<Figure size 432x288 with 1 Axes>"
      ]
     },
     "metadata": {
      "needs_background": "light"
     },
     "output_type": "display_data"
    }
   ],
   "source": [
    "A = np.array([\n",
    "    [-1.14,-0.7,0],\n",
    "    [1.2,-1.0,-1.14],\n",
    "    [-0.9,1.4,-1.26]\n",
    "])\n",
    "B = np.array([\n",
    "    [0],\n",
    "    [0],[1]\n",
    "])\n",
    "C = np.array([[0,0,1]])\n",
    "x0 = np.array([\n",
    "    [0],\n",
    "    [0],\n",
    "    [0]\n",
    "])\n",
    "u = np.ones(30);\n",
    "t = np.linspace(0,30,31)\n",
    "ysim = trajectory(A,B,C,u,x0)\n",
    "plt.step(t,ysim)\n",
    "plt.xlabel(\"k\")\n",
    "plt.ylabel(\"y(k)\")\n",
    "plt.title(\"Simulation of a discrete system\");"
   ]
  },
  {
   "cell_type": "markdown",
   "metadata": {},
   "source": [
    "I don't know where the problem is. "
   ]
  },
  {
   "cell_type": "code",
   "execution_count": 144,
   "metadata": {},
   "outputs": [],
   "source": [
    "def solution(A,B,C,u,x0):\n",
    "    k = len(u)\n",
    "    if k == 0:\n",
    "        return np.matmul(C,x0)[0]\n",
    "    else:\n",
    "        x = np.matmul(np.linalg\n",
    "                      .matrix_power(A,k),x0) + sum([\n",
    "              np.matmul(np.linalg.matrix_power(A,k-i-1),B)*u[i] for i in range(k)\n",
    "            ])\n",
    "        return np.matmul(C,x)[0,0]\n",
    "\n",
    "def step_response(A,B,C,n,mag=1):\n",
    "    # Note, this is a pretty innefficient way to compute a response. The\n",
    "    # simulation above is just as accurate, but much faster.\n",
    "    t = np.linspace(0,n,n+1)\n",
    "    x0 = np.zeros(len(B))\n",
    "    y = np.array([solution(A,B,C,mag*np.ones(k),x0) for k in range(n+1)])\n",
    "    return (t,y)"
   ]
  },
  {
   "cell_type": "code",
   "execution_count": 159,
   "metadata": {
    "colab": {},
    "colab_type": "code",
    "id": "kw5rtZ72PS2n"
   },
   "outputs": [
    {
     "data": {
      "image/png": "[encoded data removed]",
      "text/plain": [
       "<Figure size 432x288 with 1 Axes>"
      ]
     },
     "metadata": {
      "needs_background": "light"
     },
     "output_type": "display_data"
    }
   ],
   "source": [
    "t,y = step_response(A,B,C,25)\n",
    "plt.step(t,y)\n",
    "plt.xlabel(\"k\")\n",
    "plt.ylabel(\"y(k)\")\n",
    "plt.title(\"Solution to a discrete system\");"
   ]
  },
  {
   "cell_type": "markdown",
   "metadata": {},
   "source": [
    "## Conclusion: In this project I went through the knowlege point for the quarter. although there were many imperfection and errors, I've tried to debug it for days. The class material is fun and these would be useful in the future. "
   ]
  },
  {
   "cell_type": "code",
   "execution_count": null,
   "metadata": {},
   "outputs": [],
   "source": []
  }
 ],
 "metadata": {
  "colab": {
   "name": "“ece447_project.ipynb”的副本",
   "provenance": [
    {
     "file_id": "https://github.com/klavins/ECE447/blob/master/assignments/ece447_project.ipynb",
     "timestamp": 1559781815826
    }
   ],
   "version": "0.3.2"
  },
  "kernelspec": {
   "display_name": "Python 3",
   "language": "python",
   "name": "python3"
  },
  "language_info": {
   "codemirror_mode": {
    "name": "ipython",
    "version": 3
   },
   "file_extension": ".py",
   "mimetype": "text/x-python",
   "name": "python",
   "nbconvert_exporter": "python",
   "pygments_lexer": "ipython3",
   "version": "3.7.0"
  }
 },
 "nbformat": 4,
 "nbformat_minor": 1
}
