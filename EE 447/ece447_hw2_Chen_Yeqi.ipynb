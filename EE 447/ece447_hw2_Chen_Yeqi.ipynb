{
 "cells": [
  {
   "cell_type": "markdown",
   "metadata": {
    "colab_type": "text",
    "id": "k0eUY_GaetBa"
   },
   "source": [
    "## Homework 2 : Yeqi Chen \n",
    "===\n",
    "\n",
    "Python and Cruise Control\n",
    "\n",
    "**<span style=\"color: darkgreen\">Due Sunday April 14 at 11:59pm</span>**\n",
    "\n",
    "**Instructions:** Make a copy of this notebook that you can edit and save. If you are using CoLab, that means clicking File>Save and then \"SAVE A COPY IN DRIVE\". Then, for each problem, insert your answers directly underneath the problem description as one or more `Code` or `Markdown` cells as appropriate. Every code cell should execute without errors. TAs and graders may not have resources to debug your code. When you are satisfied with your answers upload your notebook to canvas. "
   ]
  },
  {
   "cell_type": "code",
   "execution_count": 279,
   "metadata": {},
   "outputs": [],
   "source": [
    "import numpy as np\n",
    "import scipy.integrate as spi\n",
    "import matplotlib.pyplot as plt\n",
    "import math\n",
    "%matplotlib inline"
   ]
  },
  {
   "cell_type": "markdown",
   "metadata": {
    "colab_type": "text",
    "id": "Qd1SoK7AetBe"
   },
   "source": [
    "**Relevant Reading**\n",
    "\n",
    "- Python Introduction [here](https://www.w3schools.com/python/python_intro.asp). Make a link to this page to use as a reference.\n",
    "- ECE447 Lecture on Cruise Control (April 8)"
   ]
  },
  {
   "cell_type": "markdown",
   "metadata": {
    "colab_type": "text",
    "id": "c8_Q9oHFetBf"
   },
   "source": [
    "1) Basic Python\n",
    "---\n",
    "\n",
    "**a)** Write a function called `approx_derivative` that approximates the derivative of a function. Its definition should look like:\n",
    "```python\n",
    "def approx_derivative(f,a,h):\n",
    "    # Your code here\n",
    "    return (f(a+h) - f(a))/ (h) \n",
    "```\n",
    "Use the [definition of the derivative](https://en.wikipedia.org/wiki/Derivative) (see the section titled \"Rigorous definition\") at $a$ as the slope of $f(a)$ near $a$, except without the limit. Show the results of testing your function to compute approximations of the derivative of `np.sin` at `a=0` with `h = 1, 0.1, 0.01, 0.001`. The approximations should get closer and closer to 1. "
   ]
  },
  {
   "cell_type": "code",
   "execution_count": 345,
   "metadata": {
    "scrolled": false
   },
   "outputs": [
    {
     "name": "stdout",
     "output_type": "stream",
     "text": [
      "0.8414709848078965\n",
      "0.9983341664682815\n",
      "0.9999833334166665\n",
      "0.9999998333333416\n"
     ]
    }
   ],
   "source": [
    "#Test \n",
    "print(approx_derivative(np.sin,0,1))\n",
    "\n",
    "print(approx_derivative(np.sin,0,0.1))\n",
    "\n",
    "print(approx_derivative(np.sin,0,0.01))\n",
    "\n",
    "print(approx_derivative(np.sin,0,0.001))"
   ]
  },
  {
   "cell_type": "markdown",
   "metadata": {
    "colab_type": "text",
    "id": "Ah-ZEynEetBg"
   },
   "source": [
    "**b)** Write a function called `approx_integral` that approximates the integral of a function. Its definition should look like:\n",
    "```python\n",
    "def approx_integral(f,x1,x2,delta):\n",
    "    # Your code here\n",
    "    #t = np.arange(x1,x2,(x2-x1)/delta)\n",
    "    #x = np.linspace(x1,x2,(x2-x1)/delta)\n",
    "    sum = 0\n",
    "    for i in range (int((x2-x1)/delta)): \n",
    "        sum += (f(x1+i * delta)*delta)\n",
    "    return sum \n",
    "                \n",
    "    \n",
    "```\n",
    "and should use the approximation to the definite integral as a sum of the areas of rectangles with base ranging from `x` to `x+delta` and height `f(x)` as x goes from `x1` to `x2` in steps of size `delta`. Show the results of testing your function to compute approximations of the integral of `np.sin` from `0` to $\\pi$ with `delta = 1, 0.1, 0.01, 0.001`. The approximations should get closer and closer to 2. "
   ]
  },
  {
   "cell_type": "code",
   "execution_count": 346,
   "metadata": {
    "scrolled": false
   },
   "outputs": [
    {
     "name": "stdout",
     "output_type": "stream",
     "text": [
      "1.7507684116335782\n",
      "1.9953898934692686\n",
      "1.9999741017790822\n",
      "1.999999361387435\n"
     ]
    }
   ],
   "source": [
    "#test \n",
    "print(approx_integral(np.sin,0,np.pi,1))\n",
    "print(approx_integral(np.sin,0,np.pi,0.1))\n",
    "print(approx_integral(np.sin,0,np.pi,0.01))\n",
    "print(approx_integral(np.sin,0,np.pi,0.001))\n"
   ]
  },
  {
   "cell_type": "markdown",
   "metadata": {
    "colab_type": "text",
    "id": "q7AB7ZByetBg"
   },
   "source": [
    "2) Plotting\n",
    "---\n",
    "\n",
    "**a)** Make a 2x2 grid plot of the following functions:\n",
    "\n",
    "- $y = -t$ \n",
    "- $y = 1 - e^{-t}$ \n",
    "- $y = 1 - t e^{-t}$ \n",
    "- $y = 1 - e^{-t} \\sin(5t)$ \n",
    "\n",
    "Let $t$ range from $0$ to $10$. Label each x axis by $t$ and y axis with $y$. "
   ]
  },
  {
   "cell_type": "code",
   "execution_count": 347,
   "metadata": {},
   "outputs": [
    {
     "data": {
      "text/plain": [
       "Text(0,0.5,'y')"
      ]
     },
     "execution_count": 347,
     "metadata": {},
     "output_type": "execute_result"
    },
    {
     "data": {
      "image/png": "[encoded data removed]",
      "text/plain": [
       "<Figure size 432x288 with 4 Axes>"
      ]
     },
     "metadata": {
      "needs_background": "light"
     },
     "output_type": "display_data"
    }
   ],
   "source": [
    "t = np.linspace(0,10,1000)\n",
    "y1 = -t\n",
    "y2 = 1-np.exp(-t)\n",
    "y3 = 1-t*np.exp(-t)\n",
    "y4 = 1-np.exp(-t)*np.sin(5*t)\n",
    "fig1= plt.figure(1)\n",
    "fig1.subplots_adjust(hspace = 0.6, wspace = 0.5)\n",
    "\n",
    "yy1 = plt.subplot(2,2,1)\n",
    "plt.plot(t,y1)\n",
    "plt.title(\"$y=-t$\")\n",
    "plt.xlabel('t')\n",
    "plt.ylabel('y')\n",
    "\n",
    "yy1 = plt.subplot(2,2,2)\n",
    "plt.plot(t,y2)\n",
    "plt.title(\"$1-e^{-t}$\")\n",
    "plt.xlabel('t')\n",
    "plt.ylabel('y')\n",
    "\n",
    "yy1 = plt.subplot(2,2,3)\n",
    "plt.plot(t,y3)\n",
    "plt.title(\"$y=1-te^{-t}$\")\n",
    "plt.xlabel('t')\n",
    "plt.ylabel('y')\n",
    "\n",
    "yy1 = plt.subplot(2,2,4)\n",
    "plt.plot(t,y4)\n",
    "plt.title(\"$y=1-e^{-t}sin(5t)$\")\n",
    "plt.xlabel('t')\n",
    "plt.ylabel('y')\n"
   ]
  },
  {
   "cell_type": "markdown",
   "metadata": {
    "colab_type": "text",
    "id": "-Om4ayaDetBh"
   },
   "source": [
    "**b)** Make a *single* plot of the functions\n",
    "\n",
    "> $y = 1 - e^{-\\omega t} \\sin(\\omega t)$ \n",
    "\n",
    "as $\\omega$ goes from $0$ to $1$ (inclusive) in steps of $0.25$. Put all five curves on top of each other. Label your axes and make a legend with curves labeled by, for example, $\\omega$ = 0.25, etc."
   ]
  },
  {
   "cell_type": "code",
   "execution_count": 348,
   "metadata": {},
   "outputs": [
    {
     "data": {
      "text/plain": [
       "<matplotlib.legend.Legend at 0x2940bd3f6d8>"
      ]
     },
     "execution_count": 348,
     "metadata": {},
     "output_type": "execute_result"
    },
    {
     "data": {
      "image/png": "[encoded data removed]",
      "text/plain": [
       "<Figure size 432x288 with 1 Axes>"
      ]
     },
     "metadata": {
      "needs_background": "light"
     },
     "output_type": "display_data"
    }
   ],
   "source": [
    "def fun(omega, t):\n",
    "     y= 1 - np.exp(-omega*t)*np.sin(omega*t)\n",
    "     return y\n",
    "\n",
    "t = np.linspace(-1,1,1000)\n",
    "for i in range (0,5,1): \n",
    "    omega = 0.25 * i \n",
    "    y = fun(omega,t)\n",
    "    lb = \"$\\omega$ = {}\".format(omega) \n",
    "    plt.plot(t,y,label = lb)\n",
    "  \n",
    "plt.xlabel('$t$')\n",
    "plt.ylabel('$y$')\n",
    "plt.title('Different $\\omega$ of y in range (-1,1), with sampling frequency 500')\n",
    "plt.legend()\n",
    "\n"
   ]
  },
  {
   "cell_type": "markdown",
   "metadata": {
    "colab_type": "text",
    "collapsed": true,
    "id": "c_nAz7n3etBi"
   },
   "source": [
    "3) Sensitivity \n",
    "---\n",
    "\n",
    "Consder the system \n",
    "\n",
    "> $\\dot x = k \\; u - x$\n",
    "\n",
    "where $k$ is an unknown parameter with estimate $k_{est}$ and actual value $k_{actual}$. \n",
    "\n",
    "**a)** Find an open loop control law (a constant) for $u$ that makes the steady state  $x_{ss}$ equal to a desired state $x_{des}$.\n",
    "\n",
    "**b)** Find $x_{ss}$ in terms of $k_{est}$ and $k_{actual}$ and explain what happens to $x_{ss}$ upon a 10% change in $k$. Plot $x_{ss}$ as a function of $k_{actual}$ as $k_{actual}$ goes from\n",
    "\n",
    "> $0.9 k_{est}$ \n",
    "\n",
    "to \n",
    "\n",
    "> $1.1 k_{est}$.\n",
    "\n",
    "Assume $k_{est} = 10$. *Label and title your plot!*.\n",
    "\n",
    "**c)** Find a proportional controller for $u$ that makes the steady state $x_{ss}$ equal to a desired state $x_{des}$.\n",
    "\n",
    "**d)** Find the steady state velocity $x_{ss}$ in terms of $k_{est}$, $k_{actual}$, and $K_P$. Explain what happens to $x_{ss}$ when $K_P$ increases and what happens as it goes to infinity. \n",
    "\n",
    "**e)** Suppose $x_{des} = 1$ and $k_{est} = 10$ and $k_{actual} = 9$. Find a value for $K_P$, call it $K_P^*$, that makes $|x_{ss} - x_{des}| < 0.01$. Make a plot of $x_ss$ as $K_P$ varies from $0$ to $K_P^*$.  "
   ]
  },
  {
   "cell_type": "markdown",
   "metadata": {},
   "source": [
    "## Answer: "
   ]
  },
  {
   "cell_type": "markdown",
   "metadata": {},
   "source": [
    "### a) \n",
    "### derive the $u$ by setting $\\dot x = 0$: \n",
    "    \n",
    "   ###  \n",
    "   > $ku = x$ \n",
    "    \n",
    "   ### solve for  $u$ : \n",
    "   > $u = \\frac{x_{des}}{k}$\n",
    "\n"
   ]
  },
  {
   "cell_type": "markdown",
   "metadata": {},
   "source": [
    "### b) \n",
    "### if we bring in in actual $k$ and estimate $k$: \n",
    "<br> \n",
    "### $\\dot x = \\frac{x_{des}}{k_{est}}\\cdot k_{actual} -x$\n",
    "<br> \n",
    "### at steady-state, the velocity of the car will be: \n",
    "<br> \n",
    "### $x_{ss} = \\frac{{x_{des}}{k_{actual}}}{k_{est}}$\n",
    "### so if $k_{actual}$ change, $x$ would behave as below:  \n"
   ]
  },
  {
   "cell_type": "code",
   "execution_count": 349,
   "metadata": {},
   "outputs": [
    {
     "data": {
      "text/plain": [
       "<matplotlib.legend.Legend at 0x2940c046ba8>"
      ]
     },
     "execution_count": 349,
     "metadata": {},
     "output_type": "execute_result"
    },
    {
     "data": {
      "image/png": "[encoded data removed]",
      "text/plain": [
       "<Figure size 432x288 with 1 Axes>"
      ]
     },
     "metadata": {
      "needs_background": "light"
     },
     "output_type": "display_data"
    }
   ],
   "source": [
    "\n",
    "k_a = np.linspace(9,11,100) \n",
    "k_est = np.linspace(10,10,100)\n",
    "#assume x_des equal to 1. \n",
    "x_des = np.ones(100)\n",
    "plt.plot(k_a,x_des*k_a/k_est, label = '$x_{ss}$')\n",
    "plt.plot(k_a,x_des, label = '$x_{des}$') \n",
    "\n",
    "plt.xlabel('$k_{actual}$')\n",
    "plt.ylabel('$x_{ss}$')\n",
    "plt.title('$x_{ss}$ vs $k_{actual}$ compare to $x_{des}$')\n",
    "plt.legend()\n"
   ]
  },
  {
   "cell_type": "markdown",
   "metadata": {},
   "source": [
    "### c) \n",
    "### $ e = x_{des}-x$ \n",
    "    \n",
    "### for propotional feedback system: \n",
    "  \n",
    "> $u = u_{ff} + K_pe$ \n",
    "    <br>\n",
    "> $ = \\frac{x_{des}}{k}+ K_p(x_{des}-x)$ \n",
    "\n",
    "### when in steady-states and $x_{ss} = x_{des}$ , the formula becomes: \n",
    "> $  k*(\\frac{x_{des}}{k}+ K_p(x_{des}-x_{ss})) - x_{ss}$\n",
    "    <br>\n",
    "> $ = 0 $ \n",
    "\n",
    "### which meets the requirement that $\\dot x = 0$. "
   ]
  },
  {
   "cell_type": "markdown",
   "metadata": {},
   "source": [
    "### d) \n",
    "\n",
    "### if we consider $k_{est}$ and $k_{actual}$, the full equation becomes: \n",
    "\n",
    "### $\\dot x = k_{actual}(\\frac {x_{des}}{k_{est}}+K_p(x_{des}-x))-x$\n",
    "\n",
    "### setting $\\dot v = 0$ and $v_{ss} = v$ and solving for  $v_{ss}$ gives: \n",
    "### $x_{ss} = \\frac{\\frac{k_{actual}}{k_{est}} + K_p*k_{actual}}{1+k_{actual} * K_p} x_{des}$\n",
    "\n",
    "### if we assume that the $k_{actual}$ and $k_{est}$ is properly close (thus the ratio is not infinity) and $k_{actual}\\neq 0$ , as $K_p$ approaches to infinity, this fraction will be close to 1. \n"
   ]
  },
  {
   "cell_type": "markdown",
   "metadata": {},
   "source": [
    "### e) \n",
    "### plug in the data above: \n",
    "\n",
    "### $x_{ss} = \\frac{\\frac{9}{10} + K_p^**9}{1+9 * K_p^*}*1$\n",
    "\n",
    "### plug in to the inequality: \n",
    "\n",
    "### $|\\frac{\\frac{9}{10} + K_p^**9}{1+9 * K_p^*}*1-1| < 0.01$\n",
    "so $-1.22 < K_p^* < 1$ and $K_p \\neq 0.11$. \n",
    "### so the plot: \n"
   ]
  },
  {
   "cell_type": "code",
   "execution_count": 344,
   "metadata": {},
   "outputs": [
    {
     "data": {
      "image/png": "[encoded data removed]",
      "text/plain": [
       "<Figure size 432x288 with 1 Axes>"
      ]
     },
     "metadata": {
      "needs_background": "light"
     },
     "output_type": "display_data"
    },
    {
     "data": {
      "image/png": "[encoded data removed]",
      "text/plain": [
       "<Figure size 432x288 with 1 Axes>"
      ]
     },
     "metadata": {
      "needs_background": "light"
     },
     "output_type": "display_data"
    }
   ],
   "source": [
    "k_p = np.linspace(-1.22, 1, 222)\n",
    "x_ss = (0.9+ 9*k_p)/(1 + 9*k_p)\n",
    "x_des = np.ones(222)\n",
    "\n",
    "plt.figure()\n",
    "plt.plot(k_p, x_ss, label = '$x_{ss}$')\n",
    "plt.plot(k_p, x_des, label = '$x_{des}$')\n",
    "plt.xlabel('$K_p$')\n",
    "plt.ylabel('x')\n",
    "plt.legend()\n",
    "plt.title('Graph for the whole domain of $K_p$')\n",
    "plt.show()\n",
    "\n",
    "plt.figure()\n",
    "plt.plot(k_p, x_ss, label = '$x_{ss}$')\n",
    "plt.plot(k_p, x_des, label =  '$x_{des}$')\n",
    "plt.xlabel('$K_p$')\n",
    "plt.ylabel('x')\n",
    "plt.legend()\n",
    "plt.xlim(0,1)\n",
    "plt.title('graph for x from 0 to $K_p$')\n",
    "plt.show()"
   ]
  },
  {
   "cell_type": "code",
   "execution_count": null,
   "metadata": {},
   "outputs": [],
   "source": []
  }
 ],
 "metadata": {
  "colab": {
   "name": "“ece447_hw2.ipynb”的副本",
   "provenance": [
    {
     "file_id": "https://github.com/klavins/ECE447/blob/master/assignments/ece447_hw2.ipynb",
     "timestamp": 1555243651454
    }
   ],
   "version": "0.3.2"
  },
  "kernelspec": {
   "display_name": "Python 3",
   "language": "python",
   "name": "python3"
  },
  "language_info": {
   "codemirror_mode": {
    "name": "ipython",
    "version": 3
   },
   "file_extension": ".py",
   "mimetype": "text/x-python",
   "name": "python",
   "nbconvert_exporter": "python",
   "pygments_lexer": "ipython3",
   "version": "3.7.0"
  }
 },
 "nbformat": 4,
 "nbformat_minor": 1
}
